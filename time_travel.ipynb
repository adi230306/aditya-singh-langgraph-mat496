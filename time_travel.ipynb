{
  "cells": [
    {
      "cell_type": "markdown",
      "id": "9902a6a3",
      "metadata": {
        "id": "9902a6a3"
      },
      "source": [
        "[![Open in Colab](https://colab.research.google.com/assets/colab-badge.svg)](https://colab.research.google.com/github/langchain-ai/langchain-academy/blob/main/module-3/time-travel.ipynb) [![Open in LangChain Academy](https://cdn.prod.website-files.com/65b8cd72835ceeacd4449a53/66e9eba12c7b7688aa3dbb5e_LCA-badge-green.svg)](https://academy.langchain.com/courses/take/intro-to-langgraph/lessons/58239536-lesson-5-time-travel)"
      ]
    },
    {
      "cell_type": "markdown",
      "id": "ba98beac-d461-4d7d-878a-11beca03ea1c",
      "metadata": {
        "id": "ba98beac-d461-4d7d-878a-11beca03ea1c"
      },
      "source": [
        "# Time travel\n",
        "\n",
        "## Review\n",
        "\n",
        "We discussed motivations for human-in-the-loop:\n",
        "\n",
        "(1) `Approval` - We can interrupt our agent, surface state to a user, and allow the user to accept an action\n",
        "\n",
        "(2) `Debugging` - We can rewind the graph to reproduce or avoid issues\n",
        "\n",
        "(3) `Editing` - You can modify the state\n",
        "\n",
        "We showed how breakpoints can stop the graph at specific nodes or allow the graph to dynamically interrupt itself.\n",
        "\n",
        "Then we showed how to proceed with human approval or directly edit the graph state with human feedback.\n",
        "\n",
        "## Goals\n",
        "\n",
        "Now, let's show how LangGraph [supports debugging](https://langchain-ai.github.io/langgraph/how-tos/human_in_the_loop/time-travel/) by viewing, re-playing, and even forking from past states.\n",
        "\n",
        "We call this `time travel`."
      ]
    },
    {
      "cell_type": "code",
      "execution_count": 1,
      "id": "bd48aeb6-8478-4cb4-aef1-d524b80824d3",
      "metadata": {
        "id": "bd48aeb6-8478-4cb4-aef1-d524b80824d3"
      },
      "outputs": [],
      "source": [
        "%%capture --no-stderr\n",
        "%pip install --quiet -U langgraph langchain_openai langgraph_sdk langgraph-prebuilt"
      ]
    },
    {
      "cell_type": "code",
      "execution_count": 2,
      "id": "7d32093f",
      "metadata": {
        "colab": {
          "base_uri": "https://localhost:8080/"
        },
        "id": "7d32093f",
        "outputId": "aa3399f1-017f-419c-b9be-ceaba096ac6a"
      },
      "outputs": [
        {
          "name": "stdout",
          "output_type": "stream",
          "text": [
            "OPENAI_API_KEY: ··········\n"
          ]
        }
      ],
      "source": [
        "import os, getpass\n",
        "\n",
        "def _set_env(var: str):\n",
        "    if not os.environ.get(var):\n",
        "        os.environ[var] = getpass.getpass(f\"{var}: \")\n",
        "\n",
        "_set_env(\"OPENAI_API_KEY\")"
      ]
    },
    {
      "cell_type": "markdown",
      "id": "0497d316-832a-4668-b133-fd317ee81220",
      "metadata": {
        "id": "0497d316-832a-4668-b133-fd317ee81220"
      },
      "source": [
        "Let's build our agent."
      ]
    },
    {
      "cell_type": "code",
      "execution_count": 3,
      "id": "d64ab3a1-b39c-4176-88c7-791a0b80c725",
      "metadata": {
        "id": "d64ab3a1-b39c-4176-88c7-791a0b80c725"
      },
      "outputs": [],
      "source": [
        "from langchain_openai import ChatOpenAI\n",
        "\n",
        "def multiply(a: int, b: int) -> int:\n",
        "    \"\"\"Multiply a and b.\n",
        "\n",
        "    Args:\n",
        "        a: first int\n",
        "        b: second int\n",
        "    \"\"\"\n",
        "    return a * b\n",
        "\n",
        "# This will be a tool\n",
        "def add(a: int, b: int) -> int:\n",
        "    \"\"\"Adds a and b.\n",
        "\n",
        "    Args:\n",
        "        a: first int\n",
        "        b: second int\n",
        "    \"\"\"\n",
        "    return a + b\n",
        "\n",
        "def divide(a: int, b: int) -> float:\n",
        "    \"\"\"Divide a by b.\n",
        "\n",
        "    Args:\n",
        "        a: first int\n",
        "        b: second int\n",
        "    \"\"\"\n",
        "    return a / b\n",
        "\n",
        "tools = [add, multiply, divide]\n",
        "llm = ChatOpenAI(model=\"gpt-4o\")\n",
        "llm_with_tools = llm.bind_tools(tools)"
      ]
    },
    {
      "cell_type": "code",
      "source": [
        "from langchain_openai import ChatOpenAI\n",
        "\n",
        "def square(n: int) -> int:\n",
        "    \"\"\"Calculate the square of a number.\n",
        "\n",
        "    Args:\n",
        "        n: The number to square\n",
        "    \"\"\"\n",
        "    return n * n\n",
        "\n",
        "def cube(n: int) -> int:\n",
        "    \"\"\"Calculate the cube of a number.\n",
        "\n",
        "    Args:\n",
        "        n: The number to cube\n",
        "    \"\"\"\n",
        "    return n * n * n\n",
        "\n",
        "def double(n: int) -> int:\n",
        "    \"\"\"Double a number.\n",
        "\n",
        "    Args:\n",
        "        n: The number to double\n",
        "    \"\"\"\n",
        "    return n * 2\n",
        "\n",
        "tools = [square, cube, double]\n",
        "llm = ChatOpenAI(model=\"gpt-4o\")\n",
        "llm_with_tools = llm.bind_tools(tools)"
      ],
      "metadata": {
        "id": "khwQfBi9x7XZ"
      },
      "id": "khwQfBi9x7XZ",
      "execution_count": 22,
      "outputs": []
    },
    {
      "cell_type": "code",
      "execution_count": 4,
      "id": "1d8622a9-57cd-44dc-8696-46c5ab32d0b9",
      "metadata": {
        "colab": {
          "base_uri": "https://localhost:8080/",
          "height": 266
        },
        "id": "1d8622a9-57cd-44dc-8696-46c5ab32d0b9",
        "outputId": "31d975ed-7aba-4f91-f0e4-c1d157771458"
      },
      "outputs": [
        {
          "output_type": "display_data",
          "data": {
            "image/png": "[encoded data removed]",
            "text/plain": [
              "<IPython.core.display.Image object>"
            ]
          },
          "metadata": {}
        }
      ],
      "source": [
        "from IPython.display import Image, display\n",
        "\n",
        "from langgraph.checkpoint.memory import MemorySaver\n",
        "from langgraph.graph import MessagesState\n",
        "from langgraph.graph import START, END, StateGraph\n",
        "from langgraph.prebuilt import tools_condition, ToolNode\n",
        "\n",
        "from langchain_core.messages import AIMessage, HumanMessage, SystemMessage\n",
        "\n",
        "# System message\n",
        "sys_msg = SystemMessage(content=\"You are a helpful assistant tasked with performing arithmetic on a set of inputs.\")\n",
        "\n",
        "# Node\n",
        "def assistant(state: MessagesState):\n",
        "   return {\"messages\": [llm_with_tools.invoke([sys_msg] + state[\"messages\"])]}\n",
        "\n",
        "# Graph\n",
        "builder = StateGraph(MessagesState)\n",
        "\n",
        "# Define nodes: these do the work\n",
        "builder.add_node(\"assistant\", assistant)\n",
        "builder.add_node(\"tools\", ToolNode(tools))\n",
        "\n",
        "# Define edges: these determine the control flow\n",
        "builder.add_edge(START, \"assistant\")\n",
        "builder.add_conditional_edges(\n",
        "    \"assistant\",\n",
        "    # If the latest message (result) from assistant is a tool call -> tools_condition routes to tools\n",
        "    # If the latest message (result) from assistant is a not a tool call -> tools_condition routes to END\n",
        "    tools_condition,\n",
        ")\n",
        "builder.add_edge(\"tools\", \"assistant\")\n",
        "\n",
        "memory = MemorySaver()\n",
        "graph = builder.compile(checkpointer=MemorySaver())\n",
        "\n",
        "# Show\n",
        "display(Image(graph.get_graph(xray=True).draw_mermaid_png()))"
      ]
    },
    {
      "cell_type": "code",
      "source": [
        "from IPython.display import Image, display\n",
        "\n",
        "from langgraph.checkpoint.memory import MemorySaver\n",
        "from langgraph.graph import MessagesState\n",
        "from langgraph.graph import START, END, StateGraph\n",
        "from langgraph.prebuilt import tools_condition, ToolNode\n",
        "\n",
        "from langchain_core.messages import AIMessage, HumanMessage, SystemMessage\n",
        "\n",
        "# System message\n",
        "sys_msg = SystemMessage(content=\"You are a helpful assistant tasked with performing mathematical operations on numbers.\")\n",
        "\n",
        "# Node\n",
        "def assistant(state: MessagesState):\n",
        "   return {\"messages\": [llm_with_tools.invoke([sys_msg] + state[\"messages\"])]}\n",
        "\n",
        "# Graph\n",
        "builder = StateGraph(MessagesState)\n",
        "\n",
        "# Define nodes: these do the work\n",
        "builder.add_node(\"assistant\", assistant)\n",
        "builder.add_node(\"tools\", ToolNode(tools))\n",
        "\n",
        "# Define edges: these determine the control flow\n",
        "builder.add_edge(START, \"assistant\")\n",
        "builder.add_conditional_edges(\n",
        "    \"assistant\",\n",
        "    # If the latest message (result) from assistant is a tool call -> tools_condition routes to tools\n",
        "    # If the latest message (result) from assistant is a not a tool call -> tools_condition routes to END\n",
        "    tools_condition,\n",
        ")\n",
        "builder.add_edge(\"tools\", \"assistant\")\n",
        "\n",
        "memory = MemorySaver()\n",
        "graph = builder.compile(checkpointer=MemorySaver())\n",
        "\n",
        "# Show\n",
        "display(Image(graph.get_graph(xray=True).draw_mermaid_png()))"
      ],
      "metadata": {
        "colab": {
          "base_uri": "https://localhost:8080/",
          "height": 266
        },
        "id": "fks4sRb3x-FG",
        "outputId": "9e2484bc-177b-4884-bc9c-1274c7a96180"
      },
      "id": "fks4sRb3x-FG",
      "execution_count": 23,
      "outputs": [
        {
          "output_type": "display_data",
          "data": {
            "image/png": "[encoded data removed]",
            "text/plain": [
              "<IPython.core.display.Image object>"
            ]
          },
          "metadata": {}
        }
      ]
    },
    {
      "cell_type": "markdown",
      "id": "fab18a04-1329-47ac-a25b-4e01bf756e2a",
      "metadata": {
        "id": "fab18a04-1329-47ac-a25b-4e01bf756e2a"
      },
      "source": [
        "Let's run it, as before."
      ]
    },
    {
      "cell_type": "code",
      "execution_count": 24,
      "id": "05b2ab62-82bc-4356-8d5b-2d4f49069fdd",
      "metadata": {
        "colab": {
          "base_uri": "https://localhost:8080/"
        },
        "id": "05b2ab62-82bc-4356-8d5b-2d4f49069fdd",
        "outputId": "57a4569d-8922-4ead-bd58-fec6f17ff3b4"
      },
      "outputs": [
        {
          "output_type": "stream",
          "name": "stdout",
          "text": [
            "================================\u001b[1m Human Message \u001b[0m=================================\n",
            "\n",
            "Calculate the square of 5 and then double the result\n",
            "==================================\u001b[1m Ai Message \u001b[0m==================================\n",
            "Tool Calls:\n",
            "  square (call_3TW7pHwKo0fuHWX4hiAAole9)\n",
            " Call ID: call_3TW7pHwKo0fuHWX4hiAAole9\n",
            "  Args:\n",
            "    n: 5\n",
            "=================================\u001b[1m Tool Message \u001b[0m=================================\n",
            "Name: square\n",
            "\n",
            "25\n",
            "==================================\u001b[1m Ai Message \u001b[0m==================================\n",
            "Tool Calls:\n",
            "  double (call_IwDVO75iLXCKNqjEU6OsHGOI)\n",
            " Call ID: call_IwDVO75iLXCKNqjEU6OsHGOI\n",
            "  Args:\n",
            "    n: 25\n",
            "=================================\u001b[1m Tool Message \u001b[0m=================================\n",
            "Name: double\n",
            "\n",
            "50\n",
            "==================================\u001b[1m Ai Message \u001b[0m==================================\n",
            "\n",
            "The square of 5 is 25, and doubling that result gives 50.\n"
          ]
        }
      ],
      "source": [
        "# Input\n",
        "initial_input = {\"messages\": HumanMessage(content=\"Calculate the square of 5 and then double the result\")}\n",
        "\n",
        "# Thread\n",
        "thread = {\"configurable\": {\"thread_id\": \"1\"}}\n",
        "\n",
        "# Run the graph until the first interruption\n",
        "for event in graph.stream(initial_input, thread, stream_mode=\"values\"):\n",
        "    event['messages'][-1].pretty_print()"
      ]
    },
    {
      "cell_type": "markdown",
      "id": "268cfa43-22d1-4d63-8d81-a3ce00f1f2c8",
      "metadata": {
        "id": "268cfa43-22d1-4d63-8d81-a3ce00f1f2c8"
      },
      "source": [
        "## Browsing History\n",
        "\n",
        "We can use `get_state` to look at the **current** state of our graph, given the `thread_id`!"
      ]
    },
    {
      "cell_type": "code",
      "execution_count": 6,
      "id": "161eb053-18f6-4c99-8674-8cbd11cae57e",
      "metadata": {
        "colab": {
          "base_uri": "https://localhost:8080/"
        },
        "id": "161eb053-18f6-4c99-8674-8cbd11cae57e",
        "outputId": "77a42bf0-153a-49a5-a334-46f5328b8a8f"
      },
      "outputs": [
        {
          "output_type": "execute_result",
          "data": {
            "text/plain": [
              "StateSnapshot(values={'messages': [HumanMessage(content='Multiply 2 and 3', additional_kwargs={}, response_metadata={}, id='456a7f3e-867f-452c-ac1d-709748ba5606'), AIMessage(content='', additional_kwargs={'refusal': None}, response_metadata={'token_usage': {'completion_tokens': 17, 'prompt_tokens': 131, 'total_tokens': 148, 'completion_tokens_details': {'accepted_prediction_tokens': 0, 'audio_tokens': 0, 'reasoning_tokens': 0, 'rejected_prediction_tokens': 0}, 'prompt_tokens_details': {'audio_tokens': 0, 'cached_tokens': 0}}, 'model_provider': 'openai', 'model_name': 'gpt-4o-2024-08-06', 'system_fingerprint': 'fp_65564d8ba5', 'id': 'chatcmpl-CVLWjE8YHd0NvkYqQqMSZR1CzJK6r', 'service_tier': 'default', 'finish_reason': 'tool_calls', 'logprobs': None}, id='lc_run--ca07b059-38c9-4c11-9878-2a0e8db0949f-0', tool_calls=[{'name': 'multiply', 'args': {'a': 2, 'b': 3}, 'id': 'call_ugTpGijXQ0Sxz4A6mRudbG0K', 'type': 'tool_call'}], usage_metadata={'input_tokens': 131, 'output_tokens': 17, 'total_tokens': 148, 'input_token_details': {'audio': 0, 'cache_read': 0}, 'output_token_details': {'audio': 0, 'reasoning': 0}}), ToolMessage(content='6', name='multiply', id='7d3d1a29-cdae-4bc4-99fb-39b1c566f59c', tool_call_id='call_ugTpGijXQ0Sxz4A6mRudbG0K'), AIMessage(content='The result of multiplying 2 and 3 is 6.', additional_kwargs={'refusal': None}, response_metadata={'token_usage': {'completion_tokens': 14, 'prompt_tokens': 156, 'total_tokens': 170, 'completion_tokens_details': {'accepted_prediction_tokens': 0, 'audio_tokens': 0, 'reasoning_tokens': 0, 'rejected_prediction_tokens': 0}, 'prompt_tokens_details': {'audio_tokens': 0, 'cached_tokens': 0}}, 'model_provider': 'openai', 'model_name': 'gpt-4o-2024-08-06', 'system_fingerprint': 'fp_65564d8ba5', 'id': 'chatcmpl-CVLWkK34in7Kbnx1DjGfuwL6j5rgZ', 'service_tier': 'default', 'finish_reason': 'stop', 'logprobs': None}, id='lc_run--ad563cba-9873-4720-a489-8d2a58f2b99d-0', usage_metadata={'input_tokens': 156, 'output_tokens': 14, 'total_tokens': 170, 'input_token_details': {'audio': 0, 'cache_read': 0}, 'output_token_details': {'audio': 0, 'reasoning': 0}})]}, next=(), config={'configurable': {'thread_id': '1', 'checkpoint_ns': '', 'checkpoint_id': '1f0b35c5-2d91-61fb-8003-d89d5ed160d5'}}, metadata={'source': 'loop', 'step': 3, 'parents': {}}, created_at='2025-10-27T17:42:35.680587+00:00', parent_config={'configurable': {'thread_id': '1', 'checkpoint_ns': '', 'checkpoint_id': '1f0b35c5-232d-6879-8002-4ed3940ff809'}}, tasks=(), interrupts=())"
            ]
          },
          "metadata": {},
          "execution_count": 6
        }
      ],
      "source": [
        "graph.get_state({'configurable': {'thread_id': '1'}})"
      ]
    },
    {
      "cell_type": "code",
      "source": [
        "graph.get_state({'configurable': {'thread_id': '1'}})"
      ],
      "metadata": {
        "colab": {
          "base_uri": "https://localhost:8080/"
        },
        "id": "s-C0gwy0yIVW",
        "outputId": "0d33462c-b81f-4115-ffe7-fbfcb5f6e6c0"
      },
      "id": "s-C0gwy0yIVW",
      "execution_count": 25,
      "outputs": [
        {
          "output_type": "execute_result",
          "data": {
            "text/plain": [
              "StateSnapshot(values={'messages': [HumanMessage(content='Calculate the square of 5 and then double the result', additional_kwargs={}, response_metadata={}, id='597374e0-953c-4144-9bf5-55c8e58a2f8e'), AIMessage(content='', additional_kwargs={'refusal': None}, response_metadata={'token_usage': {'completion_tokens': 13, 'prompt_tokens': 122, 'total_tokens': 135, 'completion_tokens_details': {'accepted_prediction_tokens': 0, 'audio_tokens': 0, 'reasoning_tokens': 0, 'rejected_prediction_tokens': 0}, 'prompt_tokens_details': {'audio_tokens': 0, 'cached_tokens': 0}}, 'model_provider': 'openai', 'model_name': 'gpt-4o-2024-08-06', 'system_fingerprint': 'fp_a788c5aef0', 'id': 'chatcmpl-CVLbS8pRnx7zGtUarsqelVC1z46GZ', 'service_tier': 'default', 'finish_reason': 'tool_calls', 'logprobs': None}, id='lc_run--7b2a8fbc-c902-4fcc-85a5-8fc82745466b-0', tool_calls=[{'name': 'square', 'args': {'n': 5}, 'id': 'call_3TW7pHwKo0fuHWX4hiAAole9', 'type': 'tool_call'}], usage_metadata={'input_tokens': 122, 'output_tokens': 13, 'total_tokens': 135, 'input_token_details': {'audio': 0, 'cache_read': 0}, 'output_token_details': {'audio': 0, 'reasoning': 0}}), ToolMessage(content='25', name='square', id='1814c1ae-a5ad-4562-824b-4d4d3425cbe8', tool_call_id='call_3TW7pHwKo0fuHWX4hiAAole9'), AIMessage(content='', additional_kwargs={'refusal': None}, response_metadata={'token_usage': {'completion_tokens': 13, 'prompt_tokens': 143, 'total_tokens': 156, 'completion_tokens_details': {'accepted_prediction_tokens': 0, 'audio_tokens': 0, 'reasoning_tokens': 0, 'rejected_prediction_tokens': 0}, 'prompt_tokens_details': {'audio_tokens': 0, 'cached_tokens': 0}}, 'model_provider': 'openai', 'model_name': 'gpt-4o-2024-08-06', 'system_fingerprint': 'fp_a788c5aef0', 'id': 'chatcmpl-CVLbTNbvMLMpY4roqsNZzgCq99fSb', 'service_tier': 'default', 'finish_reason': 'tool_calls', 'logprobs': None}, id='lc_run--f1dad54c-2396-4c6c-9d0a-4c11124d0f7c-0', tool_calls=[{'name': 'double', 'args': {'n': 25}, 'id': 'call_IwDVO75iLXCKNqjEU6OsHGOI', 'type': 'tool_call'}], usage_metadata={'input_tokens': 143, 'output_tokens': 13, 'total_tokens': 156, 'input_token_details': {'audio': 0, 'cache_read': 0}, 'output_token_details': {'audio': 0, 'reasoning': 0}}), ToolMessage(content='50', name='double', id='5a6da833-7b3a-4588-9393-0c4c880bebec', tool_call_id='call_IwDVO75iLXCKNqjEU6OsHGOI'), AIMessage(content='The square of 5 is 25, and doubling that result gives 50.', additional_kwargs={'refusal': None}, response_metadata={'token_usage': {'completion_tokens': 18, 'prompt_tokens': 164, 'total_tokens': 182, 'completion_tokens_details': {'accepted_prediction_tokens': 0, 'audio_tokens': 0, 'reasoning_tokens': 0, 'rejected_prediction_tokens': 0}, 'prompt_tokens_details': {'audio_tokens': 0, 'cached_tokens': 0}}, 'model_provider': 'openai', 'model_name': 'gpt-4o-2024-08-06', 'system_fingerprint': 'fp_a788c5aef0', 'id': 'chatcmpl-CVLbVNZV4NJJuqPePLOZm1M0xvHtu', 'service_tier': 'default', 'finish_reason': 'stop', 'logprobs': None}, id='lc_run--26f275f0-2e65-4cb2-8e70-4f1b58a7a459-0', usage_metadata={'input_tokens': 164, 'output_tokens': 18, 'total_tokens': 182, 'input_token_details': {'audio': 0, 'cache_read': 0}, 'output_token_details': {'audio': 0, 'reasoning': 0}})]}, next=(), config={'configurable': {'thread_id': '1', 'checkpoint_ns': '', 'checkpoint_id': '1f0b35d0-24e4-6019-8005-409017d070eb'}}, metadata={'source': 'loop', 'step': 5, 'parents': {}}, created_at='2025-10-27T17:47:30.049818+00:00', parent_config={'configurable': {'thread_id': '1', 'checkpoint_ns': '', 'checkpoint_id': '1f0b35d0-1a4e-6f38-8004-b5abee304436'}}, tasks=(), interrupts=())"
            ]
          },
          "metadata": {},
          "execution_count": 25
        }
      ]
    },
    {
      "cell_type": "markdown",
      "id": "8d00869e-7b41-4d71-ad3c-cacf8f9c029f",
      "metadata": {
        "id": "8d00869e-7b41-4d71-ad3c-cacf8f9c029f"
      },
      "source": [
        "We can also browse the state history of our agent.\n",
        "\n",
        "`get_state_history` lets us get the state at all prior steps.\n"
      ]
    },
    {
      "cell_type": "code",
      "execution_count": 7,
      "id": "3010169c-3bfa-498c-a30c-7ba53744e4d5",
      "metadata": {
        "id": "3010169c-3bfa-498c-a30c-7ba53744e4d5"
      },
      "outputs": [],
      "source": [
        "all_states = [s for s in graph.get_state_history(thread)]"
      ]
    },
    {
      "cell_type": "code",
      "source": [
        "all_states = [s for s in graph.get_state_history(thread)]"
      ],
      "metadata": {
        "id": "4phqXDFGyMet"
      },
      "id": "4phqXDFGyMet",
      "execution_count": 26,
      "outputs": []
    },
    {
      "cell_type": "code",
      "execution_count": 8,
      "id": "c4612ccf-59fc-4848-8845-0433fee2ca8e",
      "metadata": {
        "colab": {
          "base_uri": "https://localhost:8080/"
        },
        "id": "c4612ccf-59fc-4848-8845-0433fee2ca8e",
        "outputId": "715be394-f0d2-4b1d-9b0a-b53ceee7a6fe"
      },
      "outputs": [
        {
          "output_type": "execute_result",
          "data": {
            "text/plain": [
              "5"
            ]
          },
          "metadata": {},
          "execution_count": 8
        }
      ],
      "source": [
        "len(all_states)"
      ]
    },
    {
      "cell_type": "code",
      "source": [
        "len(all_states)"
      ],
      "metadata": {
        "colab": {
          "base_uri": "https://localhost:8080/"
        },
        "id": "yKJ-RlNqyP36",
        "outputId": "fb4d7153-9b42-4cb0-d3bc-24deac7d323f"
      },
      "id": "yKJ-RlNqyP36",
      "execution_count": 27,
      "outputs": [
        {
          "output_type": "execute_result",
          "data": {
            "text/plain": [
              "7"
            ]
          },
          "metadata": {},
          "execution_count": 27
        }
      ]
    },
    {
      "cell_type": "markdown",
      "id": "af30f269-1152-4fa1-a7c6-2947acad9a27",
      "metadata": {
        "id": "af30f269-1152-4fa1-a7c6-2947acad9a27"
      },
      "source": [
        "The first element is the current state, just as we got from `get_state`."
      ]
    },
    {
      "cell_type": "code",
      "execution_count": 9,
      "id": "4e60b292-8efc-4cc3-b836-51f060fa608b",
      "metadata": {
        "colab": {
          "base_uri": "https://localhost:8080/"
        },
        "id": "4e60b292-8efc-4cc3-b836-51f060fa608b",
        "outputId": "242d71a0-8cd1-4df8-ad15-dcc353b0a17a"
      },
      "outputs": [
        {
          "output_type": "execute_result",
          "data": {
            "text/plain": [
              "StateSnapshot(values={'messages': [HumanMessage(content='Multiply 2 and 3', additional_kwargs={}, response_metadata={}, id='456a7f3e-867f-452c-ac1d-709748ba5606')]}, next=('assistant',), config={'configurable': {'thread_id': '1', 'checkpoint_ns': '', 'checkpoint_id': '1f0b35c5-18f0-62b9-8000-9352703a990b'}}, metadata={'source': 'loop', 'step': 0, 'parents': {}}, created_at='2025-10-27T17:42:33.517479+00:00', parent_config={'configurable': {'thread_id': '1', 'checkpoint_ns': '', 'checkpoint_id': '1f0b35c5-18e7-6780-bfff-614b6e5a575c'}}, tasks=(PregelTask(id='0b423cbb-2869-11d0-47dd-73744f4dd5d0', name='assistant', path=('__pregel_pull', 'assistant'), error=None, interrupts=(), state=None, result={'messages': [AIMessage(content='', additional_kwargs={'refusal': None}, response_metadata={'token_usage': {'completion_tokens': 17, 'prompt_tokens': 131, 'total_tokens': 148, 'completion_tokens_details': {'accepted_prediction_tokens': 0, 'audio_tokens': 0, 'reasoning_tokens': 0, 'rejected_prediction_tokens': 0}, 'prompt_tokens_details': {'audio_tokens': 0, 'cached_tokens': 0}}, 'model_provider': 'openai', 'model_name': 'gpt-4o-2024-08-06', 'system_fingerprint': 'fp_65564d8ba5', 'id': 'chatcmpl-CVLWjE8YHd0NvkYqQqMSZR1CzJK6r', 'service_tier': 'default', 'finish_reason': 'tool_calls', 'logprobs': None}, id='lc_run--ca07b059-38c9-4c11-9878-2a0e8db0949f-0', tool_calls=[{'name': 'multiply', 'args': {'a': 2, 'b': 3}, 'id': 'call_ugTpGijXQ0Sxz4A6mRudbG0K', 'type': 'tool_call'}], usage_metadata={'input_tokens': 131, 'output_tokens': 17, 'total_tokens': 148, 'input_token_details': {'audio': 0, 'cache_read': 0}, 'output_token_details': {'audio': 0, 'reasoning': 0}})]}),), interrupts=())"
            ]
          },
          "metadata": {},
          "execution_count": 9
        }
      ],
      "source": [
        "all_states[-2]"
      ]
    },
    {
      "cell_type": "code",
      "source": [
        "all_states[-2]"
      ],
      "metadata": {
        "colab": {
          "base_uri": "https://localhost:8080/"
        },
        "id": "oLKME24wyUsO",
        "outputId": "2fcfd99a-f65d-458d-a712-ea2a6f88b35c"
      },
      "id": "oLKME24wyUsO",
      "execution_count": 28,
      "outputs": [
        {
          "output_type": "execute_result",
          "data": {
            "text/plain": [
              "StateSnapshot(values={'messages': [HumanMessage(content='Calculate the square of 5 and then double the result', additional_kwargs={}, response_metadata={}, id='597374e0-953c-4144-9bf5-55c8e58a2f8e')]}, next=('assistant',), config={'configurable': {'thread_id': '1', 'checkpoint_ns': '', 'checkpoint_id': '1f0b35d0-033b-6468-8000-31787d136f6b'}}, metadata={'source': 'loop', 'step': 0, 'parents': {}}, created_at='2025-10-27T17:47:26.520416+00:00', parent_config={'configurable': {'thread_id': '1', 'checkpoint_ns': '', 'checkpoint_id': '1f0b35d0-0338-646f-bfff-e5ef4310ae10'}}, tasks=(PregelTask(id='89c7252d-2e47-8126-f884-5f33950e8502', name='assistant', path=('__pregel_pull', 'assistant'), error=None, interrupts=(), state=None, result={'messages': [AIMessage(content='', additional_kwargs={'refusal': None}, response_metadata={'token_usage': {'completion_tokens': 13, 'prompt_tokens': 122, 'total_tokens': 135, 'completion_tokens_details': {'accepted_prediction_tokens': 0, 'audio_tokens': 0, 'reasoning_tokens': 0, 'rejected_prediction_tokens': 0}, 'prompt_tokens_details': {'audio_tokens': 0, 'cached_tokens': 0}}, 'model_provider': 'openai', 'model_name': 'gpt-4o-2024-08-06', 'system_fingerprint': 'fp_a788c5aef0', 'id': 'chatcmpl-CVLbS8pRnx7zGtUarsqelVC1z46GZ', 'service_tier': 'default', 'finish_reason': 'tool_calls', 'logprobs': None}, id='lc_run--7b2a8fbc-c902-4fcc-85a5-8fc82745466b-0', tool_calls=[{'name': 'square', 'args': {'n': 5}, 'id': 'call_3TW7pHwKo0fuHWX4hiAAole9', 'type': 'tool_call'}], usage_metadata={'input_tokens': 122, 'output_tokens': 13, 'total_tokens': 135, 'input_token_details': {'audio': 0, 'cache_read': 0}, 'output_token_details': {'audio': 0, 'reasoning': 0}})]}),), interrupts=())"
            ]
          },
          "metadata": {},
          "execution_count": 28
        }
      ]
    },
    {
      "cell_type": "markdown",
      "id": "4148a710-ceed-413b-b93c-070c6c792fa2",
      "metadata": {
        "id": "4148a710-ceed-413b-b93c-070c6c792fa2"
      },
      "source": [
        "Everything above we can visualize here:\n",
        "\n",
        "![fig1.jpg](https://cdn.prod.website-files.com/65b8cd72835ceeacd4449a53/66dbb038211b544898570be3_time-travel1.png)"
      ]
    },
    {
      "cell_type": "markdown",
      "id": "a5ad554a-faf3-489f-a9a9-774f4ec2a526",
      "metadata": {
        "id": "a5ad554a-faf3-489f-a9a9-774f4ec2a526"
      },
      "source": [
        "## Replaying\n",
        "\n",
        "We can re-run our agent from any of the prior steps.\n",
        "\n",
        "![fig2.jpg](https://cdn.prod.website-files.com/65b8cd72835ceeacd4449a53/66dbb038a0bd34b541c78fb8_time-travel2.png)"
      ]
    },
    {
      "cell_type": "markdown",
      "id": "e135d2db-d613-42da-877e-d429f21aaefd",
      "metadata": {
        "id": "e135d2db-d613-42da-877e-d429f21aaefd"
      },
      "source": [
        "Let's look back at the step that recieved human input!"
      ]
    },
    {
      "cell_type": "code",
      "execution_count": 10,
      "id": "3688e511-a440-4330-a450-e5ed889c3b30",
      "metadata": {
        "id": "3688e511-a440-4330-a450-e5ed889c3b30"
      },
      "outputs": [],
      "source": [
        "to_replay = all_states[-2]"
      ]
    },
    {
      "cell_type": "code",
      "source": [
        "to_replay = all_states[-2]"
      ],
      "metadata": {
        "id": "XUzs6E8wyX_s"
      },
      "id": "XUzs6E8wyX_s",
      "execution_count": 29,
      "outputs": []
    },
    {
      "cell_type": "code",
      "execution_count": null,
      "id": "72adf296-d519-4bdc-af03-3b29799e9534",
      "metadata": {
        "id": "72adf296-d519-4bdc-af03-3b29799e9534",
        "outputId": "9f5ca237-35a4-4c0a-9d44-5b6f305eb0c3"
      },
      "outputs": [
        {
          "data": {
            "text/plain": [
              "StateSnapshot(values={'messages': [HumanMessage(content='Multiply 2 and 3', id='4ee8c440-0e4a-47d7-852f-06e2a6c4f84d')]}, next=('assistant',), config={'configurable': {'thread_id': '1', 'checkpoint_ns': '', 'checkpoint_id': '1ef6a440-a003-6c74-8000-8a2d82b0d126'}}, metadata={'source': 'loop', 'writes': None, 'step': 0, 'parents': {}}, created_at='2024-09-03T22:29:52.988265+00:00', parent_config={'configurable': {'thread_id': '1', 'checkpoint_ns': '', 'checkpoint_id': '1ef6a440-9ffe-6512-bfff-9e6d8dc24bba'}}, tasks=(PregelTask(id='ca669906-0c4f-5165-840d-7a6a3fce9fb9', name='assistant', error=None, interrupts=(), state=None),))"
            ]
          },
          "execution_count": 9,
          "metadata": {},
          "output_type": "execute_result"
        }
      ],
      "source": [
        "to_replay"
      ]
    },
    {
      "cell_type": "markdown",
      "id": "571e7894-6546-48ff-9c25-fa6d120391b3",
      "metadata": {
        "id": "571e7894-6546-48ff-9c25-fa6d120391b3"
      },
      "source": [
        "Look at the state."
      ]
    },
    {
      "cell_type": "code",
      "execution_count": 11,
      "id": "6fe69428-f364-4330-bf5d-aa966c7f3b07",
      "metadata": {
        "colab": {
          "base_uri": "https://localhost:8080/"
        },
        "id": "6fe69428-f364-4330-bf5d-aa966c7f3b07",
        "outputId": "a4a87e31-8a09-40eb-f107-579eef3e95c2"
      },
      "outputs": [
        {
          "output_type": "execute_result",
          "data": {
            "text/plain": [
              "{'messages': [HumanMessage(content='Multiply 2 and 3', additional_kwargs={}, response_metadata={}, id='456a7f3e-867f-452c-ac1d-709748ba5606')]}"
            ]
          },
          "metadata": {},
          "execution_count": 11
        }
      ],
      "source": [
        "to_replay.values"
      ]
    },
    {
      "cell_type": "code",
      "source": [
        "to_replay.values"
      ],
      "metadata": {
        "colab": {
          "base_uri": "https://localhost:8080/"
        },
        "id": "PWUZGWo7ycEX",
        "outputId": "180e8e39-5748-4e85-e04e-a3995590be6a"
      },
      "id": "PWUZGWo7ycEX",
      "execution_count": 30,
      "outputs": [
        {
          "output_type": "execute_result",
          "data": {
            "text/plain": [
              "{'messages': [HumanMessage(content='Calculate the square of 5 and then double the result', additional_kwargs={}, response_metadata={}, id='597374e0-953c-4144-9bf5-55c8e58a2f8e')]}"
            ]
          },
          "metadata": {},
          "execution_count": 30
        }
      ]
    },
    {
      "cell_type": "markdown",
      "id": "ff2df545-cc80-4962-a34a-faac7af8eb3d",
      "metadata": {
        "id": "ff2df545-cc80-4962-a34a-faac7af8eb3d"
      },
      "source": [
        "We can see the next node to call."
      ]
    },
    {
      "cell_type": "code",
      "execution_count": 12,
      "id": "d2f333f9-9b2b-46f6-ac3a-525f86b20f1b",
      "metadata": {
        "colab": {
          "base_uri": "https://localhost:8080/"
        },
        "id": "d2f333f9-9b2b-46f6-ac3a-525f86b20f1b",
        "outputId": "ce498294-7063-4a3a-f4ec-9f4f03ab6324"
      },
      "outputs": [
        {
          "output_type": "execute_result",
          "data": {
            "text/plain": [
              "('assistant',)"
            ]
          },
          "metadata": {},
          "execution_count": 12
        }
      ],
      "source": [
        "to_replay.next"
      ]
    },
    {
      "cell_type": "code",
      "source": [
        "to_replay.next"
      ],
      "metadata": {
        "colab": {
          "base_uri": "https://localhost:8080/"
        },
        "id": "7jHinTR5yem3",
        "outputId": "1b4c8396-e2c5-493b-d7e5-d65958381bce"
      },
      "id": "7jHinTR5yem3",
      "execution_count": 31,
      "outputs": [
        {
          "output_type": "execute_result",
          "data": {
            "text/plain": [
              "('assistant',)"
            ]
          },
          "metadata": {},
          "execution_count": 31
        }
      ]
    },
    {
      "cell_type": "markdown",
      "id": "b8938c18-5c22-47df-b71e-40afa73c87af",
      "metadata": {
        "id": "b8938c18-5c22-47df-b71e-40afa73c87af"
      },
      "source": [
        "We also get the config, which tells us the `checkpoint_id` as well as the `thread_id`."
      ]
    },
    {
      "cell_type": "code",
      "execution_count": 13,
      "id": "b1298786-afa5-4277-927e-708a8629231b",
      "metadata": {
        "colab": {
          "base_uri": "https://localhost:8080/"
        },
        "id": "b1298786-afa5-4277-927e-708a8629231b",
        "outputId": "0fe6b2cd-c92a-4838-fa3d-1a47b42ecc84"
      },
      "outputs": [
        {
          "output_type": "execute_result",
          "data": {
            "text/plain": [
              "{'configurable': {'thread_id': '1',\n",
              "  'checkpoint_ns': '',\n",
              "  'checkpoint_id': '1f0b35c5-18f0-62b9-8000-9352703a990b'}}"
            ]
          },
          "metadata": {},
          "execution_count": 13
        }
      ],
      "source": [
        "to_replay.config"
      ]
    },
    {
      "cell_type": "code",
      "source": [
        "to_replay.config"
      ],
      "metadata": {
        "colab": {
          "base_uri": "https://localhost:8080/"
        },
        "id": "XtAYrHq7yisV",
        "outputId": "cea4f3cf-a1b9-4c5e-f956-9fcd9b6766cb"
      },
      "id": "XtAYrHq7yisV",
      "execution_count": 32,
      "outputs": [
        {
          "output_type": "execute_result",
          "data": {
            "text/plain": [
              "{'configurable': {'thread_id': '1',\n",
              "  'checkpoint_ns': '',\n",
              "  'checkpoint_id': '1f0b35d0-033b-6468-8000-31787d136f6b'}}"
            ]
          },
          "metadata": {},
          "execution_count": 32
        }
      ]
    },
    {
      "cell_type": "markdown",
      "id": "1d93b5eb-f541-4f82-93b1-48f54bf5cf83",
      "metadata": {
        "id": "1d93b5eb-f541-4f82-93b1-48f54bf5cf83"
      },
      "source": [
        "To replay from here, we simply pass the config back to the agent!\n",
        "\n",
        "The graph knows that this checkpoint has aleady been executed.\n",
        "\n",
        "It just re-plays from this checkpoint!"
      ]
    },
    {
      "cell_type": "code",
      "execution_count": 14,
      "id": "531b4cd1-54f6-44aa-9ffe-cf5403dad65d",
      "metadata": {
        "colab": {
          "base_uri": "https://localhost:8080/"
        },
        "id": "531b4cd1-54f6-44aa-9ffe-cf5403dad65d",
        "outputId": "0948f822-4ef3-4c10-8ef1-957c5a63abe8"
      },
      "outputs": [
        {
          "output_type": "stream",
          "name": "stdout",
          "text": [
            "================================\u001b[1m Human Message \u001b[0m=================================\n",
            "\n",
            "Multiply 2 and 3\n",
            "==================================\u001b[1m Ai Message \u001b[0m==================================\n",
            "Tool Calls:\n",
            "  multiply (call_UrPaocNiUH8uxlJ8uNhMtr9f)\n",
            " Call ID: call_UrPaocNiUH8uxlJ8uNhMtr9f\n",
            "  Args:\n",
            "    a: 2\n",
            "    b: 3\n",
            "=================================\u001b[1m Tool Message \u001b[0m=================================\n",
            "Name: multiply\n",
            "\n",
            "6\n",
            "==================================\u001b[1m Ai Message \u001b[0m==================================\n",
            "\n",
            "The result of multiplying 2 and 3 is 6.\n"
          ]
        }
      ],
      "source": [
        "for event in graph.stream(None, to_replay.config, stream_mode=\"values\"):\n",
        "    event['messages'][-1].pretty_print()"
      ]
    },
    {
      "cell_type": "code",
      "source": [
        "for event in graph.stream(None, to_replay.config, stream_mode=\"values\"):\n",
        "    event['messages'][-1].pretty_print()"
      ],
      "metadata": {
        "colab": {
          "base_uri": "https://localhost:8080/"
        },
        "id": "CIOhd3XMympc",
        "outputId": "ee696c8c-ee41-4ea0-f8fe-48b295293c2c"
      },
      "id": "CIOhd3XMympc",
      "execution_count": 33,
      "outputs": [
        {
          "output_type": "stream",
          "name": "stdout",
          "text": [
            "================================\u001b[1m Human Message \u001b[0m=================================\n",
            "\n",
            "Calculate the square of 5 and then double the result\n",
            "==================================\u001b[1m Ai Message \u001b[0m==================================\n",
            "Tool Calls:\n",
            "  square (call_VNxcQDdMpxEd0CDSXMXQuVdU)\n",
            " Call ID: call_VNxcQDdMpxEd0CDSXMXQuVdU\n",
            "  Args:\n",
            "    n: 5\n",
            "=================================\u001b[1m Tool Message \u001b[0m=================================\n",
            "Name: square\n",
            "\n",
            "25\n",
            "==================================\u001b[1m Ai Message \u001b[0m==================================\n",
            "Tool Calls:\n",
            "  double (call_AzxxXVRtCBaWId4bWO5mVvfr)\n",
            " Call ID: call_AzxxXVRtCBaWId4bWO5mVvfr\n",
            "  Args:\n",
            "    n: 25\n",
            "=================================\u001b[1m Tool Message \u001b[0m=================================\n",
            "Name: double\n",
            "\n",
            "50\n",
            "==================================\u001b[1m Ai Message \u001b[0m==================================\n",
            "\n",
            "The square of 5 is 25, and doubling that result gives you 50.\n"
          ]
        }
      ]
    },
    {
      "cell_type": "markdown",
      "id": "7d7a914e-63e6-4424-970f-15059ce9b4c3",
      "metadata": {
        "id": "7d7a914e-63e6-4424-970f-15059ce9b4c3"
      },
      "source": [
        "Now, we can see our current state after the agent re-ran."
      ]
    },
    {
      "cell_type": "markdown",
      "id": "5a5a1f03-19f2-4d22-ba54-1c065ff08e85",
      "metadata": {
        "id": "5a5a1f03-19f2-4d22-ba54-1c065ff08e85"
      },
      "source": [
        "## Forking\n",
        "\n",
        "What if we want to run from that same step, but with a different input.\n",
        "\n",
        "This is forking.\n",
        "\n",
        "![fig3.jpg](https://cdn.prod.website-files.com/65b8cd72835ceeacd4449a53/66dbb038f89f2d847ee5c336_time-travel3.png)"
      ]
    },
    {
      "cell_type": "code",
      "execution_count": 15,
      "id": "cdeb5bf2-1566-4d8c-8ea5-65894e3a7038",
      "metadata": {
        "colab": {
          "base_uri": "https://localhost:8080/"
        },
        "id": "cdeb5bf2-1566-4d8c-8ea5-65894e3a7038",
        "outputId": "66958b08-faf3-4524-b2f9-af30c7937a93"
      },
      "outputs": [
        {
          "output_type": "execute_result",
          "data": {
            "text/plain": [
              "[HumanMessage(content='Multiply 2 and 3', additional_kwargs={}, response_metadata={}, id='456a7f3e-867f-452c-ac1d-709748ba5606')]"
            ]
          },
          "metadata": {},
          "execution_count": 15
        }
      ],
      "source": [
        "to_fork = all_states[-2]\n",
        "to_fork.values[\"messages\"]"
      ]
    },
    {
      "cell_type": "code",
      "source": [
        "to_fork = all_states[-2]\n",
        "to_fork.values[\"messages\"]"
      ],
      "metadata": {
        "colab": {
          "base_uri": "https://localhost:8080/"
        },
        "id": "6fHrsVcdypnS",
        "outputId": "0f73427a-fb43-4ecc-ca22-9a811637ae26"
      },
      "id": "6fHrsVcdypnS",
      "execution_count": 34,
      "outputs": [
        {
          "output_type": "execute_result",
          "data": {
            "text/plain": [
              "[HumanMessage(content='Calculate the square of 5 and then double the result', additional_kwargs={}, response_metadata={}, id='597374e0-953c-4144-9bf5-55c8e58a2f8e')]"
            ]
          },
          "metadata": {},
          "execution_count": 34
        }
      ]
    },
    {
      "cell_type": "markdown",
      "id": "4a15f6a6-6eaa-48d6-92bb-864ea3a31b6a",
      "metadata": {
        "id": "4a15f6a6-6eaa-48d6-92bb-864ea3a31b6a"
      },
      "source": [
        "Again, we have the config."
      ]
    },
    {
      "cell_type": "code",
      "execution_count": 16,
      "id": "d1621b27-ee51-4dc3-81c4-1d05317280db",
      "metadata": {
        "colab": {
          "base_uri": "https://localhost:8080/"
        },
        "id": "d1621b27-ee51-4dc3-81c4-1d05317280db",
        "outputId": "1f758f5f-97e5-4713-c3b6-66d134a9469b"
      },
      "outputs": [
        {
          "output_type": "execute_result",
          "data": {
            "text/plain": [
              "{'configurable': {'thread_id': '1',\n",
              "  'checkpoint_ns': '',\n",
              "  'checkpoint_id': '1f0b35c5-18f0-62b9-8000-9352703a990b'}}"
            ]
          },
          "metadata": {},
          "execution_count": 16
        }
      ],
      "source": [
        "to_fork.config"
      ]
    },
    {
      "cell_type": "code",
      "source": [
        "to_fork.config"
      ],
      "metadata": {
        "colab": {
          "base_uri": "https://localhost:8080/"
        },
        "id": "xU--_-8_ytBy",
        "outputId": "a26c82f2-5800-4d74-8390-12f21b64eb4d"
      },
      "id": "xU--_-8_ytBy",
      "execution_count": 35,
      "outputs": [
        {
          "output_type": "execute_result",
          "data": {
            "text/plain": [
              "{'configurable': {'thread_id': '1',\n",
              "  'checkpoint_ns': '',\n",
              "  'checkpoint_id': '1f0b35d0-033b-6468-8000-31787d136f6b'}}"
            ]
          },
          "metadata": {},
          "execution_count": 35
        }
      ]
    },
    {
      "cell_type": "markdown",
      "id": "c2102195-0583-4dbe-ad2f-02fac7915585",
      "metadata": {
        "id": "c2102195-0583-4dbe-ad2f-02fac7915585"
      },
      "source": [
        "Let's modify the state at this checkpoint.\n",
        "\n",
        "We can just run `update_state` with the `checkpoint_id` supplied.\n",
        "\n",
        "Remember how our reducer on `messages` works:\n",
        "\n",
        "* It will append, unless we supply a message ID.\n",
        "* We supply the message ID to overwrite the message, rather than appending to state!\n",
        "\n",
        "So, to overwrite the the message, we just supply the message ID, which we have `to_fork.values[\"messages\"].id`."
      ]
    },
    {
      "cell_type": "code",
      "execution_count": 17,
      "id": "0b4a918d-858a-41ac-a5d4-e99260e2d6ec",
      "metadata": {
        "id": "0b4a918d-858a-41ac-a5d4-e99260e2d6ec"
      },
      "outputs": [],
      "source": [
        "fork_config = graph.update_state(\n",
        "    to_fork.config,\n",
        "    {\"messages\": [HumanMessage(content='Multiply 5 and 3',\n",
        "                               id=to_fork.values[\"messages\"][0].id)]},\n",
        ")"
      ]
    },
    {
      "cell_type": "code",
      "source": [
        "fork_config = graph.update_state(\n",
        "    to_fork.config,\n",
        "    {\"messages\": [HumanMessage(content='Calculate the cube of 4 and then square the result',\n",
        "                               id=to_fork.values[\"messages\"][0].id)]},\n",
        ")"
      ],
      "metadata": {
        "id": "vuBxC8vPyxOz"
      },
      "id": "vuBxC8vPyxOz",
      "execution_count": 36,
      "outputs": []
    },
    {
      "cell_type": "code",
      "execution_count": null,
      "id": "8ff4e9bb-8221-42d1-b7d0-b0cbd5dc374a",
      "metadata": {
        "id": "8ff4e9bb-8221-42d1-b7d0-b0cbd5dc374a",
        "outputId": "f61dbf03-b4c1-4821-cfcd-5d668d379d03"
      },
      "outputs": [
        {
          "data": {
            "text/plain": [
              "{'configurable': {'thread_id': '1',\n",
              "  'checkpoint_ns': '',\n",
              "  'checkpoint_id': '1ef6a442-3661-62f6-8001-d3c01b96f98b'}}"
            ]
          },
          "execution_count": 17,
          "metadata": {},
          "output_type": "execute_result"
        }
      ],
      "source": [
        "fork_config"
      ]
    },
    {
      "cell_type": "code",
      "source": [
        "fork_config"
      ],
      "metadata": {
        "colab": {
          "base_uri": "https://localhost:8080/"
        },
        "id": "zQ6qRz_Vy1Rq",
        "outputId": "dd386c41-4a80-4d8e-952c-6cd1a7b3dc31"
      },
      "id": "zQ6qRz_Vy1Rq",
      "execution_count": 37,
      "outputs": [
        {
          "output_type": "execute_result",
          "data": {
            "text/plain": [
              "{'configurable': {'thread_id': '1',\n",
              "  'checkpoint_ns': '',\n",
              "  'checkpoint_id': '1f0b35d7-20d4-6ea4-8001-5eb2bc764e21'}}"
            ]
          },
          "metadata": {},
          "execution_count": 37
        }
      ]
    },
    {
      "cell_type": "markdown",
      "id": "bebfe6fd-c94b-4291-a125-ec6170e35bc5",
      "metadata": {
        "id": "bebfe6fd-c94b-4291-a125-ec6170e35bc5"
      },
      "source": [
        "This creates a new, forked checkpoint.\n",
        "\n",
        "But, the metadata - e.g., where to go next - is perserved!\n",
        "\n",
        "We can see the current state of our agent has been updated with our fork."
      ]
    },
    {
      "cell_type": "code",
      "execution_count": 18,
      "id": "586ce86c-1257-45e9-ba30-6287932b9484",
      "metadata": {
        "colab": {
          "base_uri": "https://localhost:8080/"
        },
        "id": "586ce86c-1257-45e9-ba30-6287932b9484",
        "outputId": "6070e411-c332-44d0-dede-78f897be8bef"
      },
      "outputs": [
        {
          "output_type": "execute_result",
          "data": {
            "text/plain": [
              "[HumanMessage(content='Multiply 5 and 3', additional_kwargs={}, response_metadata={}, id='456a7f3e-867f-452c-ac1d-709748ba5606'),\n",
              " AIMessage(content='', additional_kwargs={'refusal': None}, response_metadata={'token_usage': {'completion_tokens': 17, 'prompt_tokens': 131, 'total_tokens': 148, 'completion_tokens_details': {'accepted_prediction_tokens': 0, 'audio_tokens': 0, 'reasoning_tokens': 0, 'rejected_prediction_tokens': 0}, 'prompt_tokens_details': {'audio_tokens': 0, 'cached_tokens': 0}}, 'model_provider': 'openai', 'model_name': 'gpt-4o-2024-08-06', 'system_fingerprint': 'fp_65564d8ba5', 'id': 'chatcmpl-CVLWjE8YHd0NvkYqQqMSZR1CzJK6r', 'service_tier': 'default', 'finish_reason': 'tool_calls', 'logprobs': None}, id='lc_run--ca07b059-38c9-4c11-9878-2a0e8db0949f-0', tool_calls=[{'name': 'multiply', 'args': {'a': 2, 'b': 3}, 'id': 'call_ugTpGijXQ0Sxz4A6mRudbG0K', 'type': 'tool_call'}], usage_metadata={'input_tokens': 131, 'output_tokens': 17, 'total_tokens': 148, 'input_token_details': {'audio': 0, 'cache_read': 0}, 'output_token_details': {'audio': 0, 'reasoning': 0}})]"
            ]
          },
          "metadata": {},
          "execution_count": 18
        }
      ],
      "source": [
        "all_states = [state for state in graph.get_state_history(thread) ]\n",
        "all_states[0].values[\"messages\"]"
      ]
    },
    {
      "cell_type": "code",
      "source": [
        "all_states = [state for state in graph.get_state_history(thread) ]\n",
        "all_states[0].values[\"messages\"]"
      ],
      "metadata": {
        "colab": {
          "base_uri": "https://localhost:8080/"
        },
        "id": "xk3KJCZzy5EG",
        "outputId": "9c395337-fff8-4c1b-d7af-43a85e5a41d7"
      },
      "id": "xk3KJCZzy5EG",
      "execution_count": 38,
      "outputs": [
        {
          "output_type": "execute_result",
          "data": {
            "text/plain": [
              "[HumanMessage(content='Calculate the cube of 4 and then square the result', additional_kwargs={}, response_metadata={}, id='597374e0-953c-4144-9bf5-55c8e58a2f8e'),\n",
              " AIMessage(content='', additional_kwargs={'refusal': None}, response_metadata={'token_usage': {'completion_tokens': 13, 'prompt_tokens': 122, 'total_tokens': 135, 'completion_tokens_details': {'accepted_prediction_tokens': 0, 'audio_tokens': 0, 'reasoning_tokens': 0, 'rejected_prediction_tokens': 0}, 'prompt_tokens_details': {'audio_tokens': 0, 'cached_tokens': 0}}, 'model_provider': 'openai', 'model_name': 'gpt-4o-2024-08-06', 'system_fingerprint': 'fp_a788c5aef0', 'id': 'chatcmpl-CVLbS8pRnx7zGtUarsqelVC1z46GZ', 'service_tier': 'default', 'finish_reason': 'tool_calls', 'logprobs': None}, id='lc_run--7b2a8fbc-c902-4fcc-85a5-8fc82745466b-0', tool_calls=[{'name': 'square', 'args': {'n': 5}, 'id': 'call_3TW7pHwKo0fuHWX4hiAAole9', 'type': 'tool_call'}], usage_metadata={'input_tokens': 122, 'output_tokens': 13, 'total_tokens': 135, 'input_token_details': {'audio': 0, 'cache_read': 0}, 'output_token_details': {'audio': 0, 'reasoning': 0}})]"
            ]
          },
          "metadata": {},
          "execution_count": 38
        }
      ]
    },
    {
      "cell_type": "code",
      "execution_count": 19,
      "id": "12e19798-25d8-49e8-8542-13d2b3bdf58e",
      "metadata": {
        "colab": {
          "base_uri": "https://localhost:8080/"
        },
        "id": "12e19798-25d8-49e8-8542-13d2b3bdf58e",
        "outputId": "a0f87052-4297-43f2-aabf-a549510fd6a5"
      },
      "outputs": [
        {
          "output_type": "execute_result",
          "data": {
            "text/plain": [
              "StateSnapshot(values={'messages': [HumanMessage(content='Multiply 5 and 3', additional_kwargs={}, response_metadata={}, id='456a7f3e-867f-452c-ac1d-709748ba5606'), AIMessage(content='', additional_kwargs={'refusal': None}, response_metadata={'token_usage': {'completion_tokens': 17, 'prompt_tokens': 131, 'total_tokens': 148, 'completion_tokens_details': {'accepted_prediction_tokens': 0, 'audio_tokens': 0, 'reasoning_tokens': 0, 'rejected_prediction_tokens': 0}, 'prompt_tokens_details': {'audio_tokens': 0, 'cached_tokens': 0}}, 'model_provider': 'openai', 'model_name': 'gpt-4o-2024-08-06', 'system_fingerprint': 'fp_65564d8ba5', 'id': 'chatcmpl-CVLWjE8YHd0NvkYqQqMSZR1CzJK6r', 'service_tier': 'default', 'finish_reason': 'tool_calls', 'logprobs': None}, id='lc_run--ca07b059-38c9-4c11-9878-2a0e8db0949f-0', tool_calls=[{'name': 'multiply', 'args': {'a': 2, 'b': 3}, 'id': 'call_ugTpGijXQ0Sxz4A6mRudbG0K', 'type': 'tool_call'}], usage_metadata={'input_tokens': 131, 'output_tokens': 17, 'total_tokens': 148, 'input_token_details': {'audio': 0, 'cache_read': 0}, 'output_token_details': {'audio': 0, 'reasoning': 0}})]}, next=('tools',), config={'configurable': {'thread_id': '1', 'checkpoint_ns': '', 'checkpoint_id': '1f0b35c6-4ac4-611c-8001-cf133543dfce'}}, metadata={'source': 'update', 'step': 1, 'parents': {}}, created_at='2025-10-27T17:43:05.585878+00:00', parent_config={'configurable': {'thread_id': '1', 'checkpoint_ns': '', 'checkpoint_id': '1f0b35c5-18f0-62b9-8000-9352703a990b'}}, tasks=(PregelTask(id='390d4654-ec79-d940-0ef3-b5c0391e8bd3', name='tools', path=('__pregel_pull', 'tools'), error=None, interrupts=(), state=None, result=None),), interrupts=())"
            ]
          },
          "metadata": {},
          "execution_count": 19
        }
      ],
      "source": [
        "graph.get_state({'configurable': {'thread_id': '1'}})"
      ]
    },
    {
      "cell_type": "code",
      "source": [
        "graph.get_state({'configurable': {'thread_id': '1'}})"
      ],
      "metadata": {
        "colab": {
          "base_uri": "https://localhost:8080/"
        },
        "id": "A22nUGwDy7-C",
        "outputId": "39a1fb4e-b8e5-4939-c7bf-b49a160cf2fa"
      },
      "id": "A22nUGwDy7-C",
      "execution_count": 39,
      "outputs": [
        {
          "output_type": "execute_result",
          "data": {
            "text/plain": [
              "StateSnapshot(values={'messages': [HumanMessage(content='Calculate the cube of 4 and then square the result', additional_kwargs={}, response_metadata={}, id='597374e0-953c-4144-9bf5-55c8e58a2f8e'), AIMessage(content='', additional_kwargs={'refusal': None}, response_metadata={'token_usage': {'completion_tokens': 13, 'prompt_tokens': 122, 'total_tokens': 135, 'completion_tokens_details': {'accepted_prediction_tokens': 0, 'audio_tokens': 0, 'reasoning_tokens': 0, 'rejected_prediction_tokens': 0}, 'prompt_tokens_details': {'audio_tokens': 0, 'cached_tokens': 0}}, 'model_provider': 'openai', 'model_name': 'gpt-4o-2024-08-06', 'system_fingerprint': 'fp_a788c5aef0', 'id': 'chatcmpl-CVLbS8pRnx7zGtUarsqelVC1z46GZ', 'service_tier': 'default', 'finish_reason': 'tool_calls', 'logprobs': None}, id='lc_run--7b2a8fbc-c902-4fcc-85a5-8fc82745466b-0', tool_calls=[{'name': 'square', 'args': {'n': 5}, 'id': 'call_3TW7pHwKo0fuHWX4hiAAole9', 'type': 'tool_call'}], usage_metadata={'input_tokens': 122, 'output_tokens': 13, 'total_tokens': 135, 'input_token_details': {'audio': 0, 'cache_read': 0}, 'output_token_details': {'audio': 0, 'reasoning': 0}})]}, next=('tools',), config={'configurable': {'thread_id': '1', 'checkpoint_ns': '', 'checkpoint_id': '1f0b35d7-20d4-6ea4-8001-5eb2bc764e21'}}, metadata={'source': 'update', 'step': 1, 'parents': {}}, created_at='2025-10-27T17:50:37.529028+00:00', parent_config={'configurable': {'thread_id': '1', 'checkpoint_ns': '', 'checkpoint_id': '1f0b35d0-033b-6468-8000-31787d136f6b'}}, tasks=(PregelTask(id='94f66500-fd02-6c13-578e-5c021b545bec', name='tools', path=('__pregel_pull', 'tools'), error=None, interrupts=(), state=None, result=None),), interrupts=())"
            ]
          },
          "metadata": {},
          "execution_count": 39
        }
      ]
    },
    {
      "cell_type": "markdown",
      "id": "78c641e2-b8e9-4461-b854-8725006a5eb6",
      "metadata": {
        "id": "78c641e2-b8e9-4461-b854-8725006a5eb6"
      },
      "source": [
        "Now, when we stream, the graph knows this checkpoint has never been executed.\n",
        "\n",
        "So, the graph runs, rather than simply re-playing."
      ]
    },
    {
      "cell_type": "code",
      "execution_count": 20,
      "id": "1c49f2a8-b325-45e4-b36c-17fab1b37cc0",
      "metadata": {
        "colab": {
          "base_uri": "https://localhost:8080/"
        },
        "id": "1c49f2a8-b325-45e4-b36c-17fab1b37cc0",
        "outputId": "ed59db98-5ba3-49e1-fb3d-4289973df99b"
      },
      "outputs": [
        {
          "output_type": "stream",
          "name": "stdout",
          "text": [
            "==================================\u001b[1m Ai Message \u001b[0m==================================\n",
            "Tool Calls:\n",
            "  multiply (call_ugTpGijXQ0Sxz4A6mRudbG0K)\n",
            " Call ID: call_ugTpGijXQ0Sxz4A6mRudbG0K\n",
            "  Args:\n",
            "    a: 2\n",
            "    b: 3\n",
            "=================================\u001b[1m Tool Message \u001b[0m=================================\n",
            "Name: multiply\n",
            "\n",
            "6\n",
            "==================================\u001b[1m Ai Message \u001b[0m==================================\n",
            "\n",
            "The result of multiplying 5 and 3 is 15.\n"
          ]
        }
      ],
      "source": [
        "for event in graph.stream(None, fork_config, stream_mode=\"values\"):\n",
        "    event['messages'][-1].pretty_print()"
      ]
    },
    {
      "cell_type": "code",
      "source": [
        "for event in graph.stream(None, fork_config, stream_mode=\"values\"):\n",
        "    event['messages'][-1].pretty_print()"
      ],
      "metadata": {
        "colab": {
          "base_uri": "https://localhost:8080/"
        },
        "id": "ibScaCkKzCvo",
        "outputId": "058a58b2-f438-4e5d-b47b-e1704b46630f"
      },
      "id": "ibScaCkKzCvo",
      "execution_count": 40,
      "outputs": [
        {
          "output_type": "stream",
          "name": "stdout",
          "text": [
            "==================================\u001b[1m Ai Message \u001b[0m==================================\n",
            "Tool Calls:\n",
            "  square (call_3TW7pHwKo0fuHWX4hiAAole9)\n",
            " Call ID: call_3TW7pHwKo0fuHWX4hiAAole9\n",
            "  Args:\n",
            "    n: 5\n",
            "=================================\u001b[1m Tool Message \u001b[0m=================================\n",
            "Name: square\n",
            "\n",
            "25\n",
            "==================================\u001b[1m Ai Message \u001b[0m==================================\n",
            "Tool Calls:\n",
            "  cube (call_cvKdMMw3AYMMNvEghK0G3BAq)\n",
            " Call ID: call_cvKdMMw3AYMMNvEghK0G3BAq\n",
            "  Args:\n",
            "    n: 4\n",
            "=================================\u001b[1m Tool Message \u001b[0m=================================\n",
            "Name: cube\n",
            "\n",
            "64\n",
            "==================================\u001b[1m Ai Message \u001b[0m==================================\n",
            "Tool Calls:\n",
            "  square (call_9RluKfBmHD2KF5J8xzdz0OLG)\n",
            " Call ID: call_9RluKfBmHD2KF5J8xzdz0OLG\n",
            "  Args:\n",
            "    n: 64\n",
            "=================================\u001b[1m Tool Message \u001b[0m=================================\n",
            "Name: square\n",
            "\n",
            "4096\n",
            "==================================\u001b[1m Ai Message \u001b[0m==================================\n",
            "\n",
            "The cube of 4 is 64. When you square that result, you get 4096.\n"
          ]
        }
      ]
    },
    {
      "cell_type": "markdown",
      "id": "428d7f80-ee60-4147-b51f-ee3b0cf5cbba",
      "metadata": {
        "id": "428d7f80-ee60-4147-b51f-ee3b0cf5cbba"
      },
      "source": [
        "Now, we can see the current state is the end of our agent run."
      ]
    },
    {
      "cell_type": "code",
      "execution_count": 21,
      "id": "132ef840-64c7-479c-ad34-3f177f4b2524",
      "metadata": {
        "colab": {
          "base_uri": "https://localhost:8080/"
        },
        "id": "132ef840-64c7-479c-ad34-3f177f4b2524",
        "outputId": "d083dc2d-8c53-4d0a-d777-c12106084421"
      },
      "outputs": [
        {
          "output_type": "execute_result",
          "data": {
            "text/plain": [
              "StateSnapshot(values={'messages': [HumanMessage(content='Multiply 5 and 3', additional_kwargs={}, response_metadata={}, id='456a7f3e-867f-452c-ac1d-709748ba5606'), AIMessage(content='', additional_kwargs={'refusal': None}, response_metadata={'token_usage': {'completion_tokens': 17, 'prompt_tokens': 131, 'total_tokens': 148, 'completion_tokens_details': {'accepted_prediction_tokens': 0, 'audio_tokens': 0, 'reasoning_tokens': 0, 'rejected_prediction_tokens': 0}, 'prompt_tokens_details': {'audio_tokens': 0, 'cached_tokens': 0}}, 'model_provider': 'openai', 'model_name': 'gpt-4o-2024-08-06', 'system_fingerprint': 'fp_65564d8ba5', 'id': 'chatcmpl-CVLWjE8YHd0NvkYqQqMSZR1CzJK6r', 'service_tier': 'default', 'finish_reason': 'tool_calls', 'logprobs': None}, id='lc_run--ca07b059-38c9-4c11-9878-2a0e8db0949f-0', tool_calls=[{'name': 'multiply', 'args': {'a': 2, 'b': 3}, 'id': 'call_ugTpGijXQ0Sxz4A6mRudbG0K', 'type': 'tool_call'}], usage_metadata={'input_tokens': 131, 'output_tokens': 17, 'total_tokens': 148, 'input_token_details': {'audio': 0, 'cache_read': 0}, 'output_token_details': {'audio': 0, 'reasoning': 0}}), ToolMessage(content='6', name='multiply', id='c2ae315e-b5cb-4cef-8fbc-c3c0b86093e3', tool_call_id='call_ugTpGijXQ0Sxz4A6mRudbG0K'), AIMessage(content='The result of multiplying 5 and 3 is 15.', additional_kwargs={'refusal': None}, response_metadata={'token_usage': {'completion_tokens': 14, 'prompt_tokens': 156, 'total_tokens': 170, 'completion_tokens_details': {'accepted_prediction_tokens': 0, 'audio_tokens': 0, 'reasoning_tokens': 0, 'rejected_prediction_tokens': 0}, 'prompt_tokens_details': {'audio_tokens': 0, 'cached_tokens': 0}}, 'model_provider': 'openai', 'model_name': 'gpt-4o-2024-08-06', 'system_fingerprint': 'fp_65564d8ba5', 'id': 'chatcmpl-CVLXM3dz339I2f9g52zNHpwkrhNtg', 'service_tier': 'default', 'finish_reason': 'stop', 'logprobs': None}, id='lc_run--b1583baf-fa98-46ee-b235-6c53d7537e82-0', usage_metadata={'input_tokens': 156, 'output_tokens': 14, 'total_tokens': 170, 'input_token_details': {'audio': 0, 'cache_read': 0}, 'output_token_details': {'audio': 0, 'reasoning': 0}})]}, next=(), config={'configurable': {'thread_id': '1', 'checkpoint_ns': '', 'checkpoint_id': '1f0b35c6-9090-6e27-8003-c88bd7c74883'}}, metadata={'source': 'loop', 'step': 3, 'parents': {}}, created_at='2025-10-27T17:43:12.904936+00:00', parent_config={'configurable': {'thread_id': '1', 'checkpoint_ns': '', 'checkpoint_id': '1f0b35c6-8880-68a9-8002-698e571ab0d2'}}, tasks=(), interrupts=())"
            ]
          },
          "metadata": {},
          "execution_count": 21
        }
      ],
      "source": [
        "graph.get_state({'configurable': {'thread_id': '1'}})"
      ]
    },
    {
      "cell_type": "code",
      "source": [
        "graph.get_state({'configurable': {'thread_id': '1'}})"
      ],
      "metadata": {
        "colab": {
          "base_uri": "https://localhost:8080/"
        },
        "id": "gv_osgAWzJBM",
        "outputId": "58397fe5-d810-4bd9-937e-9eebaada29c9"
      },
      "id": "gv_osgAWzJBM",
      "execution_count": 41,
      "outputs": [
        {
          "output_type": "execute_result",
          "data": {
            "text/plain": [
              "StateSnapshot(values={'messages': [HumanMessage(content='Calculate the cube of 4 and then square the result', additional_kwargs={}, response_metadata={}, id='597374e0-953c-4144-9bf5-55c8e58a2f8e'), AIMessage(content='', additional_kwargs={'refusal': None}, response_metadata={'token_usage': {'completion_tokens': 13, 'prompt_tokens': 122, 'total_tokens': 135, 'completion_tokens_details': {'accepted_prediction_tokens': 0, 'audio_tokens': 0, 'reasoning_tokens': 0, 'rejected_prediction_tokens': 0}, 'prompt_tokens_details': {'audio_tokens': 0, 'cached_tokens': 0}}, 'model_provider': 'openai', 'model_name': 'gpt-4o-2024-08-06', 'system_fingerprint': 'fp_a788c5aef0', 'id': 'chatcmpl-CVLbS8pRnx7zGtUarsqelVC1z46GZ', 'service_tier': 'default', 'finish_reason': 'tool_calls', 'logprobs': None}, id='lc_run--7b2a8fbc-c902-4fcc-85a5-8fc82745466b-0', tool_calls=[{'name': 'square', 'args': {'n': 5}, 'id': 'call_3TW7pHwKo0fuHWX4hiAAole9', 'type': 'tool_call'}], usage_metadata={'input_tokens': 122, 'output_tokens': 13, 'total_tokens': 135, 'input_token_details': {'audio': 0, 'cache_read': 0}, 'output_token_details': {'audio': 0, 'reasoning': 0}}), ToolMessage(content='25', name='square', id='b57d599e-3a36-4997-9d08-ff08a51e46cf', tool_call_id='call_3TW7pHwKo0fuHWX4hiAAole9'), AIMessage(content='', additional_kwargs={'refusal': None}, response_metadata={'token_usage': {'completion_tokens': 14, 'prompt_tokens': 143, 'total_tokens': 157, 'completion_tokens_details': {'accepted_prediction_tokens': 0, 'audio_tokens': 0, 'reasoning_tokens': 0, 'rejected_prediction_tokens': 0}, 'prompt_tokens_details': {'audio_tokens': 0, 'cached_tokens': 0}}, 'model_provider': 'openai', 'model_name': 'gpt-4o-2024-08-06', 'system_fingerprint': 'fp_a788c5aef0', 'id': 'chatcmpl-CVLfhchE47FaU7vGzht71BQDceW2Y', 'service_tier': 'default', 'finish_reason': 'tool_calls', 'logprobs': None}, id='lc_run--558bbb1c-82f0-4c55-ab8d-904341560b96-0', tool_calls=[{'name': 'cube', 'args': {'n': 4}, 'id': 'call_cvKdMMw3AYMMNvEghK0G3BAq', 'type': 'tool_call'}], usage_metadata={'input_tokens': 143, 'output_tokens': 14, 'total_tokens': 157, 'input_token_details': {'audio': 0, 'cache_read': 0}, 'output_token_details': {'audio': 0, 'reasoning': 0}}), ToolMessage(content='64', name='cube', id='bf3bd65f-fa7a-4343-a2c1-6444bf0bd46b', tool_call_id='call_cvKdMMw3AYMMNvEghK0G3BAq'), AIMessage(content='', additional_kwargs={'refusal': None}, response_metadata={'token_usage': {'completion_tokens': 13, 'prompt_tokens': 165, 'total_tokens': 178, 'completion_tokens_details': {'accepted_prediction_tokens': 0, 'audio_tokens': 0, 'reasoning_tokens': 0, 'rejected_prediction_tokens': 0}, 'prompt_tokens_details': {'audio_tokens': 0, 'cached_tokens': 0}}, 'model_provider': 'openai', 'model_name': 'gpt-4o-2024-08-06', 'system_fingerprint': 'fp_a788c5aef0', 'id': 'chatcmpl-CVLfhtdEHYTdF91GzzmxlCHzEtB9a', 'service_tier': 'default', 'finish_reason': 'tool_calls', 'logprobs': None}, id='lc_run--609c9650-7173-49f6-99ff-3001750cae35-0', tool_calls=[{'name': 'square', 'args': {'n': 64}, 'id': 'call_9RluKfBmHD2KF5J8xzdz0OLG', 'type': 'tool_call'}], usage_metadata={'input_tokens': 165, 'output_tokens': 13, 'total_tokens': 178, 'input_token_details': {'audio': 0, 'cache_read': 0}, 'output_token_details': {'audio': 0, 'reasoning': 0}}), ToolMessage(content='4096', name='square', id='41c4f619-5a2e-4790-bbe8-e9ae42119f6d', tool_call_id='call_9RluKfBmHD2KF5J8xzdz0OLG'), AIMessage(content='The cube of 4 is 64. When you square that result, you get 4096.', additional_kwargs={'refusal': None}, response_metadata={'token_usage': {'completion_tokens': 22, 'prompt_tokens': 187, 'total_tokens': 209, 'completion_tokens_details': {'accepted_prediction_tokens': 0, 'audio_tokens': 0, 'reasoning_tokens': 0, 'rejected_prediction_tokens': 0}, 'prompt_tokens_details': {'audio_tokens': 0, 'cached_tokens': 0}}, 'model_provider': 'openai', 'model_name': 'gpt-4o-2024-08-06', 'system_fingerprint': 'fp_a788c5aef0', 'id': 'chatcmpl-CVLfiUesY0yI3imkGr7YO8JlZeTnv', 'service_tier': 'default', 'finish_reason': 'stop', 'logprobs': None}, id='lc_run--ace0de59-efaa-4607-8ce1-356054542de4-0', usage_metadata={'input_tokens': 187, 'output_tokens': 22, 'total_tokens': 209, 'input_token_details': {'audio': 0, 'cache_read': 0}, 'output_token_details': {'audio': 0, 'reasoning': 0}})]}, next=(), config={'configurable': {'thread_id': '1', 'checkpoint_ns': '', 'checkpoint_id': '1f0b35d9-e3bc-6b99-8007-5ef8e869447c'}}, metadata={'source': 'loop', 'step': 7, 'parents': {}}, created_at='2025-10-27T17:51:51.653443+00:00', parent_config={'configurable': {'thread_id': '1', 'checkpoint_ns': '', 'checkpoint_id': '1f0b35d9-d82b-69ae-8006-5b8ffd8399d4'}}, tasks=(), interrupts=())"
            ]
          },
          "metadata": {},
          "execution_count": 41
        }
      ]
    },
    {
      "cell_type": "markdown",
      "id": "2ceb5f31-97b0-466c-9b3b-ae4df7cd462a",
      "metadata": {
        "id": "2ceb5f31-97b0-466c-9b3b-ae4df7cd462a"
      },
      "source": [
        "### Time travel with LangGraph API\n",
        "\n",
        "**⚠️ DISCLAIMER**\n",
        "\n",
        "Since the filming of these videos, we've updated Studio so that it can be run locally and opened in your browser. This is now the preferred way to run Studio (rather than using the Desktop App as shown in the video). See documentation [here](https://langchain-ai.github.io/langgraph/concepts/langgraph_studio/#local-development-server) on the local development server and [here](https://langchain-ai.github.io/langgraph/how-tos/local-studio/#run-the-development-server). To start the local development server, run the following command in your terminal in the `/studio` directory in this module:\n",
        "\n",
        "```\n",
        "langgraph dev\n",
        "```\n",
        "\n",
        "You should see the following output:\n",
        "```\n",
        "- 🚀 API: http://127.0.0.1:2024\n",
        "- 🎨 Studio UI: https://smith.langchain.com/studio/?baseUrl=http://127.0.0.1:2024\n",
        "- 📚 API Docs: http://127.0.0.1:2024/docs\n",
        "```\n",
        "\n",
        "Open your browser and navigate to the Studio UI: `https://smith.langchain.com/studio/?baseUrl=http://127.0.0.1:2024`.\n",
        "\n",
        "We connect to it via the SDK and show how the LangGraph API [supports time travel](https://langchain-ai.github.io/langgraph/cloud/how-tos/human_in_the_loop_time_travel/#initial-invocation)."
      ]
    },
    {
      "cell_type": "code",
      "execution_count": null,
      "id": "891defdb-746c-48e4-8efa-bb5f138dc4bd",
      "metadata": {
        "id": "891defdb-746c-48e4-8efa-bb5f138dc4bd"
      },
      "outputs": [],
      "source": [
        "if 'google.colab' in str(get_ipython()):\n",
        "    raise Exception(\"Unfortunately LangGraph Studio is currently not supported on Google Colab\")"
      ]
    },
    {
      "cell_type": "code",
      "execution_count": null,
      "id": "a317925d-1788-4cfc-9c12-336b17b4d859",
      "metadata": {
        "id": "a317925d-1788-4cfc-9c12-336b17b4d859"
      },
      "outputs": [],
      "source": [
        "from langgraph_sdk import get_client\n",
        "client = get_client(url=\"http://127.0.0.1:2024\")"
      ]
    },
    {
      "cell_type": "markdown",
      "id": "815d5e03-0ab8-4c7f-a1ee-f410b6aadc03",
      "metadata": {
        "id": "815d5e03-0ab8-4c7f-a1ee-f410b6aadc03"
      },
      "source": [
        "#### Re-playing\n",
        "\n",
        "Let's run our agent streaming `updates` to the state of the graph after each node is called."
      ]
    },
    {
      "cell_type": "code",
      "execution_count": null,
      "id": "9d4d01da-7b64-4c92-96b7-29ec93332d0b",
      "metadata": {
        "id": "9d4d01da-7b64-4c92-96b7-29ec93332d0b",
        "outputId": "8666a7d2-382f-4157-b7ac-00524cb59980"
      },
      "outputs": [
        {
          "name": "stdout",
          "output_type": "stream",
          "text": [
            "--------------------Assistant Node--------------------\n",
            "{'content': '', 'additional_kwargs': {'tool_calls': [{'index': 0, 'id': 'call_SG7XYqDENGq7mwXrnioNLosS', 'function': {'arguments': '{\"a\":2,\"b\":3}', 'name': 'multiply'}, 'type': 'function'}]}, 'response_metadata': {'finish_reason': 'tool_calls', 'model_name': 'gpt-4o-2024-05-13', 'system_fingerprint': 'fp_157b3831f5'}, 'type': 'ai', 'name': None, 'id': 'run-2c120fc3-3c82-4599-b8ec-24fbee207cad', 'example': False, 'tool_calls': [{'name': 'multiply', 'args': {'a': 2, 'b': 3}, 'id': 'call_SG7XYqDENGq7mwXrnioNLosS', 'type': 'tool_call'}], 'invalid_tool_calls': [], 'usage_metadata': None}\n",
            "--------------------Tools Node--------------------\n",
            "{'content': '6', 'additional_kwargs': {}, 'response_metadata': {}, 'type': 'tool', 'name': 'multiply', 'id': '3b40d091-58b2-4566-a84c-60af67206307', 'tool_call_id': 'call_SG7XYqDENGq7mwXrnioNLosS', 'artifact': None, 'status': 'success'}\n",
            "--------------------Assistant Node--------------------\n",
            "{'content': 'The result of multiplying 2 and 3 is 6.', 'additional_kwargs': {}, 'response_metadata': {'finish_reason': 'stop', 'model_name': 'gpt-4o-2024-05-13', 'system_fingerprint': 'fp_fde2829a40'}, 'type': 'ai', 'name': None, 'id': 'run-1272d9b0-a0aa-4ff7-8bad-fdffd27c5506', 'example': False, 'tool_calls': [], 'invalid_tool_calls': [], 'usage_metadata': None}\n"
          ]
        }
      ],
      "source": [
        "initial_input = {\"messages\": HumanMessage(content=\"Multiply 2 and 3\")}\n",
        "thread = await client.threads.create()\n",
        "async for chunk in client.runs.stream(\n",
        "    thread[\"thread_id\"],\n",
        "    assistant_id = \"agent\",\n",
        "    input=initial_input,\n",
        "    stream_mode=\"updates\",\n",
        "):\n",
        "    if chunk.data:\n",
        "        assisant_node = chunk.data.get('assistant', {}).get('messages', [])\n",
        "        tool_node = chunk.data.get('tools', {}).get('messages', [])\n",
        "        if assisant_node:\n",
        "            print(\"-\" * 20+\"Assistant Node\"+\"-\" * 20)\n",
        "            print(assisant_node[-1])\n",
        "        elif tool_node:\n",
        "            print(\"-\" * 20+\"Tools Node\"+\"-\" * 20)\n",
        "            print(tool_node[-1])"
      ]
    },
    {
      "cell_type": "markdown",
      "id": "8cc3bab2",
      "metadata": {
        "id": "8cc3bab2"
      },
      "source": [
        "Now, let's look at **replaying** from a specified checkpoint.\n",
        "\n",
        "We simply need to pass the `checkpoint_id`."
      ]
    },
    {
      "cell_type": "code",
      "execution_count": null,
      "id": "d8ecc4fd",
      "metadata": {
        "id": "d8ecc4fd",
        "outputId": "e7ba1945-1005-4f5f-e307-19baf4fa539e"
      },
      "outputs": [
        {
          "data": {
            "text/plain": [
              "{'values': {'messages': [{'content': 'Multiply 2 and 3',\n",
              "    'additional_kwargs': {'example': False,\n",
              "     'additional_kwargs': {},\n",
              "     'response_metadata': {}},\n",
              "    'response_metadata': {},\n",
              "    'type': 'human',\n",
              "    'name': None,\n",
              "    'id': 'df98147a-cb3d-4f1a-b7f7-1545c4b6f042',\n",
              "    'example': False}]},\n",
              " 'next': ['assistant'],\n",
              " 'tasks': [{'id': 'e497456f-827a-5027-87bd-b0ccd54aa89a',\n",
              "   'name': 'assistant',\n",
              "   'error': None,\n",
              "   'interrupts': [],\n",
              "   'state': None}],\n",
              " 'metadata': {'step': 0,\n",
              "  'run_id': '1ef6a449-7fbc-6c90-8754-4e6b1b582790',\n",
              "  'source': 'loop',\n",
              "  'writes': None,\n",
              "  'parents': {},\n",
              "  'user_id': '',\n",
              "  'graph_id': 'agent',\n",
              "  'thread_id': '708e1d8f-f7c8-4093-9bb4-999c4237cb4a',\n",
              "  'created_by': 'system',\n",
              "  'assistant_id': 'fe096781-5601-53d2-b2f6-0d3403f7e9ca'},\n",
              " 'created_at': '2024-09-03T22:33:51.380352+00:00',\n",
              " 'checkpoint_id': '1ef6a449-817f-6b55-8000-07c18fbdf7c8',\n",
              " 'parent_checkpoint_id': '1ef6a449-816c-6fd6-bfff-32a56dd2635f'}"
            ]
          },
          "execution_count": 24,
          "metadata": {},
          "output_type": "execute_result"
        }
      ],
      "source": [
        "states = await client.threads.get_history(thread['thread_id'])\n",
        "to_replay = states[-2]\n",
        "to_replay"
      ]
    },
    {
      "cell_type": "markdown",
      "id": "e33f865a",
      "metadata": {
        "id": "e33f865a"
      },
      "source": [
        "Let's stream with `stream_mode=\"values\"` to see the full state at every node as we replay."
      ]
    },
    {
      "cell_type": "code",
      "execution_count": null,
      "id": "325e8272",
      "metadata": {
        "id": "325e8272",
        "outputId": "9078a9a0-c0bd-40bd-b42c-a2c503808b36"
      },
      "outputs": [
        {
          "name": "stdout",
          "output_type": "stream",
          "text": [
            "Receiving new event of type: metadata...\n",
            "{'run_id': '1ef6a44a-5806-6bb1-b2ee-92ecfda7f67d'}\n",
            "\n",
            "\n",
            "\n",
            "Receiving new event of type: values...\n",
            "{'messages': [{'content': 'Multiply 2 and 3', 'additional_kwargs': {'example': False, 'additional_kwargs': {}, 'response_metadata': {}}, 'response_metadata': {}, 'type': 'human', 'name': None, 'id': 'df98147a-cb3d-4f1a-b7f7-1545c4b6f042', 'example': False}]}\n",
            "\n",
            "\n",
            "\n",
            "Receiving new event of type: values...\n",
            "{'messages': [{'content': 'Multiply 2 and 3', 'additional_kwargs': {'example': False, 'additional_kwargs': {}, 'response_metadata': {}}, 'response_metadata': {}, 'type': 'human', 'name': None, 'id': 'df98147a-cb3d-4f1a-b7f7-1545c4b6f042', 'example': False}, {'content': '', 'additional_kwargs': {'tool_calls': [{'index': 0, 'id': 'call_Rn9YQ6iZyYtzrELBz7EfQcs0', 'function': {'arguments': '{\"a\":2,\"b\":3}', 'name': 'multiply'}, 'type': 'function'}]}, 'response_metadata': {'finish_reason': 'tool_calls', 'model_name': 'gpt-4o-2024-05-13', 'system_fingerprint': 'fp_157b3831f5'}, 'type': 'ai', 'name': None, 'id': 'run-e60d82d7-7743-4f13-bebd-3616a88720a9', 'example': False, 'tool_calls': [{'name': 'multiply', 'args': {'a': 2, 'b': 3}, 'id': 'call_Rn9YQ6iZyYtzrELBz7EfQcs0', 'type': 'tool_call'}], 'invalid_tool_calls': [], 'usage_metadata': None}]}\n",
            "\n",
            "\n",
            "\n",
            "Receiving new event of type: values...\n",
            "{'messages': [{'content': 'Multiply 2 and 3', 'additional_kwargs': {'example': False, 'additional_kwargs': {}, 'response_metadata': {}}, 'response_metadata': {}, 'type': 'human', 'name': None, 'id': 'df98147a-cb3d-4f1a-b7f7-1545c4b6f042', 'example': False}, {'content': '', 'additional_kwargs': {'tool_calls': [{'index': 0, 'id': 'call_Rn9YQ6iZyYtzrELBz7EfQcs0', 'function': {'arguments': '{\"a\":2,\"b\":3}', 'name': 'multiply'}, 'type': 'function'}]}, 'response_metadata': {'finish_reason': 'tool_calls', 'model_name': 'gpt-4o-2024-05-13', 'system_fingerprint': 'fp_157b3831f5'}, 'type': 'ai', 'name': None, 'id': 'run-e60d82d7-7743-4f13-bebd-3616a88720a9', 'example': False, 'tool_calls': [{'name': 'multiply', 'args': {'a': 2, 'b': 3}, 'id': 'call_Rn9YQ6iZyYtzrELBz7EfQcs0', 'type': 'tool_call'}], 'invalid_tool_calls': [], 'usage_metadata': None}, {'content': '6', 'additional_kwargs': {}, 'response_metadata': {}, 'type': 'tool', 'name': 'multiply', 'id': 'f1be0b83-4565-4aa2-9b9a-cd8874c6a2bc', 'tool_call_id': 'call_Rn9YQ6iZyYtzrELBz7EfQcs0', 'artifact': None, 'status': 'success'}]}\n",
            "\n",
            "\n",
            "\n",
            "Receiving new event of type: values...\n",
            "{'messages': [{'content': 'Multiply 2 and 3', 'additional_kwargs': {'example': False, 'additional_kwargs': {}, 'response_metadata': {}}, 'response_metadata': {}, 'type': 'human', 'name': None, 'id': 'df98147a-cb3d-4f1a-b7f7-1545c4b6f042', 'example': False}, {'content': '', 'additional_kwargs': {'tool_calls': [{'index': 0, 'id': 'call_Rn9YQ6iZyYtzrELBz7EfQcs0', 'function': {'arguments': '{\"a\":2,\"b\":3}', 'name': 'multiply'}, 'type': 'function'}]}, 'response_metadata': {'finish_reason': 'tool_calls', 'model_name': 'gpt-4o-2024-05-13', 'system_fingerprint': 'fp_157b3831f5'}, 'type': 'ai', 'name': None, 'id': 'run-e60d82d7-7743-4f13-bebd-3616a88720a9', 'example': False, 'tool_calls': [{'name': 'multiply', 'args': {'a': 2, 'b': 3}, 'id': 'call_Rn9YQ6iZyYtzrELBz7EfQcs0', 'type': 'tool_call'}], 'invalid_tool_calls': [], 'usage_metadata': None}, {'content': '6', 'additional_kwargs': {}, 'response_metadata': {}, 'type': 'tool', 'name': 'multiply', 'id': 'f1be0b83-4565-4aa2-9b9a-cd8874c6a2bc', 'tool_call_id': 'call_Rn9YQ6iZyYtzrELBz7EfQcs0', 'artifact': None, 'status': 'success'}, {'content': 'The result of multiplying 2 and 3 is 6.', 'additional_kwargs': {}, 'response_metadata': {'finish_reason': 'stop', 'model_name': 'gpt-4o-2024-05-13', 'system_fingerprint': 'fp_157b3831f5'}, 'type': 'ai', 'name': None, 'id': 'run-55e5847a-d542-4977-84d7-24852e78b0a9', 'example': False, 'tool_calls': [], 'invalid_tool_calls': [], 'usage_metadata': None}]}\n",
            "\n",
            "\n",
            "\n"
          ]
        }
      ],
      "source": [
        "async for chunk in client.runs.stream(\n",
        "    thread[\"thread_id\"],\n",
        "    assistant_id=\"agent\",\n",
        "    input=None,\n",
        "    stream_mode=\"values\",\n",
        "    checkpoint_id=to_replay['checkpoint_id']\n",
        "):\n",
        "    print(f\"Receiving new event of type: {chunk.event}...\")\n",
        "    print(chunk.data)\n",
        "    print(\"\\n\\n\")"
      ]
    },
    {
      "cell_type": "markdown",
      "id": "14c153b3",
      "metadata": {
        "id": "14c153b3"
      },
      "source": [
        "We can all view this as streaming only `updates` to state made by the nodes that we reply."
      ]
    },
    {
      "cell_type": "code",
      "execution_count": null,
      "id": "9e608e93",
      "metadata": {
        "id": "9e608e93",
        "outputId": "d0f4f96c-be71-4893-a02b-c4f5442c2e68"
      },
      "outputs": [
        {
          "name": "stdout",
          "output_type": "stream",
          "text": [
            "--------------------Assistant Node--------------------\n",
            "{'content': '', 'additional_kwargs': {'tool_calls': [{'index': 0, 'id': 'call_I2qudhMCwcw1GzcFN5q80rjj', 'function': {'arguments': '{\"a\":2,\"b\":3}', 'name': 'multiply'}, 'type': 'function'}]}, 'response_metadata': {'finish_reason': 'tool_calls', 'model_name': 'gpt-4o-2024-05-13', 'system_fingerprint': 'fp_157b3831f5'}, 'type': 'ai', 'name': None, 'id': 'run-550e75ad-dbbc-4e55-9f00-aa896228914c', 'example': False, 'tool_calls': [{'name': 'multiply', 'args': {'a': 2, 'b': 3}, 'id': 'call_I2qudhMCwcw1GzcFN5q80rjj', 'type': 'tool_call'}], 'invalid_tool_calls': [], 'usage_metadata': None}\n",
            "--------------------Tools Node--------------------\n",
            "{'content': '6', 'additional_kwargs': {}, 'response_metadata': {}, 'type': 'tool', 'name': 'multiply', 'id': '731b7d4f-780d-4a8b-aec9-0d8b9c58c40a', 'tool_call_id': 'call_I2qudhMCwcw1GzcFN5q80rjj', 'artifact': None, 'status': 'success'}\n",
            "--------------------Assistant Node--------------------\n",
            "{'content': 'The result of multiplying 2 and 3 is 6.', 'additional_kwargs': {}, 'response_metadata': {'finish_reason': 'stop', 'model_name': 'gpt-4o-2024-05-13', 'system_fingerprint': 'fp_157b3831f5'}, 'type': 'ai', 'name': None, 'id': 'run-2326afa5-eb43-4568-b5ed-424c0a0fa076', 'example': False, 'tool_calls': [], 'invalid_tool_calls': [], 'usage_metadata': None}\n"
          ]
        }
      ],
      "source": [
        "async for chunk in client.runs.stream(\n",
        "    thread[\"thread_id\"],\n",
        "    assistant_id=\"agent\",\n",
        "    input=None,\n",
        "    stream_mode=\"updates\",\n",
        "    checkpoint_id=to_replay['checkpoint_id']\n",
        "):\n",
        "    if chunk.data:\n",
        "        assisant_node = chunk.data.get('assistant', {}).get('messages', [])\n",
        "        tool_node = chunk.data.get('tools', {}).get('messages', [])\n",
        "        if assisant_node:\n",
        "            print(\"-\" * 20+\"Assistant Node\"+\"-\" * 20)\n",
        "            print(assisant_node[-1])\n",
        "        elif tool_node:\n",
        "            print(\"-\" * 20+\"Tools Node\"+\"-\" * 20)\n",
        "            print(tool_node[-1])"
      ]
    },
    {
      "cell_type": "markdown",
      "id": "8e66e0e8",
      "metadata": {
        "id": "8e66e0e8"
      },
      "source": [
        "#### Forking\n",
        "\n",
        "Now, let's look at forking.\n",
        "\n",
        "Let's get the same step as we worked with above, the human input.\n",
        "\n",
        "Let's create a new thread with our agent."
      ]
    },
    {
      "cell_type": "code",
      "execution_count": null,
      "id": "01af5ed4",
      "metadata": {
        "id": "01af5ed4",
        "outputId": "2e6ef281-e352-4d9e-8522-3c5003c1a7ee"
      },
      "outputs": [
        {
          "name": "stdout",
          "output_type": "stream",
          "text": [
            "--------------------Assistant Node--------------------\n",
            "{'content': '', 'additional_kwargs': {'tool_calls': [{'index': 0, 'id': 'call_HdWoyLELFZGEcqGxFt2fZzek', 'function': {'arguments': '{\"a\":2,\"b\":3}', 'name': 'multiply'}, 'type': 'function'}]}, 'response_metadata': {'finish_reason': 'tool_calls', 'model_name': 'gpt-4o-2024-05-13', 'system_fingerprint': 'fp_157b3831f5'}, 'type': 'ai', 'name': None, 'id': 'run-cbd081b1-8cef-4ca8-9dd5-aceb134404dc', 'example': False, 'tool_calls': [{'name': 'multiply', 'args': {'a': 2, 'b': 3}, 'id': 'call_HdWoyLELFZGEcqGxFt2fZzek', 'type': 'tool_call'}], 'invalid_tool_calls': [], 'usage_metadata': None}\n",
            "--------------------Tools Node--------------------\n",
            "{'content': '6', 'additional_kwargs': {}, 'response_metadata': {}, 'type': 'tool', 'name': 'multiply', 'id': '11dd4a7f-0b6b-44da-b9a4-65f1677c8813', 'tool_call_id': 'call_HdWoyLELFZGEcqGxFt2fZzek', 'artifact': None, 'status': 'success'}\n",
            "--------------------Assistant Node--------------------\n",
            "{'content': 'The result of multiplying 2 and 3 is 6.', 'additional_kwargs': {}, 'response_metadata': {'finish_reason': 'stop', 'model_name': 'gpt-4o-2024-05-13', 'system_fingerprint': 'fp_157b3831f5'}, 'type': 'ai', 'name': None, 'id': 'run-936cf990-9302-45c7-9051-6ff1e2e9f316', 'example': False, 'tool_calls': [], 'invalid_tool_calls': [], 'usage_metadata': None}\n"
          ]
        }
      ],
      "source": [
        "initial_input = {\"messages\": HumanMessage(content=\"Multiply 2 and 3\")}\n",
        "thread = await client.threads.create()\n",
        "async for chunk in client.runs.stream(\n",
        "    thread[\"thread_id\"],\n",
        "    assistant_id=\"agent\",\n",
        "    input=initial_input,\n",
        "    stream_mode=\"updates\",\n",
        "):\n",
        "    if chunk.data:\n",
        "        assisant_node = chunk.data.get('assistant', {}).get('messages', [])\n",
        "        tool_node = chunk.data.get('tools', {}).get('messages', [])\n",
        "        if assisant_node:\n",
        "            print(\"-\" * 20+\"Assistant Node\"+\"-\" * 20)\n",
        "            print(assisant_node[-1])\n",
        "        elif tool_node:\n",
        "            print(\"-\" * 20+\"Tools Node\"+\"-\" * 20)\n",
        "            print(tool_node[-1])"
      ]
    },
    {
      "cell_type": "code",
      "execution_count": null,
      "id": "3dbc8795-c3f5-4559-a00e-dc410c0a927f",
      "metadata": {
        "id": "3dbc8795-c3f5-4559-a00e-dc410c0a927f",
        "outputId": "295d2487-df00-4cee-b4c9-ba2cd4364dd7"
      },
      "outputs": [
        {
          "data": {
            "text/plain": [
              "{'messages': [{'content': 'Multiply 2 and 3',\n",
              "   'additional_kwargs': {'example': False,\n",
              "    'additional_kwargs': {},\n",
              "    'response_metadata': {}},\n",
              "   'response_metadata': {},\n",
              "   'type': 'human',\n",
              "   'name': None,\n",
              "   'id': '93c18b95-9050-4a52-99b8-9374e98ee5db',\n",
              "   'example': False}]}"
            ]
          },
          "execution_count": 28,
          "metadata": {},
          "output_type": "execute_result"
        }
      ],
      "source": [
        "states = await client.threads.get_history(thread['thread_id'])\n",
        "to_fork = states[-2]\n",
        "to_fork['values']"
      ]
    },
    {
      "cell_type": "code",
      "execution_count": null,
      "id": "11e6cde1-0388-43ea-b994-1c4e9ca1199b",
      "metadata": {
        "id": "11e6cde1-0388-43ea-b994-1c4e9ca1199b",
        "outputId": "d963b124-9dd4-43d5-c154-91f259ba820e"
      },
      "outputs": [
        {
          "data": {
            "text/plain": [
              "'93c18b95-9050-4a52-99b8-9374e98ee5db'"
            ]
          },
          "execution_count": 29,
          "metadata": {},
          "output_type": "execute_result"
        }
      ],
      "source": [
        "to_fork['values']['messages'][0]['id']"
      ]
    },
    {
      "cell_type": "code",
      "execution_count": null,
      "id": "0c1e2300-c8b2-4994-a96d-1be19c04b6a8",
      "metadata": {
        "id": "0c1e2300-c8b2-4994-a96d-1be19c04b6a8",
        "outputId": "564ccdcd-9ca9-4a96-a60a-120046932f2d"
      },
      "outputs": [
        {
          "data": {
            "text/plain": [
              "['assistant']"
            ]
          },
          "execution_count": 30,
          "metadata": {},
          "output_type": "execute_result"
        }
      ],
      "source": [
        "to_fork['next']"
      ]
    },
    {
      "cell_type": "code",
      "execution_count": null,
      "id": "9d31d5aa-524f-42f4-ba7e-713a029610d6",
      "metadata": {
        "id": "9d31d5aa-524f-42f4-ba7e-713a029610d6",
        "outputId": "fd93e6f5-0f9b-4fa1-81ad-0094f9420d8f"
      },
      "outputs": [
        {
          "data": {
            "text/plain": [
              "'1ef6a44b-27ec-681c-8000-ff7e345aee7e'"
            ]
          },
          "execution_count": 31,
          "metadata": {},
          "output_type": "execute_result"
        }
      ],
      "source": [
        "to_fork['checkpoint_id']"
      ]
    },
    {
      "cell_type": "markdown",
      "id": "8f11e1d9-9fe7-4243-a06f-9b07e38a12ad",
      "metadata": {
        "id": "8f11e1d9-9fe7-4243-a06f-9b07e38a12ad"
      },
      "source": [
        "Let's edit the state.\n",
        "\n",
        "Remember how our reducer on `messages` works:\n",
        "\n",
        "* It will append, unless we supply a message ID.\n",
        "* We supply the message ID to overwrite the message, rather than appending to state!"
      ]
    },
    {
      "cell_type": "code",
      "execution_count": null,
      "id": "0198f1b8-2f57-4c6e-ac6a-c6fb80cce0bd",
      "metadata": {
        "id": "0198f1b8-2f57-4c6e-ac6a-c6fb80cce0bd"
      },
      "outputs": [],
      "source": [
        "forked_input = {\"messages\": HumanMessage(content=\"Multiply 3 and 3\",\n",
        "                                         id=to_fork['values']['messages'][0]['id'])}\n",
        "\n",
        "forked_config = await client.threads.update_state(\n",
        "    thread[\"thread_id\"],\n",
        "    forked_input,\n",
        "    checkpoint_id=to_fork['checkpoint_id']\n",
        ")"
      ]
    },
    {
      "cell_type": "code",
      "execution_count": null,
      "id": "1dcd5b8e-6bb1-4967-84cf-4af710b8bf46",
      "metadata": {
        "id": "1dcd5b8e-6bb1-4967-84cf-4af710b8bf46",
        "outputId": "f24ef3c7-a1a6-473e-c449-e8d0bb1dcabf"
      },
      "outputs": [
        {
          "data": {
            "text/plain": [
              "{'configurable': {'thread_id': 'c99502e7-b0d7-473e-8295-1ad60e2b7ed2',\n",
              "  'checkpoint_ns': '',\n",
              "  'checkpoint_id': '1ef6a44b-90dc-68c8-8001-0c36898e0f34'},\n",
              " 'checkpoint_id': '1ef6a44b-90dc-68c8-8001-0c36898e0f34'}"
            ]
          },
          "execution_count": 33,
          "metadata": {},
          "output_type": "execute_result"
        }
      ],
      "source": [
        "forked_config"
      ]
    },
    {
      "cell_type": "code",
      "execution_count": null,
      "id": "015ac68a-5cc1-4c42-90a2-5b2b4865a153",
      "metadata": {
        "id": "015ac68a-5cc1-4c42-90a2-5b2b4865a153",
        "outputId": "1fc8fd38-f7c1-4f44-981b-9b6a7463c557"
      },
      "outputs": [
        {
          "data": {
            "text/plain": [
              "{'values': {'messages': [{'content': 'Multiply 3 and 3',\n",
              "    'additional_kwargs': {'additional_kwargs': {},\n",
              "     'response_metadata': {},\n",
              "     'example': False},\n",
              "    'response_metadata': {},\n",
              "    'type': 'human',\n",
              "    'name': None,\n",
              "    'id': '93c18b95-9050-4a52-99b8-9374e98ee5db',\n",
              "    'example': False}]},\n",
              " 'next': ['assistant'],\n",
              " 'tasks': [{'id': 'da5d6548-62ca-5e69-ba70-f6179b2743bd',\n",
              "   'name': 'assistant',\n",
              "   'error': None,\n",
              "   'interrupts': [],\n",
              "   'state': None}],\n",
              " 'metadata': {'step': 1,\n",
              "  'source': 'update',\n",
              "  'writes': {'__start__': {'messages': {'id': '93c18b95-9050-4a52-99b8-9374e98ee5db',\n",
              "     'name': None,\n",
              "     'type': 'human',\n",
              "     'content': 'Multiply 3 and 3',\n",
              "     'example': False,\n",
              "     'additional_kwargs': {},\n",
              "     'response_metadata': {}}}},\n",
              "  'parents': {},\n",
              "  'graph_id': 'agent'},\n",
              " 'created_at': '2024-09-03T22:34:46.678333+00:00',\n",
              " 'checkpoint_id': '1ef6a44b-90dc-68c8-8001-0c36898e0f34',\n",
              " 'parent_checkpoint_id': '1ef6a44b-27ec-681c-8000-ff7e345aee7e'}"
            ]
          },
          "execution_count": 34,
          "metadata": {},
          "output_type": "execute_result"
        }
      ],
      "source": [
        "states = await client.threads.get_history(thread['thread_id'])\n",
        "states[0]"
      ]
    },
    {
      "cell_type": "markdown",
      "id": "3de80029-b987-49c5-890d-6cd70cbc8de7",
      "metadata": {
        "id": "3de80029-b987-49c5-890d-6cd70cbc8de7"
      },
      "source": [
        "To rerun, we pass in the `checkpoint_id`."
      ]
    },
    {
      "cell_type": "code",
      "execution_count": null,
      "id": "da005240-d3f0-4c89-9aca-dfcb5d410ceb",
      "metadata": {
        "id": "da005240-d3f0-4c89-9aca-dfcb5d410ceb",
        "outputId": "22783171-fe9f-4ba6-8465-37e25cf4a389"
      },
      "outputs": [
        {
          "name": "stdout",
          "output_type": "stream",
          "text": [
            "--------------------Assistant Node--------------------\n",
            "{'content': '', 'additional_kwargs': {'tool_calls': [{'index': 0, 'id': 'call_aodhCt5fWv33qVbO7Nsub9Q3', 'function': {'arguments': '{\"a\":3,\"b\":3}', 'name': 'multiply'}, 'type': 'function'}]}, 'response_metadata': {'finish_reason': 'tool_calls', 'model_name': 'gpt-4o-2024-05-13', 'system_fingerprint': 'fp_157b3831f5'}, 'type': 'ai', 'name': None, 'id': 'run-e9759422-e537-4b9b-b583-36c688e13b4b', 'example': False, 'tool_calls': [{'name': 'multiply', 'args': {'a': 3, 'b': 3}, 'id': 'call_aodhCt5fWv33qVbO7Nsub9Q3', 'type': 'tool_call'}], 'invalid_tool_calls': [], 'usage_metadata': None}\n",
            "--------------------Tools Node--------------------\n",
            "{'content': '9', 'additional_kwargs': {}, 'response_metadata': {}, 'type': 'tool', 'name': 'multiply', 'id': '89787b0b-93de-4c0a-bea8-d2c3845534e1', 'tool_call_id': 'call_aodhCt5fWv33qVbO7Nsub9Q3', 'artifact': None, 'status': 'success'}\n",
            "--------------------Assistant Node--------------------\n",
            "{'content': 'The result of multiplying 3 by 3 is 9.', 'additional_kwargs': {}, 'response_metadata': {'finish_reason': 'stop', 'model_name': 'gpt-4o-2024-05-13', 'system_fingerprint': 'fp_157b3831f5'}, 'type': 'ai', 'name': None, 'id': 'run-0e16610f-4e8d-46f3-a5df-c2f187fae593', 'example': False, 'tool_calls': [], 'invalid_tool_calls': [], 'usage_metadata': None}\n"
          ]
        }
      ],
      "source": [
        "async for chunk in client.runs.stream(\n",
        "    thread[\"thread_id\"],\n",
        "    assistant_id=\"agent\",\n",
        "    input=None,\n",
        "    stream_mode=\"updates\",\n",
        "    checkpoint_id=forked_config['checkpoint_id']\n",
        "):\n",
        "    if chunk.data:\n",
        "        assisant_node = chunk.data.get('assistant', {}).get('messages', [])\n",
        "        tool_node = chunk.data.get('tools', {}).get('messages', [])\n",
        "        if assisant_node:\n",
        "            print(\"-\" * 20+\"Assistant Node\"+\"-\" * 20)\n",
        "            print(assisant_node[-1])\n",
        "        elif tool_node:\n",
        "            print(\"-\" * 20+\"Tools Node\"+\"-\" * 20)\n",
        "            print(tool_node[-1])"
      ]
    },
    {
      "cell_type": "markdown",
      "id": "36956571-a2b8-4f1b-8e30-51f02f155a6f",
      "metadata": {
        "id": "36956571-a2b8-4f1b-8e30-51f02f155a6f"
      },
      "source": [
        "### LangGraph Studio\n",
        "\n",
        "Let's look at forking in the Studio UI with our `agent`, which uses `module-1/studio/agent.py` set in `module-1/studio/langgraph.json`."
      ]
    }
  ],
  "metadata": {
    "kernelspec": {
      "display_name": "Python 3 (ipykernel)",
      "language": "python",
      "name": "python3"
    },
    "language_info": {
      "codemirror_mode": {
        "name": "ipython",
        "version": 3
      },
      "file_extension": ".py",
      "mimetype": "text/x-python",
      "name": "python",
      "nbconvert_exporter": "python",
      "pygments_lexer": "ipython3",
      "version": "3.11.1"
    },
    "colab": {
      "provenance": []
    }
  },
  "nbformat": 4,
  "nbformat_minor": 5
}