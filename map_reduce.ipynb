{
  "cells": [
    {
      "cell_type": "markdown",
      "id": "4cd4f701",
      "metadata": {
        "id": "4cd4f701"
      },
      "source": [
        "[![Open in Colab](https://colab.research.google.com/assets/colab-badge.svg)](https://colab.research.google.com/github/langchain-ai/langchain-academy/blob/main/module-4/map-reduce.ipynb) [![Open in LangChain Academy](https://cdn.prod.website-files.com/65b8cd72835ceeacd4449a53/66e9eba12c7b7688aa3dbb5e_LCA-badge-green.svg)](https://academy.langchain.com/courses/take/intro-to-langgraph/lessons/58239947-lesson-3-map-reduce)"
      ]
    },
    {
      "cell_type": "markdown",
      "id": "36737349-c949-4d64-9aa3-3767cbd02ad1",
      "metadata": {
        "id": "36737349-c949-4d64-9aa3-3767cbd02ad1"
      },
      "source": [
        "# Map-reduce\n",
        "\n",
        "## Review\n",
        "\n",
        "We're building up to a multi-agent research assistant that ties together all of the modules from this course.\n",
        "\n",
        "To build this multi-agent assistant, we've been introducing a few LangGraph controllability topics.\n",
        "\n",
        "We just covered parallelization and sub-graphs.\n",
        "\n",
        "## Goals\n",
        "\n",
        "Now, we're going to cover [map reduce](https://langchain-ai.github.io/langgraph/how-tos/map-reduce/)."
      ]
    },
    {
      "cell_type": "code",
      "execution_count": 1,
      "id": "f24e95c8",
      "metadata": {
        "id": "f24e95c8"
      },
      "outputs": [],
      "source": [
        "%%capture --no-stderr\n",
        "%pip install -U langchain_openai langgraph"
      ]
    },
    {
      "cell_type": "code",
      "execution_count": 2,
      "id": "ff57cbf7",
      "metadata": {
        "colab": {
          "base_uri": "https://localhost:8080/"
        },
        "id": "ff57cbf7",
        "outputId": "7f8f0c78-d946-4517-b422-91c7fa01bf7e"
      },
      "outputs": [
        {
          "name": "stdout",
          "output_type": "stream",
          "text": [
            "OPENAI_API_KEY: ··········\n"
          ]
        }
      ],
      "source": [
        "import os, getpass\n",
        "\n",
        "def _set_env(var: str):\n",
        "    if not os.environ.get(var):\n",
        "        os.environ[var] = getpass.getpass(f\"{var}: \")\n",
        "\n",
        "_set_env(\"OPENAI_API_KEY\")"
      ]
    },
    {
      "cell_type": "markdown",
      "id": "cbcd868a",
      "metadata": {
        "id": "cbcd868a"
      },
      "source": [
        "We'll use [LangSmith](https://docs.smith.langchain.com/) for [tracing](https://docs.smith.langchain.com/concepts/tracing)."
      ]
    },
    {
      "cell_type": "code",
      "execution_count": 3,
      "id": "9fdc647f",
      "metadata": {
        "colab": {
          "base_uri": "https://localhost:8080/"
        },
        "id": "9fdc647f",
        "outputId": "190b1c3b-2d24-4ebc-aceb-6f38d375eb51"
      },
      "outputs": [
        {
          "name": "stdout",
          "output_type": "stream",
          "text": [
            "LANGSMITH_API_KEY: ··········\n"
          ]
        }
      ],
      "source": [
        "_set_env(\"LANGSMITH_API_KEY\")\n",
        "os.environ[\"LANGSMITH_TRACING\"] = \"true\"\n",
        "os.environ[\"LANGSMITH_PROJECT\"] = \"langchain-academy\""
      ]
    },
    {
      "cell_type": "markdown",
      "id": "2bbe9b9f-4375-4bca-8e32-7d57cb861469",
      "metadata": {
        "id": "2bbe9b9f-4375-4bca-8e32-7d57cb861469"
      },
      "source": [
        "## Problem\n",
        "\n",
        "Map-reduce operations are essential for efficient task decomposition and parallel processing.\n",
        "\n",
        "It has two phases:\n",
        "\n",
        "(1) `Map` - Break a task into smaller sub-tasks, processing each sub-task in parallel.\n",
        "\n",
        "(2) `Reduce` - Aggregate the results across all of the completed, parallelized sub-tasks.\n",
        "\n",
        "Let's design a system that will do two things:\n",
        "\n",
        "(1) `Map` - Create a set of jokes about a topic.\n",
        "\n",
        "(2) `Reduce` - Pick the best joke from the list.\n",
        "\n",
        "We'll use an LLM to do the job generation and selection."
      ]
    },
    {
      "cell_type": "code",
      "execution_count": 4,
      "id": "994cf903-1ed6-4ae2-b32a-7891a2808f81",
      "metadata": {
        "id": "994cf903-1ed6-4ae2-b32a-7891a2808f81"
      },
      "outputs": [],
      "source": [
        "from langchain_openai import ChatOpenAI\n",
        "\n",
        "# Prompts we will use\n",
        "subjects_prompt = \"\"\"Generate a list of 3 sub-topics that are all related to this overall topic: {topic}.\"\"\"\n",
        "joke_prompt = \"\"\"Generate a joke about {subject}\"\"\"\n",
        "best_joke_prompt = \"\"\"Below are a bunch of jokes about {topic}. Select the best one! Return the ID of the best one, starting 0 as the ID for the first joke. Jokes: \\n\\n  {jokes}\"\"\"\n",
        "\n",
        "# LLM\n",
        "model = ChatOpenAI(model=\"gpt-4o\", temperature=0)"
      ]
    },
    {
      "cell_type": "code",
      "source": [
        "from langchain_openai import ChatOpenAI\n",
        "\n",
        "tagline_styles_prompt = \"\"\"Generate a list of 3 contrasting creative styles for a product tagline based on this product description: {topic}. For example, if the product is 'Smartwatch', you might suggest 'Sophisticated & Formal', 'Playful & Casual', and 'Bold & Disruptive'.\"\"\"\n",
        "tagline_prompt = \"\"\"Generate a short, creative tagline for the product: '{topic}' that fits the style of '{style}'. The tagline must be a single, complete sentence.\"\"\"\n",
        "best_tagline_prompt = \"\"\"Below are a list of taglines for the product '{topic}'. Select the best one, where 'best' means the one with the FEWEST number of words. Return the ID of the best one, starting 0 as the ID for the first tagline. Taglines: \\n\\n {taglines}\"\"\"\n",
        "\n",
        "model = ChatOpenAI(model=\"gpt-4o\", temperature=0.2)"
      ],
      "metadata": {
        "id": "PUpwTOKTQV15"
      },
      "id": "PUpwTOKTQV15",
      "execution_count": 12,
      "outputs": []
    },
    {
      "cell_type": "markdown",
      "id": "f3b883cc-3469-4e96-b1a4-deadf7bf3ce5",
      "metadata": {
        "id": "f3b883cc-3469-4e96-b1a4-deadf7bf3ce5"
      },
      "source": [
        "## State\n",
        "\n",
        "### Parallelizing joke generation\n",
        "\n",
        "First, let's define the entry point of the graph that will:\n",
        "\n",
        "* Take a user input topic\n",
        "* Produce a list of joke topics from it\n",
        "* Send each joke topic to our above joke generation node\n",
        "\n",
        "Our state has a `jokes` key, which will accumulate jokes from parallelized joke generation"
      ]
    },
    {
      "cell_type": "code",
      "execution_count": 5,
      "id": "099218ca-ee78-4291-95a1-87ee61382e3b",
      "metadata": {
        "id": "099218ca-ee78-4291-95a1-87ee61382e3b"
      },
      "outputs": [],
      "source": [
        "import operator\n",
        "from typing import Annotated\n",
        "from typing_extensions import TypedDict\n",
        "from pydantic import BaseModel\n",
        "\n",
        "class Subjects(BaseModel):\n",
        "    subjects: list[str]\n",
        "\n",
        "class BestJoke(BaseModel):\n",
        "    id: int\n",
        "\n",
        "class OverallState(TypedDict):\n",
        "    topic: str\n",
        "    subjects: list\n",
        "    jokes: Annotated[list, operator.add]\n",
        "    best_selected_joke: str"
      ]
    },
    {
      "cell_type": "code",
      "source": [
        "import operator\n",
        "from typing import Annotated\n",
        "from typing_extensions import TypedDict\n",
        "from pydantic import BaseModel, Field\n",
        "\n",
        "class TaglineStyles(BaseModel):\n",
        "    styles: list[str] = Field(description=\"A list of 3 contrasting creative styles for a product tagline.\")\n",
        "\n",
        "class BestTaglineID(BaseModel):\n",
        "    # Added explicit instruction on the valid index range\n",
        "    id: int = Field(description=\"The 0-based index of the best tagline. Since there are 3 taglines, the ID must be 0, 1, or 2.\")\n",
        "\n",
        "class OverallState(TypedDict):\n",
        "    topic: str\n",
        "    styles: list\n",
        "    # Use operator.add to accumulate the list of generated taglines\n",
        "    taglines: Annotated[list, operator.add]\n",
        "    best_selected_tagline: str"
      ],
      "metadata": {
        "id": "ckV7c-vyQejb"
      },
      "id": "ckV7c-vyQejb",
      "execution_count": 20,
      "outputs": []
    },
    {
      "cell_type": "markdown",
      "id": "c7176d1c-4a88-4b0f-a960-ee04a45279bd",
      "metadata": {
        "id": "c7176d1c-4a88-4b0f-a960-ee04a45279bd"
      },
      "source": [
        "Generate subjects for jokes."
      ]
    },
    {
      "cell_type": "code",
      "execution_count": 6,
      "id": "45010efd-ad31-4daa-b77e-aaec79ef0309",
      "metadata": {
        "id": "45010efd-ad31-4daa-b77e-aaec79ef0309"
      },
      "outputs": [],
      "source": [
        "def generate_topics(state: OverallState):\n",
        "    prompt = subjects_prompt.format(topic=state[\"topic\"])\n",
        "    response = model.with_structured_output(Subjects).invoke(prompt)\n",
        "    return {\"subjects\": response.subjects}"
      ]
    },
    {
      "cell_type": "code",
      "source": [
        "def generate_styles(state: OverallState):\n",
        "    prompt = tagline_styles_prompt.format(topic=state[\"topic\"])\n",
        "    response = model.with_structured_output(TaglineStyles).invoke(prompt)\n",
        "    return {\"styles\": response.styles}"
      ],
      "metadata": {
        "id": "i2SRMFsRQiax"
      },
      "id": "i2SRMFsRQiax",
      "execution_count": 14,
      "outputs": []
    },
    {
      "cell_type": "markdown",
      "id": "e5296bb0-c163-4e5c-8181-1e305b37442a",
      "metadata": {
        "id": "e5296bb0-c163-4e5c-8181-1e305b37442a"
      },
      "source": [
        "Here is the magic: we use the [Send](https://langchain-ai.github.io/langgraph/concepts/low_level/#send) to create a joke for each subject.\n",
        "\n",
        "This is very useful! It can automatically parallelize joke generation for any number of subjects.\n",
        "\n",
        "* `generate_joke`: the name of the node in the graph\n",
        "* `{\"subject\": s`}: the state to send\n",
        "\n",
        "`Send` allow you to pass any state that you want to `generate_joke`! It does not have to align with `OverallState`.\n",
        "\n",
        "In this case, `generate_joke` is using its own internal state, and we can populate this via `Send`."
      ]
    },
    {
      "cell_type": "code",
      "execution_count": 7,
      "id": "bc83e575-11f6-41a9-990a-adb571bcda06",
      "metadata": {
        "id": "bc83e575-11f6-41a9-990a-adb571bcda06"
      },
      "outputs": [],
      "source": [
        "from langgraph.types import Send\n",
        "def continue_to_jokes(state: OverallState):\n",
        "    return [Send(\"generate_joke\", {\"subject\": s}) for s in state[\"subjects\"]]"
      ]
    },
    {
      "cell_type": "code",
      "source": [
        "from langgraph.types import Send\n",
        "def continue_to_taglines(state: OverallState):\n",
        "    return [Send(\"generate_tagline\", {\"style\": s, \"topic\": state[\"topic\"]}) for s in state[\"styles\"]]"
      ],
      "metadata": {
        "id": "5Go5_E-QQmYN"
      },
      "id": "5Go5_E-QQmYN",
      "execution_count": 15,
      "outputs": []
    },
    {
      "cell_type": "markdown",
      "id": "9847192d-d358-411e-90c0-f06be0738717",
      "metadata": {
        "id": "9847192d-d358-411e-90c0-f06be0738717"
      },
      "source": [
        "### Joke generation (map)\n",
        "\n",
        "Now, we just define a node that will create our jokes, `generate_joke`!\n",
        "\n",
        "We write them back out to `jokes` in `OverallState`!\n",
        "\n",
        "This key has a reducer that will combine lists."
      ]
    },
    {
      "cell_type": "code",
      "execution_count": 8,
      "id": "bcddc567-73d3-4fb3-bfc5-1bea538f2aab",
      "metadata": {
        "id": "bcddc567-73d3-4fb3-bfc5-1bea538f2aab"
      },
      "outputs": [],
      "source": [
        "class JokeState(TypedDict):\n",
        "    subject: str\n",
        "\n",
        "class Joke(BaseModel):\n",
        "    joke: str\n",
        "\n",
        "def generate_joke(state: JokeState):\n",
        "    prompt = joke_prompt.format(subject=state[\"subject\"])\n",
        "    response = model.with_structured_output(Joke).invoke(prompt)\n",
        "    return {\"jokes\": [response.joke]}"
      ]
    },
    {
      "cell_type": "code",
      "source": [
        "class TaglineState(TypedDict):\n",
        "    topic: str\n",
        "    style: str\n",
        "\n",
        "class Tagline(BaseModel):\n",
        "    tagline: str = Field(description=\"The short, creative tagline.\")\n",
        "\n",
        "def generate_tagline(state: TaglineState):\n",
        "    prompt = tagline_prompt.format(topic=state[\"topic\"], style=state[\"style\"])\n",
        "    response = model.with_structured_output(Tagline).invoke(prompt)\n",
        "    # Return a list of one tagline to accumulate in the 'taglines' key\n",
        "    return {\"taglines\": [response.tagline]}"
      ],
      "metadata": {
        "id": "ErBcLSoQQp21"
      },
      "id": "ErBcLSoQQp21",
      "execution_count": 16,
      "outputs": []
    },
    {
      "cell_type": "markdown",
      "id": "02960657-d174-4076-99a8-b3f9eea015f4",
      "metadata": {
        "id": "02960657-d174-4076-99a8-b3f9eea015f4"
      },
      "source": [
        "### Best joke selection (reduce)\n",
        "\n",
        "Now, we add logic to pick the best joke."
      ]
    },
    {
      "cell_type": "code",
      "execution_count": 9,
      "id": "8d672870-75e3-4307-bda0-c41a86cbbaff",
      "metadata": {
        "id": "8d672870-75e3-4307-bda0-c41a86cbbaff"
      },
      "outputs": [],
      "source": [
        "def best_joke(state: OverallState):\n",
        "    jokes = \"\\n\\n\".join(state[\"jokes\"])\n",
        "    prompt = best_joke_prompt.format(topic=state[\"topic\"], jokes=jokes)\n",
        "    response = model.with_structured_output(BestJoke).invoke(prompt)\n",
        "    return {\"best_selected_joke\": state[\"jokes\"][response.id]}"
      ]
    },
    {
      "cell_type": "code",
      "source": [
        "def best_tagline(state: OverallState):\n",
        "    taglines_list = \"\\n\\n---\\n\\n\".join(\n",
        "        [f\"ID: {i}\\nTagline: {r}\" for i, r in enumerate(state[\"taglines\"])]\n",
        "    )\n",
        "    prompt = best_tagline_prompt.format(topic=state[\"topic\"], taglines=taglines_list)\n",
        "    response = model.with_structured_output(BestTaglineID).invoke(prompt)\n",
        "\n",
        "    selected_id = response.id\n",
        "    max_index = len(state[\"taglines\"]) - 1\n",
        "    if selected_id < 0 or selected_id > max_index:\n",
        "        print(f\"WARNING: LLM returned invalid index {selected_id}. Clamping to max index: {max_index}.\")\n",
        "        selected_id = max_index\n",
        "    return {\"best_selected_tagline\": state[\"taglines\"][selected_id]}"
      ],
      "metadata": {
        "id": "WMIHizfOQsyn"
      },
      "id": "WMIHizfOQsyn",
      "execution_count": 21,
      "outputs": []
    },
    {
      "cell_type": "markdown",
      "id": "837cd12e-5bff-426e-97f4-c774df998cfb",
      "metadata": {
        "id": "837cd12e-5bff-426e-97f4-c774df998cfb"
      },
      "source": [
        "## Compile"
      ]
    },
    {
      "cell_type": "code",
      "execution_count": 10,
      "id": "2ae6be4b-144e-483c-88ad-ce86d6477a0d",
      "metadata": {
        "colab": {
          "base_uri": "https://localhost:8080/",
          "height": 449
        },
        "id": "2ae6be4b-144e-483c-88ad-ce86d6477a0d",
        "outputId": "2c2ff17e-31bb-4e26-c328-ec0a3583387f"
      },
      "outputs": [
        {
          "output_type": "execute_result",
          "data": {
            "image/png": "[encoded data removed]",
            "text/plain": [
              "<IPython.core.display.Image object>"
            ]
          },
          "metadata": {},
          "execution_count": 10
        }
      ],
      "source": [
        "from IPython.display import Image\n",
        "from langgraph.graph import END, StateGraph, START\n",
        "\n",
        "# Construct the graph: here we put everything together to construct our graph\n",
        "graph = StateGraph(OverallState)\n",
        "graph.add_node(\"generate_topics\", generate_topics)\n",
        "graph.add_node(\"generate_joke\", generate_joke)\n",
        "graph.add_node(\"best_joke\", best_joke)\n",
        "graph.add_edge(START, \"generate_topics\")\n",
        "graph.add_conditional_edges(\"generate_topics\", continue_to_jokes, [\"generate_joke\"])\n",
        "graph.add_edge(\"generate_joke\", \"best_joke\")\n",
        "graph.add_edge(\"best_joke\", END)\n",
        "\n",
        "# Compile the graph\n",
        "app = graph.compile()\n",
        "Image(app.get_graph().draw_mermaid_png())"
      ]
    },
    {
      "cell_type": "code",
      "source": [
        "from IPython.display import Image\n",
        "from langgraph.graph import END, StateGraph, START\n",
        "\n",
        "# Construct the graph\n",
        "graph = StateGraph(OverallState)\n",
        "graph.add_node(\"generate_styles\", generate_styles)\n",
        "graph.add_node(\"generate_tagline\", generate_tagline)\n",
        "graph.add_node(\"best_tagline\", best_tagline)\n",
        "graph.add_edge(START, \"generate_styles\")\n",
        "graph.add_conditional_edges(\"generate_styles\", continue_to_taglines, [\"generate_tagline\"])\n",
        "graph.add_edge(\"generate_tagline\", \"best_tagline\")\n",
        "graph.add_edge(\"best_tagline\", END)\n",
        "\n",
        "app = graph.compile()\n",
        "Image(app.get_graph().draw_mermaid_png())"
      ],
      "metadata": {
        "colab": {
          "base_uri": "https://localhost:8080/",
          "height": 449
        },
        "id": "rQLUNhuOQy6q",
        "outputId": "6d271410-81ce-43d5-b88c-317b5bc389f9"
      },
      "id": "rQLUNhuOQy6q",
      "execution_count": 18,
      "outputs": [
        {
          "output_type": "execute_result",
          "data": {
            "image/png": "[encoded data removed]",
            "text/plain": [
              "<IPython.core.display.Image object>"
            ]
          },
          "metadata": {},
          "execution_count": 18
        }
      ]
    },
    {
      "cell_type": "code",
      "execution_count": 11,
      "id": "e21dc7c9-0add-4125-be76-af701adb874a",
      "metadata": {
        "colab": {
          "base_uri": "https://localhost:8080/"
        },
        "id": "e21dc7c9-0add-4125-be76-af701adb874a",
        "outputId": "d9cf713e-50a7-4a1c-fc94-29740cade426"
      },
      "outputs": [
        {
          "output_type": "stream",
          "name": "stdout",
          "text": [
            "{'generate_topics': {'subjects': ['Animal Behavior and Communication', 'Conservation and Endangered Species', 'Animal Physiology and Adaptations']}}\n",
            "{'generate_joke': {'jokes': ['Why did the endangered species start a band?\\n\\nBecause they wanted to make some noise before they went extinct!']}}\n",
            "{'generate_joke': {'jokes': ['Why did the parrot bring a ladder to the comedy club?\\n\\nBecause it wanted to reach the \"punchline\" in its jokes!']}}\n",
            "{'generate_joke': {'jokes': ['Why did the chameleon bring a ladder to the party?\\n\\nBecause it heard the drinks were on the house, and it wanted to adapt to the situation!']}}\n",
            "{'best_joke': {'best_selected_joke': 'Why did the parrot bring a ladder to the comedy club?\\n\\nBecause it wanted to reach the \"punchline\" in its jokes!'}}\n"
          ]
        }
      ],
      "source": [
        "# Call the graph: here we call it to generate a list of jokes\n",
        "for s in app.stream({\"topic\": \"animals\"}):\n",
        "    print(s)"
      ]
    },
    {
      "cell_type": "code",
      "source": [
        "# Call the graph: here we call it to generate a list of taglines and select the best (shortest)\n",
        "for s in app.stream({\"topic\": \"A biodegradable phone case that charges itself using solar power\"}):\n",
        "    print(s)"
      ],
      "metadata": {
        "colab": {
          "base_uri": "https://localhost:8080/"
        },
        "id": "EO9O5J73Q-M2",
        "outputId": "25023efd-67ee-4e13-e09d-edc90bf605eb"
      },
      "id": "EO9O5J73Q-M2",
      "execution_count": 22,
      "outputs": [
        {
          "output_type": "stream",
          "name": "stdout",
          "text": [
            "{'generate_styles': {'styles': ['Eco-Friendly & Inspirational', 'Tech-Savvy & Futuristic', 'Minimalist & Elegant']}}\n",
            "{'generate_tagline': {'taglines': ['\"Harness the Sun, Protect the Earth: Power Your Phone Sustainably.\"']}}\n",
            "{'generate_tagline': {'taglines': ['\"Harness the Sun, Protect the Earth: Charge Your World Sustainably.\"']}}\n",
            "{'generate_tagline': {'taglines': ['\"Sustainably Charged, Elegantly Protected.\"']}}\n",
            "{'best_tagline': {'best_selected_tagline': '\"Sustainably Charged, Elegantly Protected.\"'}}\n"
          ]
        }
      ]
    },
    {
      "cell_type": "code",
      "source": [],
      "metadata": {
        "id": "euhWVZ9YQ5pI"
      },
      "id": "euhWVZ9YQ5pI",
      "execution_count": null,
      "outputs": []
    },
    {
      "cell_type": "markdown",
      "id": "2a96517e-77ab-46e2-95e2-79168c044e9c",
      "metadata": {
        "id": "2a96517e-77ab-46e2-95e2-79168c044e9c"
      },
      "source": [
        "## Studio\n",
        "\n",
        "**⚠️ DISCLAIMER**\n",
        "\n",
        "Since the filming of these videos, we've updated Studio so that it can be run locally and opened in your browser. This is now the preferred way to run Studio (rather than using the Desktop App as shown in the video). See documentation [here](https://langchain-ai.github.io/langgraph/concepts/langgraph_studio/#local-development-server) on the local development server and [here](https://langchain-ai.github.io/langgraph/how-tos/local-studio/#run-the-development-server). To start the local development server, run the following command in your terminal in the `/studio` directory in this module:\n",
        "\n",
        "```\n",
        "langgraph dev\n",
        "```\n",
        "\n",
        "You should see the following output:\n",
        "```\n",
        "- 🚀 API: http://127.0.0.1:2024\n",
        "- 🎨 Studio UI: https://smith.langchain.com/studio/?baseUrl=http://127.0.0.1:2024\n",
        "- 📚 API Docs: http://127.0.0.1:2024/docs\n",
        "```\n",
        "\n",
        "Open your browser and navigate to the Studio UI: `https://smith.langchain.com/studio/?baseUrl=http://127.0.0.1:2024`.\n",
        "\n",
        "Let's load our the above graph in the Studio UI, which uses `module-4/studio/map_reduce.py` set in `module-4/studio/langgraph.json`."
      ]
    },
    {
      "cell_type": "code",
      "execution_count": null,
      "id": "741a5e45-9a4c-43b4-8393-9298b3dcda53",
      "metadata": {
        "id": "741a5e45-9a4c-43b4-8393-9298b3dcda53"
      },
      "outputs": [],
      "source": []
    }
  ],
  "metadata": {
    "kernelspec": {
      "display_name": "venv",
      "language": "python",
      "name": "python3"
    },
    "language_info": {
      "codemirror_mode": {
        "name": "ipython",
        "version": 3
      },
      "file_extension": ".py",
      "mimetype": "text/x-python",
      "name": "python",
      "nbconvert_exporter": "python",
      "pygments_lexer": "ipython3",
      "version": "3.11.9"
    },
    "colab": {
      "provenance": []
    }
  },
  "nbformat": 4,
  "nbformat_minor": 5
}