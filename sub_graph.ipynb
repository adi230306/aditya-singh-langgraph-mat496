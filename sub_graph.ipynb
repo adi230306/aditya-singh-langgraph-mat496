{
  "cells": [
    {
      "cell_type": "markdown",
      "id": "6ec1671c",
      "metadata": {
        "id": "6ec1671c"
      },
      "source": [
        "[![Open in Colab](https://colab.research.google.com/assets/colab-badge.svg)](https://colab.research.google.com/github/langchain-ai/langchain-academy/blob/main/module-4/sub-graph.ipynb) [![Open in LangChain Academy](https://cdn.prod.website-files.com/65b8cd72835ceeacd4449a53/66e9eba12c7b7688aa3dbb5e_LCA-badge-green.svg)](https://academy.langchain.com/courses/take/intro-to-langgraph/lessons/58239937-lesson-2-sub-graphs)"
      ]
    },
    {
      "cell_type": "markdown",
      "id": "3db85080-2299-4885-a2f6-fffa6a09a238",
      "metadata": {
        "id": "3db85080-2299-4885-a2f6-fffa6a09a238"
      },
      "source": [
        "# Sub-graphs\n",
        "\n",
        "## Review\n",
        "\n",
        "We're building up to a multi-agent research assistant that ties together all of the modules from this course.\n",
        "\n",
        "We just covered parallelization, which is one important LangGraph controllability topic.\n",
        "\n",
        "## Goals\n",
        "\n",
        "Now, we're [going to cover sub-graphs](https://langchain-ai.github.io/langgraph/how-tos/subgraph/#simple-example).\n",
        "\n",
        "## State\n",
        "\n",
        "Sub-graphs allow you to create and manage different states in different parts of your graph.\n",
        "\n",
        "This is particularly useful for multi-agent systems, with teams of agents that each have their own state.\n",
        "\n",
        "Let's consider a toy example:\n",
        "\n",
        "* I have a system that accepts logs\n",
        "* It performs two separate sub-tasks by different agents (summarize logs, find failure modes)\n",
        "* I want to perform these two operations in two different sub-graphs.\n",
        "\n",
        "The most critical thing to understand is how the graphs communicate!\n",
        "\n",
        "In short, communication is **done with over-lapping keys**:\n",
        "\n",
        "* The sub-graphs can access `docs` from the parent\n",
        "* The parent can access `summary/failure_report` from the sub-graphs\n",
        "\n",
        "![subgraph.png](https://cdn.prod.website-files.com/65b8cd72835ceeacd4449a53/66dbb1abf89f2d847ee6f1ff_sub-graph1.png)\n",
        "\n",
        "## Input\n",
        "\n",
        "Let's define a schema for the logs that will be input to our graph."
      ]
    },
    {
      "cell_type": "code",
      "execution_count": 1,
      "id": "2954e8c6-496f-4394-b56a-681608bf65da",
      "metadata": {
        "id": "2954e8c6-496f-4394-b56a-681608bf65da"
      },
      "outputs": [],
      "source": [
        "%%capture --no-stderr\n",
        "%pip install -U  langgraph"
      ]
    },
    {
      "cell_type": "markdown",
      "id": "e7e413ba-e376-4a5f-a666-2d2154aa6fe2",
      "metadata": {
        "id": "e7e413ba-e376-4a5f-a666-2d2154aa6fe2"
      },
      "source": [
        "We'll use [LangSmith](https://docs.smith.langchain.com/) for [tracing](https://docs.smith.langchain.com/concepts/tracing)."
      ]
    },
    {
      "cell_type": "code",
      "execution_count": 2,
      "id": "05b26c51",
      "metadata": {
        "colab": {
          "base_uri": "https://localhost:8080/"
        },
        "id": "05b26c51",
        "outputId": "03f624a0-9678-40a4-c7a9-8f57f0b31b98"
      },
      "outputs": [
        {
          "name": "stdout",
          "output_type": "stream",
          "text": [
            "LANGSMITH_API_KEY: ··········\n"
          ]
        }
      ],
      "source": [
        "import os, getpass\n",
        "\n",
        "def _set_env(var: str):\n",
        "    if not os.environ.get(var):\n",
        "        os.environ[var] = getpass.getpass(f\"{var}: \")\n",
        "\n",
        "_set_env(\"LANGSMITH_API_KEY\")\n",
        "os.environ[\"LANGSMITH_TRACING\"] = \"true\"\n",
        "os.environ[\"LANGSMITH_PROJECT\"] = \"langchain-academy\""
      ]
    },
    {
      "cell_type": "code",
      "execution_count": 3,
      "id": "3efaf8bb-f675-4c0b-a575-89c7e2987a33",
      "metadata": {
        "id": "3efaf8bb-f675-4c0b-a575-89c7e2987a33"
      },
      "outputs": [],
      "source": [
        "from operator import add\n",
        "from typing_extensions import TypedDict\n",
        "from typing import List, Optional, Annotated\n",
        "\n",
        "# The structure of the logs\n",
        "class Log(TypedDict):\n",
        "    id: str\n",
        "    question: str\n",
        "    docs: Optional[List]\n",
        "    answer: str\n",
        "    grade: Optional[int]\n",
        "    grader: Optional[str]\n",
        "    feedback: Optional[str]"
      ]
    },
    {
      "cell_type": "code",
      "source": [
        "from operator import add\n",
        "from typing_extensions import TypedDict\n",
        "from typing import List, Optional, Annotated\n",
        "\n",
        "# The structure of the recipe input\n",
        "class Recipe(TypedDict):\n",
        "    name: str\n",
        "    ingredients: List[str]\n",
        "    cost_estimate: Optional[float]\n",
        "    calories_per_serving: Optional[int]\n",
        "    warnings: Optional[List[str]]"
      ],
      "metadata": {
        "id": "ya9MRdDFJpi7"
      },
      "id": "ya9MRdDFJpi7",
      "execution_count": 9,
      "outputs": []
    },
    {
      "cell_type": "markdown",
      "id": "15825627-78c2-4ba0-ad11-95e4afdb771d",
      "metadata": {
        "id": "15825627-78c2-4ba0-ad11-95e4afdb771d"
      },
      "source": [
        "## Sub graphs\n",
        "\n",
        "Here is the failure analysis sub-graph, which uses `FailureAnalysisState`."
      ]
    },
    {
      "cell_type": "code",
      "execution_count": 4,
      "id": "f32986a9-6d11-4646-b2c0-fbae4f524579",
      "metadata": {
        "colab": {
          "base_uri": "https://localhost:8080/",
          "height": 350
        },
        "id": "f32986a9-6d11-4646-b2c0-fbae4f524579",
        "outputId": "35913019-104d-4b20-d1a8-b36ab41b5aa1"
      },
      "outputs": [
        {
          "output_type": "display_data",
          "data": {
            "image/png": "[encoded data removed]",
            "text/plain": [
              "<IPython.core.display.Image object>"
            ]
          },
          "metadata": {}
        }
      ],
      "source": [
        "from IPython.display import Image, display\n",
        "from langgraph.graph import StateGraph, START, END\n",
        "\n",
        "# Failure Analysis Sub-graph\n",
        "class FailureAnalysisState(TypedDict):\n",
        "    cleaned_logs: List[Log]\n",
        "    failures: List[Log]\n",
        "    fa_summary: str\n",
        "    processed_logs: List[str]\n",
        "\n",
        "class FailureAnalysisOutputState(TypedDict):\n",
        "    fa_summary: str\n",
        "    processed_logs: List[str]\n",
        "\n",
        "def get_failures(state):\n",
        "    \"\"\" Get logs that contain a failure \"\"\"\n",
        "    cleaned_logs = state[\"cleaned_logs\"]\n",
        "    failures = [log for log in cleaned_logs if \"grade\" in log]\n",
        "    return {\"failures\": failures}\n",
        "\n",
        "def generate_summary(state):\n",
        "    \"\"\" Generate summary of failures \"\"\"\n",
        "    failures = state[\"failures\"]\n",
        "    # Add fxn: fa_summary = summarize(failures)\n",
        "    fa_summary = \"Poor quality retrieval of Chroma documentation.\"\n",
        "    return {\"fa_summary\": fa_summary, \"processed_logs\": [f\"failure-analysis-on-log-{failure['id']}\" for failure in failures]}\n",
        "\n",
        "fa_builder = StateGraph(state_schema=FailureAnalysisState,output_schema=FailureAnalysisOutputState)\n",
        "fa_builder.add_node(\"get_failures\", get_failures)\n",
        "fa_builder.add_node(\"generate_summary\", generate_summary)\n",
        "fa_builder.add_edge(START, \"get_failures\")\n",
        "fa_builder.add_edge(\"get_failures\", \"generate_summary\")\n",
        "fa_builder.add_edge(\"generate_summary\", END)\n",
        "\n",
        "graph = fa_builder.compile()\n",
        "display(Image(graph.get_graph().draw_mermaid_png()))"
      ]
    },
    {
      "cell_type": "code",
      "source": [
        "from IPython.display import Image, display\n",
        "from langgraph.graph import StateGraph, START, END\n",
        "\n",
        "# Ingredient Costing Sub-graph\n",
        "class IngredientCostingState(TypedDict):\n",
        "    recipe: Recipe\n",
        "    cost_estimate: Optional[float]\n",
        "    warnings: Optional[List[str]]\n",
        "    processed_steps: List[str]\n",
        "\n",
        "class IngredientCostingOutputState(TypedDict):\n",
        "    cost_estimate: Optional[float]\n",
        "    processed_steps: List[str]\n",
        "\n",
        "def estimate_cost(state):\n",
        "    \"\"\" Estimate the cost based on ingredients \"\"\"\n",
        "    recipe = state[\"recipe\"]\n",
        "    # Simple cost logic: $1 per ingredient\n",
        "    estimated_cost = len(recipe[\"ingredients\"]) * 1.50\n",
        "    return {\"cost_estimate\": estimated_cost}\n",
        "\n",
        "def check_for_warnings(state):\n",
        "    \"\"\" Check for any expensive or rare ingredients \"\"\"\n",
        "    recipe = state[\"recipe\"]\n",
        "    warnings = []\n",
        "    if \"saffron\" in [i.lower() for i in recipe[\"ingredients\"]]:\n",
        "        warnings.append(\"Recipe contains expensive ingredient: Saffron\")\n",
        "\n",
        "    return {\"warnings\": warnings, \"processed_steps\": [f\"costed-{recipe['name'].lower().replace(' ', '-')}\", \"warning-checked\"]}\n",
        "\n",
        "cost_builder = StateGraph(state_schema=IngredientCostingState,output_schema=IngredientCostingOutputState)\n",
        "cost_builder.add_node(\"estimate_cost\", estimate_cost)\n",
        "cost_builder.add_node(\"check_for_warnings\", check_for_warnings)\n",
        "cost_builder.add_edge(START, \"estimate_cost\")\n",
        "cost_builder.add_edge(\"estimate_cost\", \"check_for_warnings\")\n",
        "cost_builder.add_edge(\"check_for_warnings\", END)\n",
        "\n",
        "graph = cost_builder.compile()\n",
        "display(Image(graph.get_graph().draw_mermaid_png()))"
      ],
      "metadata": {
        "colab": {
          "base_uri": "https://localhost:8080/",
          "height": 350
        },
        "id": "fPqyXxHuJv2R",
        "outputId": "03daf666-c043-4acc-c92b-eeb788084031"
      },
      "id": "fPqyXxHuJv2R",
      "execution_count": 10,
      "outputs": [
        {
          "output_type": "display_data",
          "data": {
            "image/png": "[encoded data removed]",
            "text/plain": [
              "<IPython.core.display.Image object>"
            ]
          },
          "metadata": {}
        }
      ]
    },
    {
      "cell_type": "markdown",
      "id": "aa83f44c-0bb9-48c6-afec-dad536e608fa",
      "metadata": {
        "id": "aa83f44c-0bb9-48c6-afec-dad536e608fa"
      },
      "source": [
        "Here is the question summarization sub-grap, which uses `QuestionSummarizationState`."
      ]
    },
    {
      "cell_type": "code",
      "execution_count": 5,
      "id": "7149000c-ffb6-4834-bd9e-d35b36c524e7",
      "metadata": {
        "colab": {
          "base_uri": "https://localhost:8080/",
          "height": 350
        },
        "id": "7149000c-ffb6-4834-bd9e-d35b36c524e7",
        "outputId": "0174983c-ee0d-4fd5-822c-e998100d3333"
      },
      "outputs": [
        {
          "output_type": "display_data",
          "data": {
            "image/png": "[encoded data removed]",
            "text/plain": [
              "<IPython.core.display.Image object>"
            ]
          },
          "metadata": {}
        }
      ],
      "source": [
        "# Summarization subgraph\n",
        "class QuestionSummarizationState(TypedDict):\n",
        "    cleaned_logs: List[Log]\n",
        "    qs_summary: str\n",
        "    report: str\n",
        "    processed_logs: List[str]\n",
        "\n",
        "class QuestionSummarizationOutputState(TypedDict):\n",
        "    report: str\n",
        "    processed_logs: List[str]\n",
        "\n",
        "def generate_summary(state):\n",
        "    cleaned_logs = state[\"cleaned_logs\"]\n",
        "    # Add fxn: summary = summarize(generate_summary)\n",
        "    summary = \"Questions focused on usage of ChatOllama and Chroma vector store.\"\n",
        "    return {\"qs_summary\": summary, \"processed_logs\": [f\"summary-on-log-{log['id']}\" for log in cleaned_logs]}\n",
        "\n",
        "def send_to_slack(state):\n",
        "    qs_summary = state[\"qs_summary\"]\n",
        "    # Add fxn: report = report_generation(qs_summary)\n",
        "    report = \"foo bar baz\"\n",
        "    return {\"report\": report}\n",
        "\n",
        "qs_builder = StateGraph(QuestionSummarizationState,output_schema=QuestionSummarizationOutputState)\n",
        "qs_builder.add_node(\"generate_summary\", generate_summary)\n",
        "qs_builder.add_node(\"send_to_slack\", send_to_slack)\n",
        "qs_builder.add_edge(START, \"generate_summary\")\n",
        "qs_builder.add_edge(\"generate_summary\", \"send_to_slack\")\n",
        "qs_builder.add_edge(\"send_to_slack\", END)\n",
        "\n",
        "graph = qs_builder.compile()\n",
        "display(Image(graph.get_graph().draw_mermaid_png()))"
      ]
    },
    {
      "cell_type": "code",
      "source": [
        "# Nutritional Analysis Sub-graph\n",
        "class NutritionalAnalysisState(TypedDict):\n",
        "    recipe: Recipe\n",
        "    calories_per_serving: Optional[int]\n",
        "    full_report: str\n",
        "    processed_steps: List[str]\n",
        "\n",
        "class NutritionalAnalysisOutputState(TypedDict):\n",
        "    full_report: str\n",
        "    processed_steps: List[str]\n",
        "\n",
        "def calculate_calories(state):\n",
        "    \"\"\" Calculate a rough calorie count \"\"\"\n",
        "    recipe = state[\"recipe\"]\n",
        "    # Simple calorie logic: 100 calories per ingredient\n",
        "    calories = len(recipe[\"ingredients\"]) * 100\n",
        "    return {\"calories_per_serving\": calories}\n",
        "\n",
        "def generate_report(state):\n",
        "    \"\"\" Generate a full nutritional report \"\"\"\n",
        "    calories = state[\"calories_per_serving\"]\n",
        "    # Placeholder for a detailed report\n",
        "    full_report = f\"The estimated calorie count is {calories}. This recipe is perfect for a light meal.\"\n",
        "    return {\"full_report\": full_report}\n",
        "\n",
        "nutri_builder = StateGraph(NutritionalAnalysisState,output_schema=NutritionalAnalysisOutputState)\n",
        "nutri_builder.add_node(\"calculate_calories\", calculate_calories)\n",
        "nutri_builder.add_node(\"generate_report\", generate_report)\n",
        "nutri_builder.add_edge(START, \"calculate_calories\")\n",
        "nutri_builder.add_edge(\"calculate_calories\", \"generate_report\")\n",
        "nutri_builder.add_edge(\"generate_report\", END)\n",
        "\n",
        "graph = nutri_builder.compile()\n",
        "display(Image(graph.get_graph().draw_mermaid_png()))"
      ],
      "metadata": {
        "colab": {
          "base_uri": "https://localhost:8080/",
          "height": 350
        },
        "id": "bOos477hJzlG",
        "outputId": "de2e113b-2549-4afe-e97f-ad7109415c95"
      },
      "id": "bOos477hJzlG",
      "execution_count": 11,
      "outputs": [
        {
          "output_type": "display_data",
          "data": {
            "image/png": "[encoded data removed]",
            "text/plain": [
              "<IPython.core.display.Image object>"
            ]
          },
          "metadata": {}
        }
      ]
    },
    {
      "cell_type": "markdown",
      "id": "f10a5baf-beab-4927-807a-3e6a5ad3d202",
      "metadata": {
        "id": "f10a5baf-beab-4927-807a-3e6a5ad3d202"
      },
      "source": [
        "## Adding sub graphs to our parent graph\n",
        "\n",
        "Now, we can bring it all together.\n",
        "\n",
        "We create our parent graph with `EntryGraphState`.\n",
        "\n",
        "And we add our sub-graphs as nodes!\n",
        "\n",
        "```\n",
        "entry_builder.add_node(\"question_summarization\", qs_builder.compile())\n",
        "entry_builder.add_node(\"failure_analysis\", fa_builder.compile())\n",
        "```"
      ]
    },
    {
      "cell_type": "code",
      "execution_count": 6,
      "id": "587c8fe1-1ae8-411e-a55d-cac299026646",
      "metadata": {
        "id": "587c8fe1-1ae8-411e-a55d-cac299026646"
      },
      "outputs": [],
      "source": [
        "# Entry Graph\n",
        "class EntryGraphState(TypedDict):\n",
        "    raw_logs: List[Log]\n",
        "    cleaned_logs: Annotated[List[Log], add] # This will be USED BY in BOTH sub-graphs\n",
        "    fa_summary: str # This will only be generated in the FA sub-graph\n",
        "    report: str # This will only be generated in the QS sub-graph\n",
        "    processed_logs:  Annotated[List[int], add] # This will be generated in BOTH sub-graphs"
      ]
    },
    {
      "cell_type": "code",
      "source": [
        "# Entry Graph\n",
        "class EntryGraphState(TypedDict):\n",
        "    raw_recipe: Recipe\n",
        "    recipe: Recipe # This will be USED BY in BOTH sub-graphs\n",
        "    cost_estimate: Optional[float] # From Ingredient Costing sub-graph\n",
        "    full_report: str # From Nutritional Analysis sub-graph\n",
        "    warnings: Optional[List[str]] # From Ingredient Costing sub-graph\n",
        "    processed_steps: Annotated[List[str], add] # Generated in BOTH sub-graphs"
      ],
      "metadata": {
        "id": "WzlG0TTkKDTe"
      },
      "id": "WzlG0TTkKDTe",
      "execution_count": 12,
      "outputs": []
    },
    {
      "cell_type": "markdown",
      "id": "5d4da397-310c-4453-969a-e0ae2cc75db8",
      "metadata": {
        "id": "5d4da397-310c-4453-969a-e0ae2cc75db8"
      },
      "source": [
        "But, why does `cleaned_logs` have a reducer if it only goes *into* each sub-graph as an input? It is not modified.\n",
        "\n",
        "```\n",
        "cleaned_logs: Annotated[List[Log], add] # This will be USED BY in BOTH sub-graphs\n",
        "```\n",
        "\n",
        "This is because the output state of the subgraphs will contain **all keys**, even if they are unmodified.\n",
        "\n",
        "The sub-graphs are run in parallel.\n",
        "\n",
        "Because the parallel sub-graphs return the same key, it needs to have a reducer like `operator.add` to combine the incoming values from each sub-graph.\n",
        "\n",
        "But, we can work around this by using another concept we talked about before.\n",
        "\n",
        "We can simply create an output state schema for each sub-graph and ensure that the output state schema contains different keys to publish as output.\n",
        "\n",
        "We don't actually need each sub-graph to output `cleaned_logs`."
      ]
    },
    {
      "cell_type": "code",
      "execution_count": 7,
      "id": "50092b9b-70c1-41b1-a74a-254683e28ce0",
      "metadata": {
        "colab": {
          "base_uri": "https://localhost:8080/",
          "height": 499
        },
        "id": "50092b9b-70c1-41b1-a74a-254683e28ce0",
        "outputId": "b4dfd061-bba9-48af-a3f6-5987f6725a44"
      },
      "outputs": [
        {
          "output_type": "display_data",
          "data": {
            "image/png": "[encoded data removed]",
            "text/plain": [
              "<IPython.core.display.Image object>"
            ]
          },
          "metadata": {}
        }
      ],
      "source": [
        "# Entry Graph\n",
        "class EntryGraphState(TypedDict):\n",
        "    raw_logs: List[Log]\n",
        "    cleaned_logs: List[Log]\n",
        "    fa_summary: str # This will only be generated in the FA sub-graph\n",
        "    report: str # This will only be generated in the QS sub-graph\n",
        "    processed_logs:  Annotated[List[int], add] # This will be generated in BOTH sub-graphs\n",
        "\n",
        "def clean_logs(state):\n",
        "    # Get logs\n",
        "    raw_logs = state[\"raw_logs\"]\n",
        "    # Data cleaning raw_logs -> docs\n",
        "    cleaned_logs = raw_logs\n",
        "    return {\"cleaned_logs\": cleaned_logs}\n",
        "\n",
        "entry_builder = StateGraph(EntryGraphState)\n",
        "entry_builder.add_node(\"clean_logs\", clean_logs)\n",
        "entry_builder.add_node(\"question_summarization\", qs_builder.compile())\n",
        "entry_builder.add_node(\"failure_analysis\", fa_builder.compile())\n",
        "\n",
        "entry_builder.add_edge(START, \"clean_logs\")\n",
        "entry_builder.add_edge(\"clean_logs\", \"failure_analysis\")\n",
        "entry_builder.add_edge(\"clean_logs\", \"question_summarization\")\n",
        "entry_builder.add_edge(\"failure_analysis\", END)\n",
        "entry_builder.add_edge(\"question_summarization\", END)\n",
        "\n",
        "graph = entry_builder.compile()\n",
        "\n",
        "from IPython.display import Image, display\n",
        "\n",
        "# Setting xray to 1 will show the internal structure of the nested graph\n",
        "display(Image(graph.get_graph(xray=1).draw_mermaid_png()))"
      ]
    },
    {
      "cell_type": "code",
      "source": [
        "# Entry Graph (Redefined for clarity on state keys)\n",
        "class EntryGraphState(TypedDict):\n",
        "    raw_recipe: Recipe\n",
        "    recipe: Recipe\n",
        "    cost_estimate: Optional[float]\n",
        "    full_report: str\n",
        "    warnings: Optional[List[str]]\n",
        "    processed_steps: Annotated[List[str], add]\n",
        "\n",
        "def prep_recipe(state):\n",
        "    \"\"\" Prepare the recipe data for sub-graphs (e.g., standardizing units) \"\"\"\n",
        "    raw_recipe = state[\"raw_recipe\"]\n",
        "    # Simple preparation step: raw_recipe -> recipe (no change in this dummy example)\n",
        "    prepared_recipe = raw_recipe\n",
        "    return {\"recipe\": prepared_recipe}\n",
        "\n",
        "entry_builder = StateGraph(EntryGraphState)\n",
        "entry_builder.add_node(\"prep_recipe\", prep_recipe)\n",
        "entry_builder.add_node(\"nutritional_analysis\", nutri_builder.compile()) # QS builder replaced with nutri_builder\n",
        "entry_builder.add_node(\"ingredient_costing\", cost_builder.compile()) # FA builder replaced with cost_builder\n",
        "\n",
        "entry_builder.add_edge(START, \"prep_recipe\")\n",
        "entry_builder.add_edge(\"prep_recipe\", \"ingredient_costing\")\n",
        "entry_builder.add_edge(\"prep_recipe\", \"nutritional_analysis\")\n",
        "entry_builder.add_edge(\"ingredient_costing\", END)\n",
        "entry_builder.add_edge(\"nutritional_analysis\", END)\n",
        "\n",
        "graph = entry_builder.compile()\n",
        "\n",
        "# Setting xray to 1 will show the internal structure of the nested graph\n",
        "display(Image(graph.get_graph(xray=1).draw_mermaid_png()))"
      ],
      "metadata": {
        "colab": {
          "base_uri": "https://localhost:8080/",
          "height": 499
        },
        "id": "aUKdT7B_KJbR",
        "outputId": "7767d7be-23bd-4970-b447-8468e0a42a18"
      },
      "id": "aUKdT7B_KJbR",
      "execution_count": 13,
      "outputs": [
        {
          "output_type": "display_data",
          "data": {
            "image/png": "[encoded data removed]",
            "text/plain": [
              "<IPython.core.display.Image object>"
            ]
          },
          "metadata": {}
        }
      ]
    },
    {
      "cell_type": "code",
      "execution_count": 8,
      "id": "17af1254-4e75-4349-9a79-295f4ec95016",
      "metadata": {
        "colab": {
          "base_uri": "https://localhost:8080/"
        },
        "id": "17af1254-4e75-4349-9a79-295f4ec95016",
        "outputId": "2ac1bbe0-ca1a-426f-92d7-05d759f895da"
      },
      "outputs": [
        {
          "output_type": "execute_result",
          "data": {
            "text/plain": [
              "{'raw_logs': [{'id': '1',\n",
              "   'question': 'How can I import ChatOllama?',\n",
              "   'answer': \"To import ChatOllama, use: 'from langchain_community.chat_models import ChatOllama.'\"},\n",
              "  {'id': '2',\n",
              "   'question': 'How can I use Chroma vector store?',\n",
              "   'answer': 'To use Chroma, define: rag_chain = create_retrieval_chain(retriever, question_answer_chain).',\n",
              "   'grade': 0,\n",
              "   'grader': 'Document Relevance Recall',\n",
              "   'feedback': 'The retrieved documents discuss vector stores in general, but not Chroma specifically'}],\n",
              " 'cleaned_logs': [{'id': '1',\n",
              "   'question': 'How can I import ChatOllama?',\n",
              "   'answer': \"To import ChatOllama, use: 'from langchain_community.chat_models import ChatOllama.'\"},\n",
              "  {'id': '2',\n",
              "   'question': 'How can I use Chroma vector store?',\n",
              "   'answer': 'To use Chroma, define: rag_chain = create_retrieval_chain(retriever, question_answer_chain).',\n",
              "   'grade': 0,\n",
              "   'grader': 'Document Relevance Recall',\n",
              "   'feedback': 'The retrieved documents discuss vector stores in general, but not Chroma specifically'}],\n",
              " 'fa_summary': 'Poor quality retrieval of Chroma documentation.',\n",
              " 'report': 'foo bar baz',\n",
              " 'processed_logs': ['failure-analysis-on-log-2',\n",
              "  'summary-on-log-1',\n",
              "  'summary-on-log-2']}"
            ]
          },
          "metadata": {},
          "execution_count": 8
        }
      ],
      "source": [
        "# Dummy logs\n",
        "question_answer = Log(\n",
        "    id=\"1\",\n",
        "    question=\"How can I import ChatOllama?\",\n",
        "    answer=\"To import ChatOllama, use: 'from langchain_community.chat_models import ChatOllama.'\",\n",
        ")\n",
        "\n",
        "question_answer_feedback = Log(\n",
        "    id=\"2\",\n",
        "    question=\"How can I use Chroma vector store?\",\n",
        "    answer=\"To use Chroma, define: rag_chain = create_retrieval_chain(retriever, question_answer_chain).\",\n",
        "    grade=0,\n",
        "    grader=\"Document Relevance Recall\",\n",
        "    feedback=\"The retrieved documents discuss vector stores in general, but not Chroma specifically\",\n",
        ")\n",
        "\n",
        "raw_logs = [question_answer,question_answer_feedback]\n",
        "graph.invoke({\"raw_logs\": raw_logs})"
      ]
    },
    {
      "cell_type": "code",
      "source": [
        "# Example Recipe\n",
        "saffron_risotto = Recipe(\n",
        "    name=\"Saffron Risotto\",\n",
        "    ingredients=[\n",
        "        \"Arborio Rice\",\n",
        "        \"Chicken Broth\",\n",
        "        \"Saffron\",\n",
        "        \"Parmesan Cheese\",\n",
        "        \"White Wine\"\n",
        "    ],\n",
        ")\n",
        "\n",
        "raw_recipe = saffron_risotto\n",
        "graph.invoke({\"raw_recipe\": raw_recipe})"
      ],
      "metadata": {
        "colab": {
          "base_uri": "https://localhost:8080/"
        },
        "id": "RsGy9N26KO8J",
        "outputId": "401d84ca-2e18-41d2-c0ef-d2fd28f3af54"
      },
      "id": "RsGy9N26KO8J",
      "execution_count": 14,
      "outputs": [
        {
          "output_type": "execute_result",
          "data": {
            "text/plain": [
              "{'raw_recipe': {'name': 'Saffron Risotto',\n",
              "  'ingredients': ['Arborio Rice',\n",
              "   'Chicken Broth',\n",
              "   'Saffron',\n",
              "   'Parmesan Cheese',\n",
              "   'White Wine']},\n",
              " 'recipe': {'name': 'Saffron Risotto',\n",
              "  'ingredients': ['Arborio Rice',\n",
              "   'Chicken Broth',\n",
              "   'Saffron',\n",
              "   'Parmesan Cheese',\n",
              "   'White Wine']},\n",
              " 'cost_estimate': 7.5,\n",
              " 'full_report': 'The estimated calorie count is 500. This recipe is perfect for a light meal.',\n",
              " 'processed_steps': ['costed-saffron-risotto', 'warning-checked']}"
            ]
          },
          "metadata": {},
          "execution_count": 14
        }
      ]
    },
    {
      "cell_type": "code",
      "execution_count": null,
      "id": "a8e241ae",
      "metadata": {
        "id": "a8e241ae"
      },
      "outputs": [],
      "source": []
    },
    {
      "cell_type": "markdown",
      "id": "9192d228-4d3d-4fb0-8bea-26772c3d2e0b",
      "metadata": {
        "id": "9192d228-4d3d-4fb0-8bea-26772c3d2e0b"
      },
      "source": [
        "## LangSmith\n",
        "\n",
        "Let's look at the LangSmith trace:\n",
        "\n",
        "https://smith.langchain.com/public/f8f86f61-1b30-48cf-b055-3734dfceadf2/r"
      ]
    },
    {
      "cell_type": "markdown",
      "id": "15e836d4",
      "metadata": {
        "id": "15e836d4"
      },
      "source": []
    }
  ],
  "metadata": {
    "kernelspec": {
      "display_name": "lc-academy-env",
      "language": "python",
      "name": "python3"
    },
    "language_info": {
      "codemirror_mode": {
        "name": "ipython",
        "version": 3
      },
      "file_extension": ".py",
      "mimetype": "text/x-python",
      "name": "python",
      "nbconvert_exporter": "python",
      "pygments_lexer": "ipython3",
      "version": "3.11.8"
    },
    "colab": {
      "provenance": []
    }
  },
  "nbformat": 4,
  "nbformat_minor": 5
}