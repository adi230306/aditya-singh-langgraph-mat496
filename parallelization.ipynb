{
  "cells": [
    {
      "cell_type": "markdown",
      "id": "0d0e279f",
      "metadata": {
        "id": "0d0e279f"
      },
      "source": [
        "[![Open in Colab](https://colab.research.google.com/assets/colab-badge.svg)](https://colab.research.google.com/github/langchain-ai/langchain-academy/blob/main/module-4/parallelization.ipynb) [![Open in LangChain Academy](https://cdn.prod.website-files.com/65b8cd72835ceeacd4449a53/66e9eba12c7b7688aa3dbb5e_LCA-badge-green.svg)](https://academy.langchain.com/courses/take/intro-to-langgraph/lessons/58239934-lesson-1-parallelization)"
      ]
    },
    {
      "cell_type": "markdown",
      "id": "f4169bfb-769a-4db3-833e-c827f19024b2",
      "metadata": {
        "id": "f4169bfb-769a-4db3-833e-c827f19024b2"
      },
      "source": [
        "# Parallel node execution\n",
        "\n",
        "## Review\n",
        "\n",
        "In module 3, we went in-depth on `human-in-the loop`, showing 3 common use-cases:\n",
        "\n",
        "(1) `Approval` - We can interrupt our agent, surface state to a user, and allow the user to accept an action\n",
        "\n",
        "(2) `Debugging` - We can rewind the graph to reproduce or avoid issues\n",
        "\n",
        "(3) `Editing` - You can modify the state\n",
        "\n",
        "## Goals\n",
        "\n",
        "This module will build on `human-in-the-loop` as well as the `memory` concepts discussed in module 2.\n",
        "\n",
        "We will dive into `multi-agent` workflows, and build up to a multi-agent research assistant that ties together all of the modules from this course.\n",
        "\n",
        "To build this multi-agent research assistant, we'll first discuss a few LangGraph controllability topics.\n",
        "\n",
        "We'll start with [parallelization](https://langchain-ai.github.io/langgraph/how-tos/branching/#how-to-create-branches-for-parallel-node-execution).\n",
        "\n",
        "## Fan out and fan in\n",
        "\n",
        "Let's build a simple linear graph that over-writes the state at each step."
      ]
    },
    {
      "cell_type": "code",
      "execution_count": 2,
      "id": "618eab5c-4ef7-4273-8e0b-a9c847897ed7",
      "metadata": {
        "id": "618eab5c-4ef7-4273-8e0b-a9c847897ed7"
      },
      "outputs": [],
      "source": [
        "%%capture --no-stderr\n",
        "%pip install -U  langgraph tavily-python wikipedia langchain_openai langchain_community langgraph_sdk"
      ]
    },
    {
      "cell_type": "code",
      "execution_count": 3,
      "id": "31bbec0d",
      "metadata": {
        "colab": {
          "base_uri": "https://localhost:8080/"
        },
        "id": "31bbec0d",
        "outputId": "4cdde1fc-2b7b-463e-ae44-783531efee87"
      },
      "outputs": [
        {
          "name": "stdout",
          "output_type": "stream",
          "text": [
            "OPENAI_API_KEY: ··········\n"
          ]
        }
      ],
      "source": [
        "import os, getpass\n",
        "\n",
        "def _set_env(var: str):\n",
        "    if not os.environ.get(var):\n",
        "        os.environ[var] = getpass.getpass(f\"{var}: \")\n",
        "\n",
        "_set_env(\"OPENAI_API_KEY\")"
      ]
    },
    {
      "cell_type": "code",
      "execution_count": null,
      "id": "1dd77093-1794-4bd7-8c57-58f59a74c20b",
      "metadata": {
        "colab": {
          "base_uri": "https://localhost:8080/",
          "height": 548
        },
        "id": "1dd77093-1794-4bd7-8c57-58f59a74c20b",
        "outputId": "484d3e69-a398-4f2f-b5d1-e558a9b19e40"
      },
      "outputs": [
        {
          "output_type": "display_data",
          "data": {
            "image/png": "[encoded data removed]",
            "text/plain": [
              "<IPython.core.display.Image object>"
            ]
          },
          "metadata": {}
        }
      ],
      "source": [
        "from IPython.display import Image, display\n",
        "\n",
        "from typing import Any\n",
        "from typing_extensions import TypedDict\n",
        "\n",
        "from langgraph.graph import StateGraph, START, END\n",
        "\n",
        "class State(TypedDict):\n",
        "    # The operator.add reducer fn makes this append-only\n",
        "    state: str\n",
        "\n",
        "class ReturnNodeValue:\n",
        "    def __init__(self, node_secret: str):\n",
        "        self._value = node_secret\n",
        "\n",
        "    def __call__(self, state: State) -> Any:\n",
        "        print(f\"Adding {self._value} to {state['state']}\")\n",
        "        return {\"state\": [self._value]}\n",
        "\n",
        "# Add nodes\n",
        "builder = StateGraph(State)\n",
        "\n",
        "# Initialize each node with node_secret\n",
        "builder.add_node(\"a\", ReturnNodeValue(\"I'm A\"))\n",
        "builder.add_node(\"b\", ReturnNodeValue(\"I'm B\"))\n",
        "builder.add_node(\"c\", ReturnNodeValue(\"I'm C\"))\n",
        "builder.add_node(\"d\", ReturnNodeValue(\"I'm D\"))\n",
        "\n",
        "# Flow\n",
        "builder.add_edge(START, \"a\")\n",
        "builder.add_edge(\"a\", \"b\")\n",
        "builder.add_edge(\"b\", \"c\")\n",
        "builder.add_edge(\"c\", \"d\")\n",
        "builder.add_edge(\"d\", END)\n",
        "graph = builder.compile()\n",
        "\n",
        "display(Image(graph.get_graph().draw_mermaid_png()))"
      ]
    },
    {
      "cell_type": "code",
      "source": [
        "from IPython.display import Image, display\n",
        "\n",
        "from typing import Any\n",
        "from typing_extensions import TypedDict\n",
        "\n",
        "from langgraph.graph import StateGraph, START, END\n",
        "import operator\n",
        "\n",
        "class CalculatorState(TypedDict):\n",
        "    # Use operator.add for lists to make it append-only\n",
        "    numbers: Annotated[list, operator.add]\n",
        "    result: float\n",
        "\n",
        "class AddNode:\n",
        "    def __init__(self, value: float):\n",
        "        self._value = value\n",
        "\n",
        "    def __call__(self, state: CalculatorState) -> Any:\n",
        "        print(f\"Adding {self._value} to state['result']={state.get('result', 0)}\")\n",
        "        new_result = state.get('result', 0) + self._value\n",
        "        return {\"result\": new_result, \"numbers\": [f\"Added {self._value}\"]}\n",
        "\n",
        "class MultiplyNode:\n",
        "    def __init__(self, value: float):\n",
        "        self._value = value\n",
        "\n",
        "    def __call__(self, state: CalculatorState) -> Any:\n",
        "        print(f\"Multiplying state['result']={state['result']} by {self._value}\")\n",
        "        new_result = state['result'] * self._value\n",
        "        return {\"result\": new_result, \"numbers\": [f\"Multiplied by {self._value}\"]}\n",
        "\n",
        "\n",
        "# Add nodes\n",
        "builder = StateGraph(CalculatorState)\n",
        "\n",
        "# Initialize nodes\n",
        "builder.add_node(\"init\", AddNode(10.0))\n",
        "builder.add_node(\"add_5\", AddNode(5.0))\n",
        "builder.add_node(\"multiply_2\", MultiplyNode(2.0))\n",
        "\n",
        "# Flow\n",
        "builder.add_edge(START, \"init\")\n",
        "builder.add_edge(\"init\", \"add_5\")\n",
        "builder.add_edge(\"add_5\", \"multiply_2\")\n",
        "builder.add_edge(\"multiply_2\", END)\n",
        "graph = builder.compile()\n",
        "\n",
        "display(Image(graph.get_graph().draw_mermaid_png()))"
      ],
      "metadata": {
        "colab": {
          "base_uri": "https://localhost:8080/",
          "height": 449
        },
        "id": "bQAHQCARCKQI",
        "outputId": "c4803773-fb1c-4540-8310-db0db3fbd30f"
      },
      "id": "bQAHQCARCKQI",
      "execution_count": 5,
      "outputs": [
        {
          "output_type": "display_data",
          "data": {
            "image/png": "[encoded data removed]",
            "text/plain": [
              "<IPython.core.display.Image object>"
            ]
          },
          "metadata": {}
        }
      ]
    },
    {
      "cell_type": "markdown",
      "id": "bdd027d3-ef9f-4d43-b190-e9f07d521e18",
      "metadata": {
        "id": "bdd027d3-ef9f-4d43-b190-e9f07d521e18"
      },
      "source": [
        "We over-write state, as expected."
      ]
    },
    {
      "cell_type": "code",
      "execution_count": null,
      "id": "bf260088-90d5-45b2-93ab-42f241560840",
      "metadata": {
        "colab": {
          "base_uri": "https://localhost:8080/"
        },
        "id": "bf260088-90d5-45b2-93ab-42f241560840",
        "outputId": "fb645318-7457-45d2-d8aa-1a4a87400c8c"
      },
      "outputs": [
        {
          "output_type": "stream",
          "name": "stdout",
          "text": [
            "Adding I'm A to []\n",
            "Adding I'm B to [\"I'm A\"]\n",
            "Adding I'm C to [\"I'm B\"]\n",
            "Adding I'm D to [\"I'm C\"]\n"
          ]
        },
        {
          "output_type": "execute_result",
          "data": {
            "text/plain": [
              "{'state': [\"I'm D\"]}"
            ]
          },
          "metadata": {},
          "execution_count": 4
        }
      ],
      "source": [
        "graph.invoke({\"state\": []})"
      ]
    },
    {
      "cell_type": "code",
      "source": [
        "graph.invoke({\"result\": 0, \"numbers\": []})"
      ],
      "metadata": {
        "colab": {
          "base_uri": "https://localhost:8080/"
        },
        "id": "6_nNvOY9Dik9",
        "outputId": "cb4f6b5b-5414-484a-8ecf-e2c44d605969"
      },
      "id": "6_nNvOY9Dik9",
      "execution_count": 6,
      "outputs": [
        {
          "output_type": "stream",
          "name": "stdout",
          "text": [
            "Adding 10.0 to state['result']=0\n",
            "Adding 5.0 to state['result']=10.0\n",
            "Multiplying state['result']=15.0 by 2.0\n"
          ]
        },
        {
          "output_type": "execute_result",
          "data": {
            "text/plain": [
              "{'numbers': ['Added 10.0', 'Added 5.0', 'Multiplied by 2.0'], 'result': 30.0}"
            ]
          },
          "metadata": {},
          "execution_count": 6
        }
      ]
    },
    {
      "cell_type": "markdown",
      "id": "a9dec27d-dc43-4088-beb2-53ad090d2971",
      "metadata": {
        "id": "a9dec27d-dc43-4088-beb2-53ad090d2971"
      },
      "source": [
        "Now, let's run `b` and `c` in parallel.\n",
        "\n",
        "And then run `d`.\n",
        "\n",
        "We can do this easily with fan-out from `a` to `b` and `c`, and then fan-in to `d`.\n",
        "\n",
        "The the state updates are applied at the end of each step.\n",
        "\n",
        "Let's run it."
      ]
    },
    {
      "cell_type": "code",
      "execution_count": null,
      "id": "8fdeaaab-a8c3-470f-89ef-9cf0a2760667",
      "metadata": {
        "colab": {
          "base_uri": "https://localhost:8080/",
          "height": 449
        },
        "id": "8fdeaaab-a8c3-470f-89ef-9cf0a2760667",
        "outputId": "457b7b98-b550-4813-b610-d9429d4d6e95"
      },
      "outputs": [
        {
          "output_type": "display_data",
          "data": {
            "image/png": "[encoded data removed]",
            "text/plain": [
              "<IPython.core.display.Image object>"
            ]
          },
          "metadata": {}
        }
      ],
      "source": [
        "builder = StateGraph(State)\n",
        "\n",
        "# Initialize each node with node_secret\n",
        "builder.add_node(\"a\", ReturnNodeValue(\"I'm A\"))\n",
        "builder.add_node(\"b\", ReturnNodeValue(\"I'm B\"))\n",
        "builder.add_node(\"c\", ReturnNodeValue(\"I'm C\"))\n",
        "builder.add_node(\"d\", ReturnNodeValue(\"I'm D\"))\n",
        "\n",
        "# Flow\n",
        "builder.add_edge(START, \"a\")\n",
        "builder.add_edge(\"a\", \"b\")\n",
        "builder.add_edge(\"a\", \"c\")\n",
        "builder.add_edge(\"b\", \"d\")\n",
        "builder.add_edge(\"c\", \"d\")\n",
        "builder.add_edge(\"d\", END)\n",
        "graph = builder.compile()\n",
        "\n",
        "display(Image(graph.get_graph().draw_mermaid_png()))"
      ]
    },
    {
      "cell_type": "code",
      "source": [
        "# Re-define state without a reducer on 'result' to replicate the error\n",
        "class CalculatorState(TypedDict):\n",
        "    numbers: Annotated[list, operator.add]\n",
        "    result: float # No reducer here\n",
        "\n",
        "# Add nodes\n",
        "builder = StateGraph(CalculatorState)\n",
        "\n",
        "# Initialize nodes\n",
        "builder.add_node(\"init\", AddNode(10.0))\n",
        "builder.add_node(\"add_5\", AddNode(5.0))\n",
        "builder.add_node(\"multiply_2\", MultiplyNode(2.0))\n",
        "\n",
        "# Flow - Fan out from 'init' to 'add_5' and 'multiply_2'\n",
        "builder.add_edge(START, \"init\")\n",
        "builder.add_edge(\"init\", \"add_5\")\n",
        "builder.add_edge(\"init\", \"multiply_2\")\n",
        "builder.add_edge(\"add_5\", END)\n",
        "builder.add_edge(\"multiply_2\", END)\n",
        "graph = builder.compile()\n",
        "\n",
        "display(Image(graph.get_graph().draw_mermaid_png()))"
      ],
      "metadata": {
        "colab": {
          "base_uri": "https://localhost:8080/",
          "height": 350
        },
        "id": "04K_OFr3Dt_u",
        "outputId": "b30fec8d-4731-4bbb-f94f-5d123710d65d"
      },
      "id": "04K_OFr3Dt_u",
      "execution_count": 7,
      "outputs": [
        {
          "output_type": "display_data",
          "data": {
            "image/png": "[encoded data removed]",
            "text/plain": [
              "<IPython.core.display.Image object>"
            ]
          },
          "metadata": {}
        }
      ]
    },
    {
      "cell_type": "markdown",
      "id": "35238fde-0230-4ae8-9200-158a8835c4f1",
      "metadata": {
        "id": "35238fde-0230-4ae8-9200-158a8835c4f1"
      },
      "source": [
        "**We see an error**!\n",
        "\n",
        "This is because both `b` and `c` are writing to the same state key / channel in the same step."
      ]
    },
    {
      "cell_type": "code",
      "execution_count": null,
      "id": "9048b041-6849-4f09-9811-6b7a80f67859",
      "metadata": {
        "colab": {
          "base_uri": "https://localhost:8080/"
        },
        "id": "9048b041-6849-4f09-9811-6b7a80f67859",
        "outputId": "171510ec-bbad-4fe7-c2e5-a4a15416452b"
      },
      "outputs": [
        {
          "output_type": "stream",
          "name": "stdout",
          "text": [
            "Adding I'm A to []\n",
            "Adding I'm B to [\"I'm A\"]\n",
            "Adding I'm C to [\"I'm A\"]\n",
            "An error occurred: At key 'state': Can receive only one value per step. Use an Annotated key to handle multiple values.\n",
            "For troubleshooting, visit: https://docs.langchain.com/oss/python/langgraph/errors/INVALID_CONCURRENT_GRAPH_UPDATE\n"
          ]
        }
      ],
      "source": [
        "from langgraph.errors import InvalidUpdateError\n",
        "try:\n",
        "    graph.invoke({\"state\": []})\n",
        "except InvalidUpdateError as e:\n",
        "    print(f\"An error occurred: {e}\")"
      ]
    },
    {
      "cell_type": "code",
      "source": [
        "from langgraph.errors import InvalidUpdateError\n",
        "try:\n",
        "    graph.invoke({\"result\": 0, \"numbers\": []})\n",
        "except InvalidUpdateError as e:\n",
        "    print(f\"An error occurred: {e}\")"
      ],
      "metadata": {
        "colab": {
          "base_uri": "https://localhost:8080/"
        },
        "id": "vs8kSmhKD0AV",
        "outputId": "394945b4-1fdc-4081-ba33-26aa105cfdc7"
      },
      "id": "vs8kSmhKD0AV",
      "execution_count": 8,
      "outputs": [
        {
          "output_type": "stream",
          "name": "stdout",
          "text": [
            "Adding 10.0 to state['result']=0\n",
            "Adding 5.0 to state['result']=10.0\n",
            "Multiplying state['result']=10.0 by 2.0\n",
            "An error occurred: At key 'result': Can receive only one value per step. Use an Annotated key to handle multiple values.\n",
            "For troubleshooting, visit: https://docs.langchain.com/oss/python/langgraph/errors/INVALID_CONCURRENT_GRAPH_UPDATE\n"
          ]
        }
      ]
    },
    {
      "cell_type": "markdown",
      "id": "64cc329d-59fa-4c26-adcf-9122a824955d",
      "metadata": {
        "id": "64cc329d-59fa-4c26-adcf-9122a824955d"
      },
      "source": [
        "When using fan out, we need to be sure that we are using a reducer if steps are writing to the same the channel / key.\n",
        "\n",
        "As we touched on in Module 2, `operator.add` is a function from Python's built-in operator module.\n",
        "\n",
        "When `operator.add` is applied to lists, it performs list concatenation."
      ]
    },
    {
      "cell_type": "code",
      "execution_count": null,
      "id": "8f1292ac-510a-4801-b2a3-e2c6d2d9582a",
      "metadata": {
        "colab": {
          "base_uri": "https://localhost:8080/",
          "height": 449
        },
        "id": "8f1292ac-510a-4801-b2a3-e2c6d2d9582a",
        "outputId": "77d4ecf9-f0fd-4ae9-ba16-23ac662de08b"
      },
      "outputs": [
        {
          "output_type": "display_data",
          "data": {
            "image/png": "[encoded data removed]",
            "text/plain": [
              "<IPython.core.display.Image object>"
            ]
          },
          "metadata": {}
        }
      ],
      "source": [
        "import operator\n",
        "from typing import Annotated\n",
        "\n",
        "class State(TypedDict):\n",
        "    # The operator.add reducer fn makes this append-only\n",
        "    state: Annotated[list, operator.add]\n",
        "\n",
        "# Add nodes\n",
        "builder = StateGraph(State)\n",
        "\n",
        "# Initialize each node with node_secret\n",
        "builder.add_node(\"a\", ReturnNodeValue(\"I'm A\"))\n",
        "builder.add_node(\"b\", ReturnNodeValue(\"I'm B\"))\n",
        "builder.add_node(\"c\", ReturnNodeValue(\"I'm C\"))\n",
        "builder.add_node(\"d\", ReturnNodeValue(\"I'm D\"))\n",
        "\n",
        "# Flow\n",
        "builder.add_edge(START, \"a\")\n",
        "builder.add_edge(\"a\", \"b\")\n",
        "builder.add_edge(\"a\", \"c\")\n",
        "builder.add_edge(\"b\", \"d\")\n",
        "builder.add_edge(\"c\", \"d\")\n",
        "builder.add_edge(\"d\", END)\n",
        "graph = builder.compile()\n",
        "\n",
        "display(Image(graph.get_graph().draw_mermaid_png()))"
      ]
    },
    {
      "cell_type": "code",
      "source": [
        "def combine_results(state: CalculatorState) -> Any:\n",
        "    final_result = state.get(\"sum_result\", 0) + state.get(\"product_result\", 0)\n",
        "    print(f\"Combining results: {state.get('sum_result', 0)} + {state.get('product_result', 0)} = {final_result}\")\n",
        "    return {\"result\": final_result}\n",
        "\n",
        "class SumNode:\n",
        "    \"\"\"Calculates a sum and writes to a unique state key.\"\"\"\n",
        "    def __init__(self, value: float):\n",
        "        self._value = value\n",
        "\n",
        "    def __call__(self, state: CalculatorState) -> Any:\n",
        "        initial_value = state.get('input_value', 0)\n",
        "        sum_result = initial_value + self._value\n",
        "        print(f\"Sum Node: {initial_value} + {self._value} = {sum_result}\")\n",
        "        return {\"sum_result\": sum_result, \"numbers\": [f\"Calculated Sum: {sum_result}\"]}\n",
        "\n",
        "class ProductNode:\n",
        "    \"\"\"Calculates a product and writes to a unique state key.\"\"\"\n",
        "    def __init__(self, value: float):\n",
        "        self._value = value\n",
        "\n",
        "    def __call__(self, state: CalculatorState) -> Any:\n",
        "        initial_value = state.get('input_value', 0)\n",
        "        product_result = initial_value * self._value\n",
        "        print(f\"Product Node: {initial_value} * {self._value} = {product_result}\")\n",
        "        return {\"product_result\": product_result, \"numbers\": [f\"Calculated Product: {product_result}\"]}\n",
        "\n",
        "\n",
        "class CalculatorState(TypedDict):\n",
        "    input_value: float\n",
        "    sum_result: float\n",
        "    product_result: float\n",
        "    numbers: Annotated[list, operator.add]\n",
        "    result: float\n",
        "\n",
        "\n",
        "# Add nodes\n",
        "builder = StateGraph(CalculatorState)\n",
        "\n",
        "# Initialize nodes\n",
        "builder.add_node(\"sum_calc\", SumNode(5.0))\n",
        "builder.add_node(\"product_calc\", ProductNode(2.0))\n",
        "builder.add_node(\"combine_results\", combine_results)\n",
        "\n",
        "\n",
        "builder.add_edge(START, \"sum_calc\")\n",
        "builder.add_edge(START, \"product_calc\")\n",
        "\n",
        "builder.add_edge(\"sum_calc\", \"combine_results\")\n",
        "builder.add_edge(\"product_calc\", \"combine_results\")\n",
        "\n",
        "builder.add_edge(\"combine_results\", END)\n",
        "graph = builder.compile()\n",
        "\n",
        "display(Image(graph.get_graph().draw_mermaid_png()))"
      ],
      "metadata": {
        "colab": {
          "base_uri": "https://localhost:8080/",
          "height": 350
        },
        "id": "_hxjf1lDD4zI",
        "outputId": "0212555d-cb4d-4991-b821-ff130f52bfaf"
      },
      "id": "_hxjf1lDD4zI",
      "execution_count": 10,
      "outputs": [
        {
          "output_type": "display_data",
          "data": {
            "image/png": "[encoded data removed]",
            "text/plain": [
              "<IPython.core.display.Image object>"
            ]
          },
          "metadata": {}
        }
      ]
    },
    {
      "cell_type": "code",
      "execution_count": null,
      "id": "ffbad231-fc1d-49b1-a9fc-ed9153fa3977",
      "metadata": {
        "colab": {
          "base_uri": "https://localhost:8080/"
        },
        "id": "ffbad231-fc1d-49b1-a9fc-ed9153fa3977",
        "outputId": "ce7f9944-84b4-45af-8ce1-f8ddb595fcfe"
      },
      "outputs": [
        {
          "output_type": "stream",
          "name": "stdout",
          "text": [
            "Adding I'm A to []\n",
            "Adding I'm B to [\"I'm A\"]\n",
            "Adding I'm C to [\"I'm A\"]\n",
            "Adding I'm D to [\"I'm A\", \"I'm B\", \"I'm C\"]\n"
          ]
        },
        {
          "output_type": "execute_result",
          "data": {
            "text/plain": [
              "{'state': [\"I'm A\", \"I'm B\", \"I'm C\", \"I'm D\"]}"
            ]
          },
          "metadata": {},
          "execution_count": 8
        }
      ],
      "source": [
        "graph.invoke({\"state\": []})"
      ]
    },
    {
      "cell_type": "code",
      "source": [
        "graph.invoke({\"input_value\": 10.0, \"numbers\": []})"
      ],
      "metadata": {
        "colab": {
          "base_uri": "https://localhost:8080/"
        },
        "id": "I7cp9pBpEK7j",
        "outputId": "9ef7935e-b3ef-4cb5-a2d8-d276fd016ab1"
      },
      "id": "I7cp9pBpEK7j",
      "execution_count": 11,
      "outputs": [
        {
          "output_type": "stream",
          "name": "stdout",
          "text": [
            "Product Node: 10.0 * 2.0 = 20.0\n",
            "Sum Node: 10.0 + 5.0 = 15.0\n",
            "Combining results: 15.0 + 20.0 = 35.0\n"
          ]
        },
        {
          "output_type": "execute_result",
          "data": {
            "text/plain": [
              "{'input_value': 10.0,\n",
              " 'sum_result': 15.0,\n",
              " 'product_result': 20.0,\n",
              " 'numbers': ['Calculated Product: 20.0', 'Calculated Sum: 15.0'],\n",
              " 'result': 35.0}"
            ]
          },
          "metadata": {},
          "execution_count": 11
        }
      ]
    },
    {
      "cell_type": "markdown",
      "id": "bdf5baa2-cecd-44b6-b0c4-d258340783f8",
      "metadata": {
        "id": "bdf5baa2-cecd-44b6-b0c4-d258340783f8"
      },
      "source": [
        "Now we see that we append to state for the updates made in parallel by `b` and `c`."
      ]
    },
    {
      "cell_type": "markdown",
      "id": "ed6fc7c7-198d-41be-867f-e77c93ba3217",
      "metadata": {
        "id": "ed6fc7c7-198d-41be-867f-e77c93ba3217"
      },
      "source": [
        "## Waiting for nodes to finish\n",
        "\n",
        "Now, lets consider a case where one parallel path has more steps than the other one."
      ]
    },
    {
      "cell_type": "code",
      "execution_count": null,
      "id": "f50b5d4f-dd39-4c22-b623-e0abc23f9144",
      "metadata": {
        "colab": {
          "base_uri": "https://localhost:8080/",
          "height": 548
        },
        "id": "f50b5d4f-dd39-4c22-b623-e0abc23f9144",
        "outputId": "2b4034df-69d6-4184-f4a5-c64ea51313f9"
      },
      "outputs": [
        {
          "output_type": "display_data",
          "data": {
            "image/png": "[encoded data removed]",
            "text/plain": [
              "<IPython.core.display.Image object>"
            ]
          },
          "metadata": {}
        }
      ],
      "source": [
        "builder = StateGraph(State)\n",
        "\n",
        "# Initialize each node with node_secret\n",
        "builder.add_node(\"a\", ReturnNodeValue(\"I'm A\"))\n",
        "builder.add_node(\"b\", ReturnNodeValue(\"I'm B\"))\n",
        "builder.add_node(\"b2\", ReturnNodeValue(\"I'm B2\"))\n",
        "builder.add_node(\"c\", ReturnNodeValue(\"I'm C\"))\n",
        "builder.add_node(\"d\", ReturnNodeValue(\"I'm D\"))\n",
        "\n",
        "# Flow\n",
        "builder.add_edge(START, \"a\")\n",
        "builder.add_edge(\"a\", \"b\")\n",
        "builder.add_edge(\"a\", \"c\")\n",
        "builder.add_edge(\"b\", \"b2\")\n",
        "builder.add_edge([\"b2\", \"c\"], \"d\")\n",
        "builder.add_edge(\"d\", END)\n",
        "graph = builder.compile()\n",
        "\n",
        "display(Image(graph.get_graph().draw_mermaid_png()))"
      ]
    },
    {
      "cell_type": "markdown",
      "id": "11640e6f-ac62-4ad4-89d9-7f6f9b56bf7a",
      "metadata": {
        "id": "11640e6f-ac62-4ad4-89d9-7f6f9b56bf7a"
      },
      "source": [
        "In this case, `b`, `b2`, and `c` are all part of the same step.\n",
        "\n",
        "The graph will wait for all of these to be completed before proceeding to step `d`."
      ]
    },
    {
      "cell_type": "code",
      "execution_count": null,
      "id": "fafda930-e75b-410f-ba93-eb5fc0219303",
      "metadata": {
        "colab": {
          "base_uri": "https://localhost:8080/"
        },
        "id": "fafda930-e75b-410f-ba93-eb5fc0219303",
        "outputId": "d8657964-a75f-4fe7-8fd7-3c5353390aca"
      },
      "outputs": [
        {
          "output_type": "stream",
          "name": "stdout",
          "text": [
            "Adding I'm A to []\n",
            "Adding I'm B to [\"I'm A\"]\n",
            "Adding I'm C to [\"I'm A\"]\n",
            "Adding I'm B2 to [\"I'm A\", \"I'm B\", \"I'm C\"]\n",
            "Adding I'm D to [\"I'm A\", \"I'm B\", \"I'm C\", \"I'm B2\"]\n"
          ]
        },
        {
          "output_type": "execute_result",
          "data": {
            "text/plain": [
              "{'state': [\"I'm A\", \"I'm B\", \"I'm C\", \"I'm B2\", \"I'm D\"]}"
            ]
          },
          "metadata": {},
          "execution_count": 10
        }
      ],
      "source": [
        "graph.invoke({\"state\": []})"
      ]
    },
    {
      "cell_type": "markdown",
      "id": "6610a2e3-b053-47e8-bf4e-0968dfaa0a5d",
      "metadata": {
        "id": "6610a2e3-b053-47e8-bf4e-0968dfaa0a5d"
      },
      "source": [
        "## Setting the order of state updates\n",
        "\n",
        "However, within each step we don't have specific control over the order of the state updates!\n",
        "\n",
        "In simple terms, it is a deterministic order determined by LangGraph based upon graph topology that **we do not control**.\n",
        "\n",
        "Above, we see that `c` is added before `b2`.\n",
        "\n",
        "However, we can use a custom reducer to customize this e.g., sort state updates."
      ]
    },
    {
      "cell_type": "code",
      "execution_count": null,
      "id": "24788e73-0950-432e-ad32-7987ea076529",
      "metadata": {
        "colab": {
          "base_uri": "https://localhost:8080/",
          "height": 548
        },
        "id": "24788e73-0950-432e-ad32-7987ea076529",
        "outputId": "55a5c19d-3258-486c-fce4-d786c8d64b43"
      },
      "outputs": [
        {
          "output_type": "display_data",
          "data": {
            "image/png": "[encoded data removed]",
            "text/plain": [
              "<IPython.core.display.Image object>"
            ]
          },
          "metadata": {}
        }
      ],
      "source": [
        "def sorting_reducer(left, right):\n",
        "    \"\"\" Combines and sorts the values in a list\"\"\"\n",
        "    if not isinstance(left, list):\n",
        "        left = [left]\n",
        "\n",
        "    if not isinstance(right, list):\n",
        "        right = [right]\n",
        "\n",
        "    return sorted(left + right, reverse=False)\n",
        "\n",
        "class State(TypedDict):\n",
        "    # sorting_reducer will sort the values in state\n",
        "    state: Annotated[list, sorting_reducer]\n",
        "\n",
        "# Add nodes\n",
        "builder = StateGraph(State)\n",
        "\n",
        "# Initialize each node with node_secret\n",
        "builder.add_node(\"a\", ReturnNodeValue(\"I'm A\"))\n",
        "builder.add_node(\"b\", ReturnNodeValue(\"I'm B\"))\n",
        "builder.add_node(\"b2\", ReturnNodeValue(\"I'm B2\"))\n",
        "builder.add_node(\"c\", ReturnNodeValue(\"I'm C\"))\n",
        "builder.add_node(\"d\", ReturnNodeValue(\"I'm D\"))\n",
        "\n",
        "# Flow\n",
        "builder.add_edge(START, \"a\")\n",
        "builder.add_edge(\"a\", \"b\")\n",
        "builder.add_edge(\"a\", \"c\")\n",
        "builder.add_edge(\"b\", \"b2\")\n",
        "builder.add_edge([\"b2\", \"c\"], \"d\")\n",
        "builder.add_edge(\"d\", END)\n",
        "graph = builder.compile()\n",
        "\n",
        "display(Image(graph.get_graph().draw_mermaid_png()))"
      ]
    },
    {
      "cell_type": "code",
      "execution_count": null,
      "id": "607dba2e-f9f0-4bc7-8ba6-684521a49bdc",
      "metadata": {
        "colab": {
          "base_uri": "https://localhost:8080/"
        },
        "id": "607dba2e-f9f0-4bc7-8ba6-684521a49bdc",
        "outputId": "25d06e16-fbb7-44ba-b536-327f85855013"
      },
      "outputs": [
        {
          "output_type": "stream",
          "name": "stdout",
          "text": [
            "Adding I'm A to []\n",
            "Adding I'm B to [\"I'm A\"]\n",
            "Adding I'm C to [\"I'm A\"]\n",
            "Adding I'm B2 to [\"I'm A\", \"I'm B\", \"I'm C\"]\n",
            "Adding I'm D to [\"I'm A\", \"I'm B\", \"I'm B2\", \"I'm C\"]\n"
          ]
        },
        {
          "output_type": "execute_result",
          "data": {
            "text/plain": [
              "{'state': [\"I'm A\", \"I'm B\", \"I'm B2\", \"I'm C\", \"I'm D\"]}"
            ]
          },
          "metadata": {},
          "execution_count": 12
        }
      ],
      "source": [
        "graph.invoke({\"state\": []})"
      ]
    },
    {
      "cell_type": "markdown",
      "id": "fb1714c0-e881-48e7-bcb8-a60016f0485e",
      "metadata": {
        "id": "fb1714c0-e881-48e7-bcb8-a60016f0485e"
      },
      "source": [
        "Now, the reducer sorts the updated state values!\n",
        "\n",
        "The `sorting_reducer` example sorts all values globally. We can also:\n",
        "\n",
        "1. Write outputs to a separate field in the state during the parallel step\n",
        "2. Use a \"sink\" node after the parallel step to combine and order those outputs\n",
        "3. Clear the temporary field after combining\n",
        "\n",
        "See the [docs](https://langchain-ai.github.io/langgraph/how-tos/branching/#stable-sorting) for more details.\n"
      ]
    },
    {
      "cell_type": "markdown",
      "id": "34e0750b-e6af-40d9-835c-c664da5a2d3b",
      "metadata": {
        "id": "34e0750b-e6af-40d9-835c-c664da5a2d3b"
      },
      "source": [
        "## Working with LLMs\n",
        "\n",
        "Now, lets add a realistic example!\n",
        "\n",
        "We want to gather context from two external sources (Wikipedia and Web-Search) and have an LLM answer a question."
      ]
    },
    {
      "cell_type": "code",
      "execution_count": null,
      "id": "e1e9d03c-cb41-415c-862d-c9616d5a2d07",
      "metadata": {
        "id": "e1e9d03c-cb41-415c-862d-c9616d5a2d07"
      },
      "outputs": [],
      "source": [
        "from langchain_openai import ChatOpenAI\n",
        "llm = ChatOpenAI(model=\"gpt-4o\", temperature=0)"
      ]
    },
    {
      "cell_type": "code",
      "execution_count": 12,
      "id": "0f75cc78-d1a1-47a5-8648-bf5a79c883de",
      "metadata": {
        "id": "0f75cc78-d1a1-47a5-8648-bf5a79c883de"
      },
      "outputs": [],
      "source": [
        "import operator\n",
        "from typing import Annotated\n",
        "\n",
        "class CalculatorState(TypedDict):\n",
        "    input_value: float\n",
        "    sum_result: float\n",
        "    product_result: float\n",
        "    context: Annotated[list, operator.add]\n",
        "    answer: str"
      ]
    },
    {
      "cell_type": "markdown",
      "id": "9e714ea8-095c-461a-98bc-ee782a84ef5c",
      "metadata": {
        "id": "9e714ea8-095c-461a-98bc-ee782a84ef5c"
      },
      "source": [
        "You can try different web search tools. [Tavily](https://tavily.com/) is one nice option to consider, but ensure your `TAVILY_API_KEY` is set."
      ]
    },
    {
      "cell_type": "code",
      "execution_count": null,
      "id": "c8bb519a-d08a-4ec7-8f0b-2ce6a9bf7342",
      "metadata": {
        "colab": {
          "base_uri": "https://localhost:8080/"
        },
        "id": "c8bb519a-d08a-4ec7-8f0b-2ce6a9bf7342",
        "outputId": "e6ee33d5-6fba-4dfb-e122-19490cfda24c"
      },
      "outputs": [
        {
          "name": "stdout",
          "output_type": "stream",
          "text": [
            "TAVILY_API_KEY: ··········\n"
          ]
        }
      ],
      "source": [
        "import os, getpass\n",
        "def _set_env(var: str):\n",
        "    if not os.environ.get(var):\n",
        "        os.environ[var] = getpass.getpass(f\"{var}: \")\n",
        "_set_env(\"TAVILY_API_KEY\")"
      ]
    },
    {
      "cell_type": "code",
      "execution_count": null,
      "id": "bfb4f56c-3334-4927-8ed8-62fd384ee43e",
      "metadata": {
        "colab": {
          "base_uri": "https://localhost:8080/",
          "height": 350
        },
        "id": "bfb4f56c-3334-4927-8ed8-62fd384ee43e",
        "outputId": "01fb93d9-80f7-4543-8b5a-f56a97bcf69d"
      },
      "outputs": [
        {
          "output_type": "display_data",
          "data": {
            "image/png": "[encoded data removed]",
            "text/plain": [
              "<IPython.core.display.Image object>"
            ]
          },
          "metadata": {}
        }
      ],
      "source": [
        "from langchain_core.messages import HumanMessage, SystemMessage\n",
        "\n",
        "from langchain_community.document_loaders import WikipediaLoader\n",
        "from langchain_community.tools import TavilySearchResults\n",
        "\n",
        "def search_web(state):\n",
        "\n",
        "    \"\"\" Retrieve docs from web search \"\"\"\n",
        "\n",
        "    # Search\n",
        "    tavily_search = TavilySearchResults(max_results=3)\n",
        "    search_docs = tavily_search.invoke(state['question'])\n",
        "\n",
        "     # Format\n",
        "    formatted_search_docs = \"\\n\\n---\\n\\n\".join(\n",
        "        [\n",
        "            f'<Document href=\"{doc[\"url\"]}\">\\n{doc[\"content\"]}\\n</Document>'\n",
        "            for doc in search_docs\n",
        "        ]\n",
        "    )\n",
        "\n",
        "    return {\"context\": [formatted_search_docs]}\n",
        "\n",
        "def search_wikipedia(state):\n",
        "\n",
        "    \"\"\" Retrieve docs from wikipedia \"\"\"\n",
        "\n",
        "    # Search\n",
        "    search_docs = WikipediaLoader(query=state['question'],\n",
        "                                  load_max_docs=2).load()\n",
        "\n",
        "     # Format\n",
        "    formatted_search_docs = \"\\n\\n---\\n\\n\".join(\n",
        "        [\n",
        "            f'<Document source=\"{doc.metadata[\"source\"]}\" page=\"{doc.metadata.get(\"page\", \"\")}\">\\n{doc.page_content}\\n</Document>'\n",
        "            for doc in search_docs\n",
        "        ]\n",
        "    )\n",
        "\n",
        "    return {\"context\": [formatted_search_docs]}\n",
        "\n",
        "def generate_answer(state):\n",
        "\n",
        "    \"\"\" Node to answer a question \"\"\"\n",
        "\n",
        "    # Get state\n",
        "    context = state[\"context\"]\n",
        "    question = state[\"question\"]\n",
        "\n",
        "    # Template\n",
        "    answer_template = \"\"\"Answer the question {question} using this context: {context}\"\"\"\n",
        "    answer_instructions = answer_template.format(question=question,\n",
        "                                                       context=context)\n",
        "\n",
        "    # Answer\n",
        "    answer = llm.invoke([SystemMessage(content=answer_instructions)]+[HumanMessage(content=f\"Answer the question.\")])\n",
        "\n",
        "    # Append it to state\n",
        "    return {\"answer\": answer}\n",
        "\n",
        "# Add nodes\n",
        "builder = StateGraph(State)\n",
        "\n",
        "# Initialize each node with node_secret\n",
        "builder.add_node(\"search_web\",search_web)\n",
        "builder.add_node(\"search_wikipedia\", search_wikipedia)\n",
        "builder.add_node(\"generate_answer\", generate_answer)\n",
        "\n",
        "# Flow\n",
        "builder.add_edge(START, \"search_wikipedia\")\n",
        "builder.add_edge(START, \"search_web\")\n",
        "builder.add_edge(\"search_wikipedia\", \"generate_answer\")\n",
        "builder.add_edge(\"search_web\", \"generate_answer\")\n",
        "builder.add_edge(\"generate_answer\", END)\n",
        "graph = builder.compile()\n",
        "\n",
        "display(Image(graph.get_graph().draw_mermaid_png()))"
      ]
    },
    {
      "cell_type": "code",
      "source": [
        "from langchain_core.messages import HumanMessage, SystemMessage\n",
        "class SumNode:\n",
        "    \"\"\"Calculates a sum and writes to a unique state key.\"\"\"\n",
        "    def __init__(self, value: float):\n",
        "        self._value = value\n",
        "\n",
        "    def __call__(self, state: CalculatorState) -> Any:\n",
        "        initial_value = state.get('input_value', 0)\n",
        "        sum_result = initial_value + self._value\n",
        "        print(f\"Sum Node: {initial_value} + {self._value} = {sum_result}\")\n",
        "        return {\"sum_result\": sum_result, \"context\": [f\"Calculated Sum: {sum_result}\"]}\n",
        "\n",
        "class ProductNode:\n",
        "    \"\"\"Calculates a product and writes to a unique state key.\"\"\"\n",
        "    def __init__(self, value: float):\n",
        "        self._value = value\n",
        "\n",
        "    def __call__(self, state: CalculatorState) -> Any:\n",
        "        initial_value = state.get('input_value', 0)\n",
        "        product_result = initial_value * self._value\n",
        "        print(f\"Product Node: {initial_value} * {self._value} = {product_result}\")\n",
        "        return {\"product_result\": product_result, \"context\": [f\"Calculated Product: {product_result}\"]}\n",
        "\n",
        "def generate_answer(state):\n",
        "    \"\"\" Node to format the final answer (or perform the final calculation) \"\"\"\n",
        "    context = state[\"context\"]\n",
        "    input_value = state[\"input_value\"]\n",
        "    sum_result = state[\"sum_result\"]\n",
        "    product_result = state[\"product_result\"]\n",
        "\n",
        "    answer_text = (\n",
        "        f\"For the input value {input_value}:\\n\"\n",
        "        f\"1. Parallel Operation 1 (Sum): The result is {sum_result}.\\n\"\n",
        "        f\"2. Parallel Operation 2 (Product): The result is {product_result}.\\n\"\n",
        "        f\"Context gathered: {context}\"\n",
        "    )\n",
        "\n",
        "    class MockMessage:\n",
        "        def __init__(self, content):\n",
        "            self.content = content\n",
        "        def __repr__(self):\n",
        "            return self.content\n",
        "\n",
        "    answer = MockMessage(content=answer_text)\n",
        "\n",
        "    return {\"answer\": answer}\n",
        "\n",
        "# Add nodes\n",
        "builder = StateGraph(CalculatorState)\n",
        "\n",
        "# Initialize each node\n",
        "builder.add_node(\"sum_calc\", SumNode(5.0))\n",
        "builder.add_node(\"product_calc\", ProductNode(2.0))\n",
        "builder.add_node(\"generate_answer\", generate_answer)\n",
        "\n",
        "# Flow\n",
        "builder.add_edge(START, \"sum_calc\")\n",
        "builder.add_edge(START, \"product_calc\")\n",
        "builder.add_edge(\"sum_calc\", \"generate_answer\")\n",
        "builder.add_edge(\"product_calc\", \"generate_answer\")\n",
        "builder.add_edge(\"generate_answer\", END)\n",
        "graph = builder.compile()\n",
        "\n",
        "display(Image(graph.get_graph().draw_mermaid_png()))"
      ],
      "metadata": {
        "colab": {
          "base_uri": "https://localhost:8080/",
          "height": 350
        },
        "id": "ouPwmIM_EzB9",
        "outputId": "64abccbb-45e9-4520-8504-e31ae962afce"
      },
      "id": "ouPwmIM_EzB9",
      "execution_count": 13,
      "outputs": [
        {
          "output_type": "display_data",
          "data": {
            "image/png": "[encoded data removed]",
            "text/plain": [
              "<IPython.core.display.Image object>"
            ]
          },
          "metadata": {}
        }
      ]
    },
    {
      "cell_type": "code",
      "execution_count": null,
      "id": "fa544ca0-10af-491e-ad7a-477d004413eb",
      "metadata": {
        "colab": {
          "base_uri": "https://localhost:8080/",
          "height": 163
        },
        "id": "fa544ca0-10af-491e-ad7a-477d004413eb",
        "outputId": "500d8c47-965f-4fab-a410-8e3e11944485"
      },
      "outputs": [
        {
          "output_type": "stream",
          "name": "stderr",
          "text": [
            "/tmp/ipython-input-3921850799.py:11: LangChainDeprecationWarning: The class `TavilySearchResults` was deprecated in LangChain 0.3.25 and will be removed in 1.0. An updated version of the class exists in the `langchain-tavily package and should be used instead. To use it run `pip install -U `langchain-tavily` and import as `from `langchain_tavily import TavilySearch``.\n",
            "  tavily_search = TavilySearchResults(max_results=3)\n"
          ]
        },
        {
          "output_type": "execute_result",
          "data": {
            "text/plain": [
              "\"Nvidia's Q2 2024 earnings were strong, as the company reported earnings of $2.70 per share, adjusted, which exceeded the expected $2.09 per share. Revenue was $13.51 billion, surpassing the expected $11.22 billion. The company's performance was driven by its data center business, which includes AI chips, with revenue for this group reaching $10.32 billion, up 171% year over year and above the $8.03 billion estimate. Nvidia's gaming division also saw a revenue increase of 22% from a year earlier. Overall, Nvidia's earnings beat estimates, and the company issued optimistic guidance for the current period, leading to a 6% increase in its shares in extended trading.\""
            ],
            "application/vnd.google.colaboratory.intrinsic+json": {
              "type": "string"
            }
          },
          "metadata": {},
          "execution_count": 17
        }
      ],
      "source": [
        "result = graph.invoke({\"question\": \"How were Nvidia's Q2 2024 earnings\"})\n",
        "result['answer'].content"
      ]
    },
    {
      "cell_type": "code",
      "source": [
        "result = graph.invoke({\"input_value\": 10.0, \"context\": []})\n",
        "print(result['answer'].content)"
      ],
      "metadata": {
        "colab": {
          "base_uri": "https://localhost:8080/"
        },
        "id": "My-nB-0lE3gb",
        "outputId": "fff06f6b-bcd6-4085-8037-a5e4085d56e2"
      },
      "id": "My-nB-0lE3gb",
      "execution_count": 14,
      "outputs": [
        {
          "output_type": "stream",
          "name": "stdout",
          "text": [
            "Product Node: 10.0 * 2.0 = 20.0\n",
            "Sum Node: 10.0 + 5.0 = 15.0\n",
            "For the input value 10.0:\n",
            "1. Parallel Operation 1 (Sum): The result is 15.0.\n",
            "2. Parallel Operation 2 (Product): The result is 20.0.\n",
            "Context gathered: ['Calculated Product: 20.0', 'Calculated Sum: 15.0']\n"
          ]
        }
      ]
    },
    {
      "cell_type": "markdown",
      "id": "3dbbecab-80eb-4f0c-b43a-45542fc0ae9c",
      "metadata": {
        "id": "3dbbecab-80eb-4f0c-b43a-45542fc0ae9c"
      },
      "source": [
        "## Using with LangGraph API\n",
        "\n",
        "**⚠️ DISCLAIMER**\n",
        "\n",
        "Since the filming of these videos, we've updated Studio so that it can be run locally and opened in your browser. This is now the preferred way to run Studio (rather than using the Desktop App as shown in the video). See documentation [here](https://langchain-ai.github.io/langgraph/concepts/langgraph_studio/#local-development-server) on the local development server and [here](https://langchain-ai.github.io/langgraph/how-tos/local-studio/#run-the-development-server). To start the local development server, run the following command in your terminal in the `/studio` directory in this module:\n",
        "\n",
        "```\n",
        "langgraph dev\n",
        "```\n",
        "\n",
        "You should see the following output:\n",
        "```\n",
        "- 🚀 API: http://127.0.0.1:2024\n",
        "- 🎨 Studio UI: https://smith.langchain.com/studio/?baseUrl=http://127.0.0.1:2024\n",
        "- 📚 API Docs: http://127.0.0.1:2024/docs\n",
        "```\n",
        "\n",
        "Open your browser and navigate to the Studio UI: `https://smith.langchain.com/studio/?baseUrl=http://127.0.0.1:2024`."
      ]
    },
    {
      "cell_type": "code",
      "execution_count": null,
      "id": "4bc8ad8d-1365-4801-a8a5-b85cd4965119",
      "metadata": {
        "id": "4bc8ad8d-1365-4801-a8a5-b85cd4965119"
      },
      "outputs": [],
      "source": [
        "if 'google.colab' in str(get_ipython()):\n",
        "    raise Exception(\"Unfortunately LangGraph Studio is currently not supported on Google Colab\")"
      ]
    },
    {
      "cell_type": "code",
      "execution_count": null,
      "id": "23919dc9-27d8-4d10-b91d-24acdf8c0fb9",
      "metadata": {
        "id": "23919dc9-27d8-4d10-b91d-24acdf8c0fb9"
      },
      "outputs": [],
      "source": [
        "from langgraph_sdk import get_client\n",
        "client = get_client(url=\"http://127.0.0.1:2024\")"
      ]
    },
    {
      "cell_type": "code",
      "execution_count": null,
      "id": "ff35e68f-4017-4f45-93cf-ddbb355a0bc1",
      "metadata": {
        "id": "ff35e68f-4017-4f45-93cf-ddbb355a0bc1",
        "outputId": "270fe424-b068-477d-d7f3-48d0bd22170f"
      },
      "outputs": [
        {
          "name": "stdout",
          "output_type": "stream",
          "text": [
            "Nvidia's Q2 2024 earnings were strong, showcasing record revenue and a robust performance in its data center division. The company reported revenue of $30.0 billion, which was up 15% from the previous quarter and up 122% from a year ago. GAAP earnings per diluted share were $0.67, up 12% from the previous quarter and up 168% from a year ago. Non-GAAP earnings per diluted share were $0.68, up 11% from the previous quarter and up 152% from a year ago. However, the gross margin saw a decline from 78% in Q1 to 75% in Q2, which could indicate higher production costs or more aggressive pricing strategies. Despite this, Nvidia remains a dominant force in the AI chip sector.\n"
          ]
        }
      ],
      "source": [
        "thread = await client.threads.create()\n",
        "input_question = {\"question\": \"How were Nvidia Q2 2024 earnings?\"}\n",
        "async for event in client.runs.stream(thread[\"thread_id\"],\n",
        "                                      assistant_id=\"parallelization\",\n",
        "                                      input=input_question,\n",
        "                                      stream_mode=\"values\"):\n",
        "    # Check if answer has been added to state\n",
        "    if event.data is not None:\n",
        "        answer = event.data.get('answer', None)\n",
        "        if answer:\n",
        "            print(answer['content'])"
      ]
    },
    {
      "cell_type": "code",
      "execution_count": null,
      "id": "54da0234-bddb-4c5b-9b93-b75b7c824d3b",
      "metadata": {
        "id": "54da0234-bddb-4c5b-9b93-b75b7c824d3b"
      },
      "outputs": [],
      "source": []
    }
  ],
  "metadata": {
    "kernelspec": {
      "display_name": "Python 3 (ipykernel)",
      "language": "python",
      "name": "python3"
    },
    "language_info": {
      "codemirror_mode": {
        "name": "ipython",
        "version": 3
      },
      "file_extension": ".py",
      "mimetype": "text/x-python",
      "name": "python",
      "nbconvert_exporter": "python",
      "pygments_lexer": "ipython3",
      "version": "3.11.13"
    },
    "colab": {
      "provenance": []
    }
  },
  "nbformat": 4,
  "nbformat_minor": 5
}